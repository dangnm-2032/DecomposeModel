{
 "cells": [
  {
   "cell_type": "code",
   "execution_count": 1,
   "metadata": {},
   "outputs": [
    {
     "name": "stderr",
     "output_type": "stream",
     "text": [
      "C:\\Users\\minhd\\AppData\\Local\\Packages\\PythonSoftwareFoundation.Python.3.11_qbz5n2kfra8p0\\LocalCache\\local-packages\\Python311\\site-packages\\tqdm\\auto.py:21: TqdmWarning: IProgress not found. Please update jupyter and ipywidgets. See https://ipywidgets.readthedocs.io/en/stable/user_install.html\n",
      "  from .autonotebook import tqdm as notebook_tqdm\n"
     ]
    }
   ],
   "source": [
    "from datasets import load_from_disk"
   ]
  },
  {
   "cell_type": "code",
   "execution_count": 3,
   "metadata": {},
   "outputs": [
    {
     "data": {
      "text/plain": [
       "DatasetDict({\n",
       "    train: Dataset({\n",
       "        features: ['field', 'entities', 'complex_question', 'triplets', 'answer'],\n",
       "        num_rows: 28856\n",
       "    })\n",
       "    validation: Dataset({\n",
       "        features: ['field', 'entities', 'complex_question', 'triplets', 'answer'],\n",
       "        num_rows: 7214\n",
       "    })\n",
       "})"
      ]
     },
     "execution_count": 3,
     "metadata": {},
     "output_type": "execute_result"
    }
   ],
   "source": [
    "dataset = load_from_disk(\"question_dataset\\question_dataset\")\n",
    "dataset"
   ]
  },
  {
   "cell_type": "code",
   "execution_count": 4,
   "metadata": {},
   "outputs": [
    {
     "data": {
      "text/plain": [
       "{'field': 'Đầu tư',\n",
       " 'entities': [],\n",
       " 'complex_question': 'Bạn ơi sắp tới công ty mình hợp tác với nhà đầu tư nước ngoài, không có trụ sở hay chi nhánh ở Việt Nam. Bên mình làm dịch vụ lắp ráp máy móc cho công ty đó địa điểm lắp máy tại Việt Nam. Ban tư vấn cho mình hỏi khi hợp tác với nhà đầu tư nước ngoài như vậy thì cần lưu ý những vấn đề gì?',\n",
       " 'triplets': [{'question': 'Khi doanh nghiệp trong nước hợp tác với nhà đầu tư nước ngoài thì cần phải lưu ý những quy định nào?'},\n",
       "  {'question': 'Nhà đầu tư nước ngoài được áp dụng điều kiện tiếp cận thị trường như quy định đối với nhà đầu tư trong nước không?'},\n",
       "  {'question': 'Khi nhà đầu tư nước ngoài và nhà đầu tư trong nước có tranh chấp thì việc giải quyết được thực hiện ở đâu?'}],\n",
       " 'answer': ''}"
      ]
     },
     "execution_count": 4,
     "metadata": {},
     "output_type": "execute_result"
    }
   ],
   "source": [
    "dataset['train'][]"
   ]
  }
 ],
 "metadata": {
  "kernelspec": {
   "display_name": "Python 3",
   "language": "python",
   "name": "python3"
  },
  "language_info": {
   "codemirror_mode": {
    "name": "ipython",
    "version": 3
   },
   "file_extension": ".py",
   "mimetype": "text/x-python",
   "name": "python",
   "nbconvert_exporter": "python",
   "pygments_lexer": "ipython3",
   "version": "3.11.6"
  }
 },
 "nbformat": 4,
 "nbformat_minor": 2
}
