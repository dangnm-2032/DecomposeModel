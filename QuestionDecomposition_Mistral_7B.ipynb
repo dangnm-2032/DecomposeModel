{
  "cells": [
    {
      "cell_type": "markdown",
      "metadata": {
        "id": "7IqtjtGCwSw2"
      },
      "source": [
        "<img src=\"https://res.cloudinary.com/dbl53sidm/image/upload/v1696398508/mistral-7b-v0.1_opibjl.jpg\" width=\"100%\">\n",
        "\n",
        "## Instruct Fine-tuning [Mistral 7B Instruct](https://mistral.ai/news/announcing-mistral-7b/) using qLora and Supervise Finetuning\n",
        "\n",
        "This is a comprahensive notebook and tutorial on how to fine tune the Mistral-7b-Instruct Model\n",
        "\n",
        "## Meet Mistral 7B Instruct\n",
        "\n",
        "The team at [MistralAI](https://mistral.ai/news/announcing-mistral-) has created an exceptional language model called Mistral 7B Instruct. It has consistently delivered outstanding results in a range of benchmarks, which positions it as an ideal option for natural language generation and understanding. This guide will concentrate on how to fine-tune the model for coding purposes, but the methodology can effectively be applied to other tasks.\n",
        "\n",
        "All the code will be available on the Github [adithya-s-k](https://github.com/adithya-s-k)"
      ]
    },
    {
      "cell_type": "markdown",
      "metadata": {
        "id": "qmOtMHhZwm--"
      },
      "source": [
        "## Prerequisites\n",
        "\n",
        "Before diving into the fine-tuning process, make sure you have the following prerequisites in place:\n",
        "\n",
        "1. **GPU**: While this tutorial can run on a free Google Colab notebook with a GPU, it's recommended to use more powerful GPUs like V100 or A100 for better performance.\n",
        "2. **Python Packages**: Ensure you have the required Python packages installed. You can run the following commands to install them:\n",
        "\n",
        "Let's start by checking if your GPU is correctly detected:"
      ]
    },
    {
      "cell_type": "code",
      "execution_count": 2,
      "metadata": {
        "colab": {
          "base_uri": "https://localhost:8080/"
        },
        "id": "DTfDi3RKw50e",
        "outputId": "e22601cb-fc15-4184-a0e6-4c579fbe2320"
      },
      "outputs": [
        {
          "name": "stdout",
          "output_type": "stream",
          "text": [
            "Wed Nov 22 09:28:36 2023       \n",
            "+-----------------------------------------------------------------------------+\n",
            "| NVIDIA-SMI 462.75       Driver Version: 462.75       CUDA Version: 11.2     |\n",
            "|-------------------------------+----------------------+----------------------+\n",
            "| GPU  Name            TCC/WDDM | Bus-Id        Disp.A | Volatile Uncorr. ECC |\n",
            "| Fan  Temp  Perf  Pwr:Usage/Cap|         Memory-Usage | GPU-Util  Compute M. |\n",
            "|                               |                      |               MIG M. |\n",
            "|===============================+======================+======================|\n",
            "|   0  GeForce RTX 305... WDDM  | 00000000:01:00.0 Off |                  N/A |\n",
            "| N/A   58C    P0    13W /  N/A |    105MiB /  4096MiB |      0%      Default |\n",
            "|                               |                      |                  N/A |\n",
            "+-------------------------------+----------------------+----------------------+\n",
            "                                                                               \n",
            "+-----------------------------------------------------------------------------+\n",
            "| Processes:                                                                  |\n",
            "|  GPU   GI   CI        PID   Type   Process name                  GPU Memory |\n",
            "|        ID   ID                                                   Usage      |\n",
            "|=============================================================================|\n",
            "|  No running processes found                                                 |\n",
            "+-----------------------------------------------------------------------------+\n"
          ]
        }
      ],
      "source": [
        "!nvidia-smi"
      ]
    },
    {
      "cell_type": "markdown",
      "metadata": {
        "id": "QyuIUsT8P19n"
      },
      "source": [
        "## Lets Get Started\n",
        "\n",
        "Let install the python packages"
      ]
    },
    {
      "cell_type": "code",
      "execution_count": 3,
      "metadata": {
        "colab": {
          "base_uri": "https://localhost:8080/"
        },
        "id": "MPpqdH5pwEJu",
        "outputId": "753a4d1d-e268-40bd-a928-56c1ac1bf8b8"
      },
      "outputs": [
        {
          "name": "stdout",
          "output_type": "stream",
          "text": [
            "Requirement already satisfied: torch in c:\\users\\minhd\\appdata\\local\\packages\\pythonsoftwarefoundation.python.3.11_qbz5n2kfra8p0\\localcache\\local-packages\\python311\\site-packages (2.1.0+cu118)\n",
            "Requirement already satisfied: transformers in c:\\users\\minhd\\appdata\\local\\packages\\pythonsoftwarefoundation.python.3.11_qbz5n2kfra8p0\\localcache\\local-packages\\python311\\site-packages (4.34.1)\n",
            "Requirement already satisfied: datasets in c:\\users\\minhd\\appdata\\local\\packages\\pythonsoftwarefoundation.python.3.11_qbz5n2kfra8p0\\localcache\\local-packages\\python311\\site-packages (2.14.6)\n",
            "Collecting peft\n",
            "  Downloading peft-0.6.2-py3-none-any.whl.metadata (23 kB)\n",
            "Collecting bitsandbytes\n",
            "  Downloading bitsandbytes-0.41.2.post2-py3-none-any.whl.metadata (9.8 kB)\n",
            "Collecting trl\n",
            "  Downloading trl-0.7.4-py3-none-any.whl.metadata (10 kB)\n",
            "Collecting wandb\n",
            "  Downloading wandb-0.16.0-py3-none-any.whl.metadata (9.8 kB)\n",
            "Requirement already satisfied: gdown in c:\\users\\minhd\\appdata\\local\\packages\\pythonsoftwarefoundation.python.3.11_qbz5n2kfra8p0\\localcache\\local-packages\\python311\\site-packages (4.7.1)\n",
            "Requirement already satisfied: filelock in c:\\users\\minhd\\appdata\\local\\packages\\pythonsoftwarefoundation.python.3.11_qbz5n2kfra8p0\\localcache\\local-packages\\python311\\site-packages (from torch) (3.12.4)\n",
            "Requirement already satisfied: typing-extensions in c:\\users\\minhd\\appdata\\local\\packages\\pythonsoftwarefoundation.python.3.11_qbz5n2kfra8p0\\localcache\\local-packages\\python311\\site-packages (from torch) (4.8.0)\n",
            "Requirement already satisfied: sympy in c:\\users\\minhd\\appdata\\local\\packages\\pythonsoftwarefoundation.python.3.11_qbz5n2kfra8p0\\localcache\\local-packages\\python311\\site-packages (from torch) (1.12)\n",
            "Requirement already satisfied: networkx in c:\\users\\minhd\\appdata\\local\\packages\\pythonsoftwarefoundation.python.3.11_qbz5n2kfra8p0\\localcache\\local-packages\\python311\\site-packages (from torch) (3.2)\n",
            "Requirement already satisfied: jinja2 in c:\\users\\minhd\\appdata\\local\\packages\\pythonsoftwarefoundation.python.3.11_qbz5n2kfra8p0\\localcache\\local-packages\\python311\\site-packages (from torch) (3.1.2)\n",
            "Requirement already satisfied: fsspec in c:\\users\\minhd\\appdata\\local\\packages\\pythonsoftwarefoundation.python.3.11_qbz5n2kfra8p0\\localcache\\local-packages\\python311\\site-packages (from torch) (2023.10.0)\n",
            "Requirement already satisfied: huggingface-hub<1.0,>=0.16.4 in c:\\users\\minhd\\appdata\\local\\packages\\pythonsoftwarefoundation.python.3.11_qbz5n2kfra8p0\\localcache\\local-packages\\python311\\site-packages (from transformers) (0.17.3)\n",
            "Requirement already satisfied: numpy>=1.17 in c:\\users\\minhd\\appdata\\local\\packages\\pythonsoftwarefoundation.python.3.11_qbz5n2kfra8p0\\localcache\\local-packages\\python311\\site-packages (from transformers) (1.26.1)\n",
            "Requirement already satisfied: packaging>=20.0 in c:\\users\\minhd\\appdata\\local\\packages\\pythonsoftwarefoundation.python.3.11_qbz5n2kfra8p0\\localcache\\local-packages\\python311\\site-packages (from transformers) (23.2)\n",
            "Requirement already satisfied: pyyaml>=5.1 in c:\\users\\minhd\\appdata\\local\\packages\\pythonsoftwarefoundation.python.3.11_qbz5n2kfra8p0\\localcache\\local-packages\\python311\\site-packages (from transformers) (6.0.1)\n",
            "Requirement already satisfied: regex!=2019.12.17 in c:\\users\\minhd\\appdata\\local\\packages\\pythonsoftwarefoundation.python.3.11_qbz5n2kfra8p0\\localcache\\local-packages\\python311\\site-packages (from transformers) (2023.10.3)\n",
            "Requirement already satisfied: requests in c:\\users\\minhd\\appdata\\local\\packages\\pythonsoftwarefoundation.python.3.11_qbz5n2kfra8p0\\localcache\\local-packages\\python311\\site-packages (from transformers) (2.31.0)\n",
            "Requirement already satisfied: tokenizers<0.15,>=0.14 in c:\\users\\minhd\\appdata\\local\\packages\\pythonsoftwarefoundation.python.3.11_qbz5n2kfra8p0\\localcache\\local-packages\\python311\\site-packages (from transformers) (0.14.1)\n",
            "Requirement already satisfied: safetensors>=0.3.1 in c:\\users\\minhd\\appdata\\local\\packages\\pythonsoftwarefoundation.python.3.11_qbz5n2kfra8p0\\localcache\\local-packages\\python311\\site-packages (from transformers) (0.4.0)\n",
            "Requirement already satisfied: tqdm>=4.27 in c:\\users\\minhd\\appdata\\local\\packages\\pythonsoftwarefoundation.python.3.11_qbz5n2kfra8p0\\localcache\\local-packages\\python311\\site-packages (from transformers) (4.66.1)\n",
            "Requirement already satisfied: pyarrow>=8.0.0 in c:\\users\\minhd\\appdata\\local\\packages\\pythonsoftwarefoundation.python.3.11_qbz5n2kfra8p0\\localcache\\local-packages\\python311\\site-packages (from datasets) (13.0.0)\n",
            "Requirement already satisfied: dill<0.3.8,>=0.3.0 in c:\\users\\minhd\\appdata\\local\\packages\\pythonsoftwarefoundation.python.3.11_qbz5n2kfra8p0\\localcache\\local-packages\\python311\\site-packages (from datasets) (0.3.7)\n",
            "Requirement already satisfied: pandas in c:\\users\\minhd\\appdata\\local\\packages\\pythonsoftwarefoundation.python.3.11_qbz5n2kfra8p0\\localcache\\local-packages\\python311\\site-packages (from datasets) (2.1.1)\n",
            "Requirement already satisfied: xxhash in c:\\users\\minhd\\appdata\\local\\packages\\pythonsoftwarefoundation.python.3.11_qbz5n2kfra8p0\\localcache\\local-packages\\python311\\site-packages (from datasets) (3.4.1)\n",
            "Requirement already satisfied: multiprocess in c:\\users\\minhd\\appdata\\local\\packages\\pythonsoftwarefoundation.python.3.11_qbz5n2kfra8p0\\localcache\\local-packages\\python311\\site-packages (from datasets) (0.70.15)\n",
            "Requirement already satisfied: aiohttp in c:\\users\\minhd\\appdata\\local\\packages\\pythonsoftwarefoundation.python.3.11_qbz5n2kfra8p0\\localcache\\local-packages\\python311\\site-packages (from datasets) (3.8.6)\n",
            "Requirement already satisfied: psutil in c:\\users\\minhd\\appdata\\local\\packages\\pythonsoftwarefoundation.python.3.11_qbz5n2kfra8p0\\localcache\\local-packages\\python311\\site-packages (from peft) (5.9.6)\n",
            "Requirement already satisfied: accelerate>=0.21.0 in c:\\users\\minhd\\appdata\\local\\packages\\pythonsoftwarefoundation.python.3.11_qbz5n2kfra8p0\\localcache\\local-packages\\python311\\site-packages (from peft) (0.22.0)\n",
            "Collecting tyro>=0.5.11 (from trl)\n",
            "  Downloading tyro-0.5.17-py3-none-any.whl.metadata (7.5 kB)\n",
            "Requirement already satisfied: Click!=8.0.0,>=7.1 in c:\\users\\minhd\\appdata\\local\\packages\\pythonsoftwarefoundation.python.3.11_qbz5n2kfra8p0\\localcache\\local-packages\\python311\\site-packages (from wandb) (8.1.7)\n",
            "Collecting GitPython!=3.1.29,>=1.0.0 (from wandb)\n",
            "  Downloading GitPython-3.1.40-py3-none-any.whl.metadata (12 kB)\n",
            "Collecting sentry-sdk>=1.0.0 (from wandb)\n",
            "  Downloading sentry_sdk-1.36.0-py2.py3-none-any.whl.metadata (9.7 kB)\n",
            "Collecting docker-pycreds>=0.4.0 (from wandb)\n",
            "  Downloading docker_pycreds-0.4.0-py2.py3-none-any.whl (9.0 kB)\n",
            "Collecting setproctitle (from wandb)\n",
            "  Downloading setproctitle-1.3.3-cp311-cp311-win_amd64.whl.metadata (10 kB)\n",
            "Requirement already satisfied: setuptools in c:\\program files\\windowsapps\\pythonsoftwarefoundation.python.3.11_3.11.1776.0_x64__qbz5n2kfra8p0\\lib\\site-packages (from wandb) (65.5.0)\n",
            "Requirement already satisfied: appdirs>=1.4.3 in c:\\users\\minhd\\appdata\\local\\packages\\pythonsoftwarefoundation.python.3.11_qbz5n2kfra8p0\\localcache\\local-packages\\python311\\site-packages (from wandb) (1.4.4)\n",
            "Requirement already satisfied: protobuf!=4.21.0,<5,>=3.19.0 in c:\\users\\minhd\\appdata\\local\\packages\\pythonsoftwarefoundation.python.3.11_qbz5n2kfra8p0\\localcache\\local-packages\\python311\\site-packages (from wandb) (4.24.4)\n",
            "Requirement already satisfied: six in c:\\users\\minhd\\appdata\\local\\packages\\pythonsoftwarefoundation.python.3.11_qbz5n2kfra8p0\\localcache\\local-packages\\python311\\site-packages (from gdown) (1.16.0)\n",
            "Requirement already satisfied: beautifulsoup4 in c:\\users\\minhd\\appdata\\local\\packages\\pythonsoftwarefoundation.python.3.11_qbz5n2kfra8p0\\localcache\\local-packages\\python311\\site-packages (from gdown) (4.12.2)\n",
            "Requirement already satisfied: colorama in c:\\users\\minhd\\appdata\\local\\packages\\pythonsoftwarefoundation.python.3.11_qbz5n2kfra8p0\\localcache\\local-packages\\python311\\site-packages (from Click!=8.0.0,>=7.1->wandb) (0.4.6)\n",
            "Requirement already satisfied: attrs>=17.3.0 in c:\\users\\minhd\\appdata\\local\\packages\\pythonsoftwarefoundation.python.3.11_qbz5n2kfra8p0\\localcache\\local-packages\\python311\\site-packages (from aiohttp->datasets) (23.1.0)\n",
            "Requirement already satisfied: charset-normalizer<4.0,>=2.0 in c:\\users\\minhd\\appdata\\local\\packages\\pythonsoftwarefoundation.python.3.11_qbz5n2kfra8p0\\localcache\\local-packages\\python311\\site-packages (from aiohttp->datasets) (3.3.1)\n",
            "Requirement already satisfied: multidict<7.0,>=4.5 in c:\\users\\minhd\\appdata\\local\\packages\\pythonsoftwarefoundation.python.3.11_qbz5n2kfra8p0\\localcache\\local-packages\\python311\\site-packages (from aiohttp->datasets) (6.0.4)\n",
            "Requirement already satisfied: async-timeout<5.0,>=4.0.0a3 in c:\\users\\minhd\\appdata\\local\\packages\\pythonsoftwarefoundation.python.3.11_qbz5n2kfra8p0\\localcache\\local-packages\\python311\\site-packages (from aiohttp->datasets) (4.0.3)\n",
            "Requirement already satisfied: yarl<2.0,>=1.0 in c:\\users\\minhd\\appdata\\local\\packages\\pythonsoftwarefoundation.python.3.11_qbz5n2kfra8p0\\localcache\\local-packages\\python311\\site-packages (from aiohttp->datasets) (1.9.2)\n",
            "Requirement already satisfied: frozenlist>=1.1.1 in c:\\users\\minhd\\appdata\\local\\packages\\pythonsoftwarefoundation.python.3.11_qbz5n2kfra8p0\\localcache\\local-packages\\python311\\site-packages (from aiohttp->datasets) (1.4.0)\n",
            "Requirement already satisfied: aiosignal>=1.1.2 in c:\\users\\minhd\\appdata\\local\\packages\\pythonsoftwarefoundation.python.3.11_qbz5n2kfra8p0\\localcache\\local-packages\\python311\\site-packages (from aiohttp->datasets) (1.3.1)\n",
            "Collecting gitdb<5,>=4.0.1 (from GitPython!=3.1.29,>=1.0.0->wandb)\n",
            "  Downloading gitdb-4.0.11-py3-none-any.whl.metadata (1.2 kB)\n",
            "Requirement already satisfied: idna<4,>=2.5 in c:\\users\\minhd\\appdata\\local\\packages\\pythonsoftwarefoundation.python.3.11_qbz5n2kfra8p0\\localcache\\local-packages\\python311\\site-packages (from requests->transformers) (3.4)\n",
            "Requirement already satisfied: urllib3<3,>=1.21.1 in c:\\users\\minhd\\appdata\\local\\packages\\pythonsoftwarefoundation.python.3.11_qbz5n2kfra8p0\\localcache\\local-packages\\python311\\site-packages (from requests->transformers) (2.0.7)\n",
            "Requirement already satisfied: certifi>=2017.4.17 in c:\\users\\minhd\\appdata\\local\\packages\\pythonsoftwarefoundation.python.3.11_qbz5n2kfra8p0\\localcache\\local-packages\\python311\\site-packages (from requests->transformers) (2023.7.22)\n",
            "Collecting docstring-parser>=0.14.1 (from tyro>=0.5.11->trl)\n",
            "  Downloading docstring_parser-0.15-py3-none-any.whl (36 kB)\n",
            "Requirement already satisfied: rich>=11.1.0 in c:\\users\\minhd\\appdata\\local\\packages\\pythonsoftwarefoundation.python.3.11_qbz5n2kfra8p0\\localcache\\local-packages\\python311\\site-packages (from tyro>=0.5.11->trl) (13.6.0)\n",
            "Collecting shtab>=1.5.6 (from tyro>=0.5.11->trl)\n",
            "  Downloading shtab-1.6.4-py3-none-any.whl.metadata (7.3 kB)\n",
            "Requirement already satisfied: soupsieve>1.2 in c:\\users\\minhd\\appdata\\local\\packages\\pythonsoftwarefoundation.python.3.11_qbz5n2kfra8p0\\localcache\\local-packages\\python311\\site-packages (from beautifulsoup4->gdown) (2.5)\n",
            "Requirement already satisfied: MarkupSafe>=2.0 in c:\\users\\minhd\\appdata\\local\\packages\\pythonsoftwarefoundation.python.3.11_qbz5n2kfra8p0\\localcache\\local-packages\\python311\\site-packages (from jinja2->torch) (2.1.3)\n",
            "Requirement already satisfied: python-dateutil>=2.8.2 in c:\\users\\minhd\\appdata\\local\\packages\\pythonsoftwarefoundation.python.3.11_qbz5n2kfra8p0\\localcache\\local-packages\\python311\\site-packages (from pandas->datasets) (2.8.2)\n",
            "Requirement already satisfied: pytz>=2020.1 in c:\\users\\minhd\\appdata\\local\\packages\\pythonsoftwarefoundation.python.3.11_qbz5n2kfra8p0\\localcache\\local-packages\\python311\\site-packages (from pandas->datasets) (2023.3.post1)\n",
            "Requirement already satisfied: tzdata>=2022.1 in c:\\users\\minhd\\appdata\\local\\packages\\pythonsoftwarefoundation.python.3.11_qbz5n2kfra8p0\\localcache\\local-packages\\python311\\site-packages (from pandas->datasets) (2023.3)\n",
            "Requirement already satisfied: PySocks!=1.5.7,>=1.5.6 in c:\\users\\minhd\\appdata\\local\\packages\\pythonsoftwarefoundation.python.3.11_qbz5n2kfra8p0\\localcache\\local-packages\\python311\\site-packages (from requests[socks]->gdown) (1.7.1)\n",
            "Requirement already satisfied: mpmath>=0.19 in c:\\users\\minhd\\appdata\\local\\packages\\pythonsoftwarefoundation.python.3.11_qbz5n2kfra8p0\\localcache\\local-packages\\python311\\site-packages (from sympy->torch) (1.3.0)\n",
            "Collecting smmap<6,>=3.0.1 (from gitdb<5,>=4.0.1->GitPython!=3.1.29,>=1.0.0->wandb)\n",
            "  Downloading smmap-5.0.1-py3-none-any.whl.metadata (4.3 kB)\n",
            "Requirement already satisfied: markdown-it-py>=2.2.0 in c:\\users\\minhd\\appdata\\local\\packages\\pythonsoftwarefoundation.python.3.11_qbz5n2kfra8p0\\localcache\\local-packages\\python311\\site-packages (from rich>=11.1.0->tyro>=0.5.11->trl) (3.0.0)\n",
            "Requirement already satisfied: pygments<3.0.0,>=2.13.0 in c:\\users\\minhd\\appdata\\local\\packages\\pythonsoftwarefoundation.python.3.11_qbz5n2kfra8p0\\localcache\\local-packages\\python311\\site-packages (from rich>=11.1.0->tyro>=0.5.11->trl) (2.16.1)\n",
            "Requirement already satisfied: mdurl~=0.1 in c:\\users\\minhd\\appdata\\local\\packages\\pythonsoftwarefoundation.python.3.11_qbz5n2kfra8p0\\localcache\\local-packages\\python311\\site-packages (from markdown-it-py>=2.2.0->rich>=11.1.0->tyro>=0.5.11->trl) (0.1.2)\n",
            "Downloading peft-0.6.2-py3-none-any.whl (174 kB)\n",
            "   ---------------------------------------- 0.0/174.7 kB ? eta -:--:--\n",
            "   -------------- ------------------------- 61.4/174.7 kB 3.4 MB/s eta 0:00:01\n",
            "   ------------------------------------- -- 163.8/174.7 kB 2.0 MB/s eta 0:00:01\n",
            "   ---------------------------------------- 174.7/174.7 kB 1.8 MB/s eta 0:00:00\n",
            "Downloading bitsandbytes-0.41.2.post2-py3-none-any.whl (92.6 MB)\n",
            "   ---------------------------------------- 0.0/92.6 MB ? eta -:--:--\n",
            "   ---------------------------------------- 0.1/92.6 MB 7.0 MB/s eta 0:00:14\n",
            "   ---------------------------------------- 0.2/92.6 MB 2.5 MB/s eta 0:00:38\n",
            "   ---------------------------------------- 0.4/92.6 MB 3.3 MB/s eta 0:00:29\n",
            "   ---------------------------------------- 0.6/92.6 MB 3.3 MB/s eta 0:00:28\n",
            "   ---------------------------------------- 0.7/92.6 MB 3.6 MB/s eta 0:00:26\n",
            "   ---------------------------------------- 0.8/92.6 MB 3.1 MB/s eta 0:00:30\n",
            "   ---------------------------------------- 1.0/92.6 MB 3.5 MB/s eta 0:00:27\n",
            "   ---------------------------------------- 1.1/92.6 MB 3.2 MB/s eta 0:00:29\n",
            "    --------------------------------------- 1.4/92.6 MB 3.4 MB/s eta 0:00:27\n",
            "    --------------------------------------- 1.4/92.6 MB 3.4 MB/s eta 0:00:27\n",
            "    --------------------------------------- 1.5/92.6 MB 3.0 MB/s eta 0:00:31\n",
            "    --------------------------------------- 1.7/92.6 MB 3.1 MB/s eta 0:00:30\n",
            "    --------------------------------------- 1.9/92.6 MB 3.2 MB/s eta 0:00:29\n",
            "    --------------------------------------- 2.2/92.6 MB 3.4 MB/s eta 0:00:27\n",
            "   - -------------------------------------- 2.3/92.6 MB 3.4 MB/s eta 0:00:27\n",
            "   - -------------------------------------- 2.5/92.6 MB 3.5 MB/s eta 0:00:26\n",
            "   - -------------------------------------- 2.6/92.6 MB 3.4 MB/s eta 0:00:27\n",
            "   - -------------------------------------- 2.9/92.6 MB 3.5 MB/s eta 0:00:26\n",
            "   - -------------------------------------- 3.0/92.6 MB 3.4 MB/s eta 0:00:27\n",
            "   - -------------------------------------- 3.2/92.6 MB 3.5 MB/s eta 0:00:26\n",
            "   - -------------------------------------- 3.5/92.6 MB 3.7 MB/s eta 0:00:25\n",
            "   - -------------------------------------- 3.6/92.6 MB 3.5 MB/s eta 0:00:26\n",
            "   - -------------------------------------- 3.9/92.6 MB 3.6 MB/s eta 0:00:25\n",
            "   - -------------------------------------- 4.1/92.6 MB 3.7 MB/s eta 0:00:25\n",
            "   - -------------------------------------- 4.1/92.6 MB 3.6 MB/s eta 0:00:25\n",
            "   - -------------------------------------- 4.3/92.6 MB 3.6 MB/s eta 0:00:25\n",
            "   -- ------------------------------------- 4.7/92.6 MB 3.7 MB/s eta 0:00:24\n",
            "   -- ------------------------------------- 4.7/92.6 MB 3.6 MB/s eta 0:00:25\n",
            "   -- ------------------------------------- 5.0/92.6 MB 3.7 MB/s eta 0:00:24\n",
            "   -- ------------------------------------- 5.2/92.6 MB 3.8 MB/s eta 0:00:23\n",
            "   -- ------------------------------------- 5.3/92.6 MB 3.7 MB/s eta 0:00:24\n",
            "   -- ------------------------------------- 5.6/92.6 MB 3.8 MB/s eta 0:00:23\n",
            "   -- ------------------------------------- 5.7/92.6 MB 3.8 MB/s eta 0:00:23\n",
            "   -- ------------------------------------- 5.8/92.6 MB 3.7 MB/s eta 0:00:24\n",
            "   -- ------------------------------------- 5.9/92.6 MB 3.6 MB/s eta 0:00:24\n",
            "   -- ------------------------------------- 6.2/92.6 MB 3.7 MB/s eta 0:00:24\n",
            "   -- ------------------------------------- 6.2/92.6 MB 3.7 MB/s eta 0:00:24\n",
            "   -- ------------------------------------- 6.4/92.6 MB 3.6 MB/s eta 0:00:24\n",
            "   -- ------------------------------------- 6.5/92.6 MB 3.6 MB/s eta 0:00:24\n",
            "   -- ------------------------------------- 6.7/92.6 MB 3.6 MB/s eta 0:00:24\n",
            "   --- ------------------------------------ 7.0/92.6 MB 3.6 MB/s eta 0:00:24\n",
            "   --- ------------------------------------ 7.1/92.6 MB 3.7 MB/s eta 0:00:24\n",
            "   --- ------------------------------------ 7.2/92.6 MB 3.7 MB/s eta 0:00:24\n",
            "   --- ------------------------------------ 7.4/92.6 MB 3.6 MB/s eta 0:00:24\n",
            "   --- ------------------------------------ 7.6/92.6 MB 3.6 MB/s eta 0:00:24\n",
            "   --- ------------------------------------ 7.7/92.6 MB 3.6 MB/s eta 0:00:24\n",
            "   --- ------------------------------------ 7.8/92.6 MB 3.6 MB/s eta 0:00:24\n",
            "   --- ------------------------------------ 8.0/92.6 MB 3.6 MB/s eta 0:00:24\n",
            "   --- ------------------------------------ 8.2/92.6 MB 3.6 MB/s eta 0:00:24\n",
            "   --- ------------------------------------ 8.5/92.6 MB 3.6 MB/s eta 0:00:24\n",
            "   --- ------------------------------------ 8.7/92.6 MB 3.7 MB/s eta 0:00:23\n",
            "   --- ------------------------------------ 8.9/92.6 MB 3.7 MB/s eta 0:00:23\n",
            "   --- ------------------------------------ 9.1/92.6 MB 3.7 MB/s eta 0:00:23\n",
            "   ---- ----------------------------------- 9.3/92.6 MB 3.7 MB/s eta 0:00:23\n",
            "   ---- ----------------------------------- 9.5/92.6 MB 3.7 MB/s eta 0:00:23\n",
            "   ---- ----------------------------------- 9.5/92.6 MB 3.7 MB/s eta 0:00:23\n",
            "   ---- ----------------------------------- 9.7/92.6 MB 3.7 MB/s eta 0:00:23\n",
            "   ---- ----------------------------------- 10.0/92.6 MB 3.8 MB/s eta 0:00:22\n",
            "   ---- ----------------------------------- 10.0/92.6 MB 3.8 MB/s eta 0:00:22\n",
            "   ---- ----------------------------------- 10.1/92.6 MB 3.6 MB/s eta 0:00:23\n",
            "   ---- ----------------------------------- 10.4/92.6 MB 3.7 MB/s eta 0:00:23\n",
            "   ---- ----------------------------------- 10.6/92.6 MB 3.7 MB/s eta 0:00:23\n",
            "   ---- ----------------------------------- 10.7/92.6 MB 3.7 MB/s eta 0:00:23\n",
            "   ---- ----------------------------------- 11.0/92.6 MB 3.7 MB/s eta 0:00:22\n",
            "   ---- ----------------------------------- 11.3/92.6 MB 3.8 MB/s eta 0:00:22\n",
            "   ---- ----------------------------------- 11.5/92.6 MB 3.8 MB/s eta 0:00:22\n",
            "   ----- ---------------------------------- 11.7/92.6 MB 3.9 MB/s eta 0:00:21\n",
            "   ----- ---------------------------------- 12.0/92.6 MB 3.9 MB/s eta 0:00:21\n",
            "   ----- ---------------------------------- 12.2/92.6 MB 3.9 MB/s eta 0:00:21\n",
            "   ----- ---------------------------------- 12.3/92.6 MB 3.9 MB/s eta 0:00:21\n",
            "   ----- ---------------------------------- 12.6/92.6 MB 3.9 MB/s eta 0:00:21\n",
            "   ----- ---------------------------------- 12.7/92.6 MB 3.9 MB/s eta 0:00:21\n",
            "   ----- ---------------------------------- 12.8/92.6 MB 3.9 MB/s eta 0:00:21\n",
            "   ----- ---------------------------------- 13.0/92.6 MB 3.9 MB/s eta 0:00:21\n",
            "   ----- ---------------------------------- 13.3/92.6 MB 3.9 MB/s eta 0:00:21\n",
            "   ----- ---------------------------------- 13.4/92.6 MB 3.9 MB/s eta 0:00:21\n",
            "   ----- ---------------------------------- 13.6/92.6 MB 3.9 MB/s eta 0:00:21\n",
            "   ----- ---------------------------------- 13.8/92.6 MB 3.9 MB/s eta 0:00:21\n",
            "   ------ --------------------------------- 13.9/92.6 MB 3.9 MB/s eta 0:00:21\n",
            "   ------ --------------------------------- 14.1/92.6 MB 3.8 MB/s eta 0:00:21\n",
            "   ------ --------------------------------- 14.3/92.6 MB 3.9 MB/s eta 0:00:21\n",
            "   ------ --------------------------------- 14.6/92.6 MB 3.9 MB/s eta 0:00:21\n",
            "   ------ --------------------------------- 14.8/92.6 MB 3.9 MB/s eta 0:00:21\n",
            "   ------ --------------------------------- 14.8/92.6 MB 3.9 MB/s eta 0:00:21\n",
            "   ------ --------------------------------- 14.8/92.6 MB 3.9 MB/s eta 0:00:21\n",
            "   ------ --------------------------------- 15.0/92.6 MB 3.8 MB/s eta 0:00:21\n",
            "   ------ --------------------------------- 15.3/92.6 MB 3.8 MB/s eta 0:00:21\n",
            "   ------ --------------------------------- 15.4/92.6 MB 3.7 MB/s eta 0:00:21\n",
            "   ------ --------------------------------- 15.6/92.6 MB 3.8 MB/s eta 0:00:21\n",
            "   ------ --------------------------------- 15.8/92.6 MB 3.8 MB/s eta 0:00:21\n",
            "   ------ --------------------------------- 15.9/92.6 MB 3.7 MB/s eta 0:00:21\n",
            "   ------ --------------------------------- 16.1/92.6 MB 3.8 MB/s eta 0:00:20\n",
            "   ------- -------------------------------- 16.3/92.6 MB 3.8 MB/s eta 0:00:20\n",
            "   ------- -------------------------------- 16.5/92.6 MB 3.9 MB/s eta 0:00:20\n",
            "   ------- -------------------------------- 16.7/92.6 MB 3.9 MB/s eta 0:00:20\n",
            "   ------- -------------------------------- 16.9/92.6 MB 3.9 MB/s eta 0:00:20\n",
            "   ------- -------------------------------- 17.1/92.6 MB 3.9 MB/s eta 0:00:20\n",
            "   ------- -------------------------------- 17.3/92.6 MB 3.9 MB/s eta 0:00:20\n",
            "   ------- -------------------------------- 17.5/92.6 MB 3.9 MB/s eta 0:00:20\n",
            "   ------- -------------------------------- 17.7/92.6 MB 3.9 MB/s eta 0:00:20\n",
            "   ------- -------------------------------- 17.8/92.6 MB 3.9 MB/s eta 0:00:19\n",
            "   ------- -------------------------------- 17.9/92.6 MB 3.9 MB/s eta 0:00:20\n",
            "   ------- -------------------------------- 18.2/92.6 MB 3.9 MB/s eta 0:00:19\n",
            "   ------- -------------------------------- 18.2/92.6 MB 3.9 MB/s eta 0:00:19\n",
            "   -------- ------------------------------- 18.5/92.6 MB 3.9 MB/s eta 0:00:19\n",
            "   -------- ------------------------------- 18.8/92.6 MB 3.9 MB/s eta 0:00:19\n",
            "   -------- ------------------------------- 18.9/92.6 MB 3.9 MB/s eta 0:00:19\n",
            "   -------- ------------------------------- 18.9/92.6 MB 3.8 MB/s eta 0:00:20\n",
            "   -------- ------------------------------- 19.1/92.6 MB 3.8 MB/s eta 0:00:20\n",
            "   -------- ------------------------------- 19.3/92.6 MB 3.8 MB/s eta 0:00:20\n",
            "   -------- ------------------------------- 19.6/92.6 MB 3.9 MB/s eta 0:00:19\n",
            "   -------- ------------------------------- 19.7/92.6 MB 3.8 MB/s eta 0:00:20\n",
            "   -------- ------------------------------- 19.9/92.6 MB 3.9 MB/s eta 0:00:19\n",
            "   -------- ------------------------------- 20.1/92.6 MB 3.9 MB/s eta 0:00:19\n",
            "   -------- ------------------------------- 20.1/92.6 MB 3.8 MB/s eta 0:00:20\n",
            "   -------- ------------------------------- 20.4/92.6 MB 3.9 MB/s eta 0:00:19\n",
            "   -------- ------------------------------- 20.6/92.6 MB 3.9 MB/s eta 0:00:19\n",
            "   -------- ------------------------------- 20.6/92.6 MB 3.9 MB/s eta 0:00:19\n",
            "   --------- ------------------------------ 20.9/92.6 MB 3.9 MB/s eta 0:00:19\n",
            "   --------- ------------------------------ 21.1/92.6 MB 3.9 MB/s eta 0:00:19\n",
            "   --------- ------------------------------ 21.1/92.6 MB 3.8 MB/s eta 0:00:19\n",
            "   --------- ------------------------------ 21.3/92.6 MB 3.8 MB/s eta 0:00:19\n",
            "   --------- ------------------------------ 21.6/92.6 MB 3.8 MB/s eta 0:00:19\n",
            "   --------- ------------------------------ 21.6/92.6 MB 3.8 MB/s eta 0:00:19\n",
            "   --------- ------------------------------ 21.6/92.6 MB 3.7 MB/s eta 0:00:20\n",
            "   --------- ------------------------------ 21.9/92.6 MB 3.7 MB/s eta 0:00:20\n",
            "   --------- ------------------------------ 22.0/92.6 MB 3.7 MB/s eta 0:00:20\n",
            "   --------- ------------------------------ 22.1/92.6 MB 3.6 MB/s eta 0:00:20\n",
            "   --------- ------------------------------ 22.2/92.6 MB 3.6 MB/s eta 0:00:20\n",
            "   --------- ------------------------------ 22.4/92.6 MB 3.6 MB/s eta 0:00:20\n",
            "   --------- ------------------------------ 22.7/92.6 MB 3.6 MB/s eta 0:00:20\n",
            "   --------- ------------------------------ 22.9/92.6 MB 3.6 MB/s eta 0:00:20\n",
            "   --------- ------------------------------ 23.0/92.6 MB 3.6 MB/s eta 0:00:20\n",
            "   ---------- ----------------------------- 23.2/92.6 MB 3.6 MB/s eta 0:00:20\n",
            "   ---------- ----------------------------- 23.3/92.6 MB 3.6 MB/s eta 0:00:20\n",
            "   ---------- ----------------------------- 23.5/92.6 MB 3.6 MB/s eta 0:00:20\n",
            "   ---------- ----------------------------- 23.7/92.6 MB 3.6 MB/s eta 0:00:20\n",
            "   ---------- ----------------------------- 23.7/92.6 MB 3.6 MB/s eta 0:00:20\n",
            "   ---------- ----------------------------- 23.7/92.6 MB 3.6 MB/s eta 0:00:20\n",
            "   ---------- ----------------------------- 23.7/92.6 MB 3.6 MB/s eta 0:00:20\n",
            "   ---------- ----------------------------- 23.7/92.6 MB 3.4 MB/s eta 0:00:21\n",
            "   ---------- ----------------------------- 23.9/92.6 MB 3.4 MB/s eta 0:00:21\n",
            "   ---------- ----------------------------- 24.1/92.6 MB 3.4 MB/s eta 0:00:21\n",
            "   ---------- ----------------------------- 24.2/92.6 MB 3.4 MB/s eta 0:00:21\n",
            "   ---------- ----------------------------- 24.4/92.6 MB 3.4 MB/s eta 0:00:21\n",
            "   ---------- ----------------------------- 24.5/92.6 MB 3.4 MB/s eta 0:00:21\n",
            "   ---------- ----------------------------- 24.6/92.6 MB 3.3 MB/s eta 0:00:21\n",
            "   ---------- ----------------------------- 24.7/92.6 MB 3.3 MB/s eta 0:00:21\n",
            "   ---------- ----------------------------- 25.0/92.6 MB 3.3 MB/s eta 0:00:21\n",
            "   ---------- ----------------------------- 25.2/92.6 MB 3.4 MB/s eta 0:00:20\n",
            "   ---------- ----------------------------- 25.2/92.6 MB 3.4 MB/s eta 0:00:20\n",
            "   ---------- ----------------------------- 25.3/92.6 MB 3.3 MB/s eta 0:00:21\n",
            "   ---------- ----------------------------- 25.4/92.6 MB 3.3 MB/s eta 0:00:21\n",
            "   ----------- ---------------------------- 25.7/92.6 MB 3.3 MB/s eta 0:00:21\n",
            "   ----------- ---------------------------- 25.7/92.6 MB 3.3 MB/s eta 0:00:21\n",
            "   ----------- ---------------------------- 25.7/92.6 MB 3.3 MB/s eta 0:00:21\n",
            "   ----------- ---------------------------- 25.8/92.6 MB 3.2 MB/s eta 0:00:21\n",
            "   ----------- ---------------------------- 26.0/92.6 MB 3.2 MB/s eta 0:00:21\n",
            "   ----------- ---------------------------- 26.3/92.6 MB 3.2 MB/s eta 0:00:21\n",
            "   ----------- ---------------------------- 26.4/92.6 MB 3.2 MB/s eta 0:00:21\n",
            "   ----------- ---------------------------- 26.5/92.6 MB 3.2 MB/s eta 0:00:21\n",
            "   ----------- ---------------------------- 26.6/92.6 MB 3.2 MB/s eta 0:00:21\n",
            "   ----------- ---------------------------- 26.8/92.6 MB 3.2 MB/s eta 0:00:21\n",
            "   ----------- ---------------------------- 26.9/92.6 MB 3.2 MB/s eta 0:00:21\n",
            "   ----------- ---------------------------- 27.1/92.6 MB 3.2 MB/s eta 0:00:21\n",
            "   ----------- ---------------------------- 27.1/92.6 MB 3.2 MB/s eta 0:00:21\n",
            "   ----------- ---------------------------- 27.3/92.6 MB 3.1 MB/s eta 0:00:21\n",
            "   ----------- ---------------------------- 27.4/92.6 MB 3.1 MB/s eta 0:00:22\n",
            "   ----------- ---------------------------- 27.5/92.6 MB 3.1 MB/s eta 0:00:22\n",
            "   ----------- ---------------------------- 27.6/92.6 MB 3.1 MB/s eta 0:00:21\n",
            "   ----------- ---------------------------- 27.7/92.6 MB 3.0 MB/s eta 0:00:22\n",
            "   ------------ --------------------------- 27.8/92.6 MB 3.0 MB/s eta 0:00:22\n",
            "   ------------ --------------------------- 28.0/92.6 MB 3.0 MB/s eta 0:00:22\n",
            "   ------------ --------------------------- 28.1/92.6 MB 3.1 MB/s eta 0:00:22\n",
            "   ------------ --------------------------- 28.2/92.6 MB 3.0 MB/s eta 0:00:22\n",
            "   ------------ --------------------------- 28.4/92.6 MB 3.0 MB/s eta 0:00:22\n",
            "   ------------ --------------------------- 28.4/92.6 MB 3.0 MB/s eta 0:00:22\n",
            "   ------------ --------------------------- 28.6/92.6 MB 3.0 MB/s eta 0:00:22\n",
            "   ------------ --------------------------- 28.7/92.6 MB 2.9 MB/s eta 0:00:22\n",
            "   ------------ --------------------------- 28.9/92.6 MB 2.9 MB/s eta 0:00:22\n",
            "   ------------ --------------------------- 29.1/92.6 MB 2.9 MB/s eta 0:00:22\n",
            "   ------------ --------------------------- 29.1/92.6 MB 2.9 MB/s eta 0:00:22\n",
            "   ------------ --------------------------- 29.1/92.6 MB 2.9 MB/s eta 0:00:22\n",
            "   ------------ --------------------------- 29.3/92.6 MB 2.9 MB/s eta 0:00:22\n",
            "   ------------ --------------------------- 29.5/92.6 MB 2.9 MB/s eta 0:00:22\n",
            "   ------------ --------------------------- 29.6/92.6 MB 2.9 MB/s eta 0:00:22\n",
            "   ------------ --------------------------- 29.7/92.6 MB 2.9 MB/s eta 0:00:22\n",
            "   ------------ --------------------------- 29.9/92.6 MB 2.9 MB/s eta 0:00:22\n",
            "   ------------ --------------------------- 30.0/92.6 MB 2.9 MB/s eta 0:00:22\n",
            "   ------------- -------------------------- 30.2/92.6 MB 2.8 MB/s eta 0:00:22\n",
            "   ------------- -------------------------- 30.4/92.6 MB 2.9 MB/s eta 0:00:22\n",
            "   ------------- -------------------------- 30.6/92.6 MB 2.9 MB/s eta 0:00:22\n",
            "   ------------- -------------------------- 30.6/92.6 MB 2.9 MB/s eta 0:00:22\n",
            "   ------------- -------------------------- 30.7/92.6 MB 2.8 MB/s eta 0:00:22\n",
            "   ------------- -------------------------- 30.9/92.6 MB 2.8 MB/s eta 0:00:23\n",
            "   ------------- -------------------------- 31.0/92.6 MB 2.8 MB/s eta 0:00:22\n",
            "   ------------- -------------------------- 31.2/92.6 MB 2.8 MB/s eta 0:00:22\n",
            "   ------------- -------------------------- 31.4/92.6 MB 2.9 MB/s eta 0:00:22\n",
            "   ------------- -------------------------- 31.5/92.6 MB 2.8 MB/s eta 0:00:22\n",
            "   ------------- -------------------------- 31.5/92.6 MB 2.8 MB/s eta 0:00:22\n",
            "   ------------- -------------------------- 31.6/92.6 MB 2.8 MB/s eta 0:00:22\n",
            "   ------------- -------------------------- 31.8/92.6 MB 2.8 MB/s eta 0:00:22\n",
            "   ------------- -------------------------- 31.9/92.6 MB 2.8 MB/s eta 0:00:22\n",
            "   ------------- -------------------------- 32.0/92.6 MB 2.8 MB/s eta 0:00:22\n",
            "   ------------- -------------------------- 32.0/92.6 MB 2.8 MB/s eta 0:00:22\n",
            "   ------------- -------------------------- 32.1/92.6 MB 2.7 MB/s eta 0:00:23\n",
            "   ------------- -------------------------- 32.3/92.6 MB 2.8 MB/s eta 0:00:22\n",
            "   -------------- ------------------------- 32.6/92.6 MB 2.8 MB/s eta 0:00:22\n",
            "   -------------- ------------------------- 32.6/92.6 MB 2.8 MB/s eta 0:00:22\n",
            "   -------------- ------------------------- 32.8/92.6 MB 2.8 MB/s eta 0:00:22\n",
            "   -------------- ------------------------- 33.0/92.6 MB 2.8 MB/s eta 0:00:22\n",
            "   -------------- ------------------------- 33.2/92.6 MB 2.8 MB/s eta 0:00:22\n",
            "   -------------- ------------------------- 33.4/92.6 MB 2.8 MB/s eta 0:00:22\n",
            "   -------------- ------------------------- 33.5/92.6 MB 2.8 MB/s eta 0:00:22\n",
            "   -------------- ------------------------- 33.6/92.6 MB 2.8 MB/s eta 0:00:22\n",
            "   -------------- ------------------------- 33.6/92.6 MB 2.7 MB/s eta 0:00:22\n",
            "   -------------- ------------------------- 33.8/92.6 MB 2.7 MB/s eta 0:00:22\n",
            "   -------------- ------------------------- 34.0/92.6 MB 2.8 MB/s eta 0:00:21\n",
            "   -------------- ------------------------- 34.3/92.6 MB 2.9 MB/s eta 0:00:21\n",
            "   -------------- ------------------------- 34.5/92.6 MB 2.9 MB/s eta 0:00:21\n",
            "   -------------- ------------------------- 34.6/92.6 MB 2.9 MB/s eta 0:00:21\n",
            "   --------------- ------------------------ 34.9/92.6 MB 2.9 MB/s eta 0:00:20\n",
            "   --------------- ------------------------ 34.9/92.6 MB 2.9 MB/s eta 0:00:20\n",
            "   --------------- ------------------------ 35.1/92.6 MB 2.9 MB/s eta 0:00:20\n",
            "   --------------- ------------------------ 35.3/92.6 MB 2.9 MB/s eta 0:00:20\n",
            "   --------------- ------------------------ 35.4/92.6 MB 2.9 MB/s eta 0:00:20\n",
            "   --------------- ------------------------ 35.6/92.6 MB 2.9 MB/s eta 0:00:20\n",
            "   --------------- ------------------------ 35.7/92.6 MB 2.9 MB/s eta 0:00:20\n",
            "   --------------- ------------------------ 36.0/92.6 MB 2.9 MB/s eta 0:00:20\n",
            "   --------------- ------------------------ 36.2/92.6 MB 3.0 MB/s eta 0:00:19\n",
            "   --------------- ------------------------ 36.3/92.6 MB 3.0 MB/s eta 0:00:19\n",
            "   --------------- ------------------------ 36.4/92.6 MB 3.0 MB/s eta 0:00:19\n",
            "   --------------- ------------------------ 36.5/92.6 MB 3.0 MB/s eta 0:00:19\n",
            "   --------------- ------------------------ 36.6/92.6 MB 3.0 MB/s eta 0:00:19\n",
            "   --------------- ------------------------ 36.9/92.6 MB 3.0 MB/s eta 0:00:19\n",
            "   ---------------- ----------------------- 37.1/92.6 MB 3.0 MB/s eta 0:00:19\n",
            "   ---------------- ----------------------- 37.4/92.6 MB 3.1 MB/s eta 0:00:18\n",
            "   ---------------- ----------------------- 37.6/92.6 MB 3.1 MB/s eta 0:00:18\n",
            "   ---------------- ----------------------- 37.8/92.6 MB 3.1 MB/s eta 0:00:18\n",
            "   ---------------- ----------------------- 38.0/92.6 MB 3.2 MB/s eta 0:00:17\n",
            "   ---------------- ----------------------- 38.2/92.6 MB 3.2 MB/s eta 0:00:17\n",
            "   ---------------- ----------------------- 38.5/92.6 MB 3.3 MB/s eta 0:00:17\n",
            "   ---------------- ----------------------- 38.8/92.6 MB 3.4 MB/s eta 0:00:17\n",
            "   ---------------- ----------------------- 39.1/92.6 MB 3.4 MB/s eta 0:00:16\n",
            "   ----------------- ---------------------- 39.4/92.6 MB 3.5 MB/s eta 0:00:16\n",
            "   ----------------- ---------------------- 39.6/92.6 MB 3.5 MB/s eta 0:00:15\n",
            "   ----------------- ---------------------- 39.8/92.6 MB 3.5 MB/s eta 0:00:15\n",
            "   ----------------- ---------------------- 40.0/92.6 MB 3.6 MB/s eta 0:00:15\n",
            "   ----------------- ---------------------- 40.3/92.6 MB 3.7 MB/s eta 0:00:15\n",
            "   ----------------- ---------------------- 40.4/92.6 MB 3.7 MB/s eta 0:00:15\n",
            "   ----------------- ---------------------- 40.4/92.6 MB 3.7 MB/s eta 0:00:15\n",
            "   ----------------- ---------------------- 40.7/92.6 MB 3.6 MB/s eta 0:00:15\n",
            "   ----------------- ---------------------- 40.8/92.6 MB 3.6 MB/s eta 0:00:15\n",
            "   ----------------- ---------------------- 41.1/92.6 MB 3.7 MB/s eta 0:00:14\n",
            "   ----------------- ---------------------- 41.2/92.6 MB 3.7 MB/s eta 0:00:14\n",
            "   ----------------- ---------------------- 41.5/92.6 MB 3.7 MB/s eta 0:00:14\n",
            "   ------------------ --------------------- 41.7/92.6 MB 3.8 MB/s eta 0:00:14\n",
            "   ------------------ --------------------- 42.0/92.6 MB 3.9 MB/s eta 0:00:14\n",
            "   ------------------ --------------------- 42.2/92.6 MB 3.9 MB/s eta 0:00:13\n",
            "   ------------------ --------------------- 42.4/92.6 MB 4.1 MB/s eta 0:00:13\n",
            "   ------------------ --------------------- 42.6/92.6 MB 4.1 MB/s eta 0:00:13\n",
            "   ------------------ --------------------- 42.8/92.6 MB 4.0 MB/s eta 0:00:13\n",
            "   ------------------ --------------------- 43.0/92.6 MB 4.2 MB/s eta 0:00:12\n",
            "   ------------------ --------------------- 43.1/92.6 MB 4.1 MB/s eta 0:00:13\n",
            "   ------------------ --------------------- 43.4/92.6 MB 4.1 MB/s eta 0:00:12\n",
            "   ------------------ --------------------- 43.4/92.6 MB 4.1 MB/s eta 0:00:12\n",
            "   ------------------ --------------------- 43.7/92.6 MB 4.1 MB/s eta 0:00:12\n",
            "   ------------------ --------------------- 43.9/92.6 MB 4.3 MB/s eta 0:00:12\n",
            "   ------------------- -------------------- 44.1/92.6 MB 4.2 MB/s eta 0:00:12\n",
            "   ------------------- -------------------- 44.2/92.6 MB 4.3 MB/s eta 0:00:12\n",
            "   ------------------- -------------------- 44.4/92.6 MB 4.2 MB/s eta 0:00:12\n",
            "   ------------------- -------------------- 44.6/92.6 MB 4.2 MB/s eta 0:00:12\n",
            "   ------------------- -------------------- 44.9/92.6 MB 4.2 MB/s eta 0:00:12\n",
            "   ------------------- -------------------- 45.1/92.6 MB 4.3 MB/s eta 0:00:12\n",
            "   ------------------- -------------------- 45.2/92.6 MB 4.3 MB/s eta 0:00:12\n",
            "   ------------------- -------------------- 45.5/92.6 MB 4.3 MB/s eta 0:00:12\n",
            "   ------------------- -------------------- 45.7/92.6 MB 4.3 MB/s eta 0:00:11\n",
            "   ------------------- -------------------- 45.8/92.6 MB 4.4 MB/s eta 0:00:11\n",
            "   ------------------- -------------------- 45.9/92.6 MB 4.3 MB/s eta 0:00:11\n",
            "   ------------------- -------------------- 46.2/92.6 MB 4.3 MB/s eta 0:00:11\n",
            "   -------------------- ------------------- 46.3/92.6 MB 4.3 MB/s eta 0:00:11\n",
            "   -------------------- ------------------- 46.5/92.6 MB 4.3 MB/s eta 0:00:11\n",
            "   -------------------- ------------------- 46.8/92.6 MB 4.5 MB/s eta 0:00:11\n",
            "   -------------------- ------------------- 46.9/92.6 MB 4.4 MB/s eta 0:00:11\n",
            "   -------------------- ------------------- 47.2/92.6 MB 4.5 MB/s eta 0:00:11\n",
            "   -------------------- ------------------- 47.3/92.6 MB 4.5 MB/s eta 0:00:11\n",
            "   -------------------- ------------------- 47.6/92.6 MB 4.4 MB/s eta 0:00:11\n",
            "   -------------------- ------------------- 48.0/92.6 MB 4.4 MB/s eta 0:00:11\n",
            "   -------------------- ------------------- 48.0/92.6 MB 4.5 MB/s eta 0:00:11\n",
            "   -------------------- ------------------- 48.2/92.6 MB 4.4 MB/s eta 0:00:11\n",
            "   -------------------- ------------------- 48.5/92.6 MB 4.4 MB/s eta 0:00:11\n",
            "   --------------------- ------------------ 48.7/92.6 MB 4.4 MB/s eta 0:00:11\n",
            "   --------------------- ------------------ 48.9/92.6 MB 4.4 MB/s eta 0:00:11\n",
            "   --------------------- ------------------ 49.0/92.6 MB 4.3 MB/s eta 0:00:11\n",
            "   --------------------- ------------------ 49.3/92.6 MB 4.3 MB/s eta 0:00:10\n",
            "   --------------------- ------------------ 49.7/92.6 MB 4.3 MB/s eta 0:00:10\n",
            "   --------------------- ------------------ 49.9/92.6 MB 4.3 MB/s eta 0:00:10\n",
            "   --------------------- ------------------ 50.1/92.6 MB 4.3 MB/s eta 0:00:10\n",
            "   --------------------- ------------------ 50.4/92.6 MB 4.3 MB/s eta 0:00:10\n",
            "   --------------------- ------------------ 50.5/92.6 MB 4.3 MB/s eta 0:00:10\n",
            "   --------------------- ------------------ 50.6/92.6 MB 4.4 MB/s eta 0:00:10\n",
            "   --------------------- ------------------ 50.8/92.6 MB 4.4 MB/s eta 0:00:10\n",
            "   ---------------------- ----------------- 50.9/92.6 MB 4.3 MB/s eta 0:00:10\n",
            "   ---------------------- ----------------- 51.2/92.6 MB 4.3 MB/s eta 0:00:10\n",
            "   ---------------------- ----------------- 51.2/92.6 MB 4.3 MB/s eta 0:00:10\n",
            "   ---------------------- ----------------- 51.5/92.6 MB 4.3 MB/s eta 0:00:10\n",
            "   ---------------------- ----------------- 51.7/92.6 MB 4.3 MB/s eta 0:00:10\n",
            "   ---------------------- ----------------- 52.0/92.6 MB 4.3 MB/s eta 0:00:10\n",
            "   ---------------------- ----------------- 52.0/92.6 MB 4.3 MB/s eta 0:00:10\n",
            "   ---------------------- ----------------- 52.0/92.6 MB 4.3 MB/s eta 0:00:10\n",
            "   ---------------------- ----------------- 52.4/92.6 MB 4.2 MB/s eta 0:00:10\n",
            "   ---------------------- ----------------- 52.7/92.6 MB 4.2 MB/s eta 0:00:10\n",
            "   ---------------------- ----------------- 52.8/92.6 MB 4.2 MB/s eta 0:00:10\n",
            "   ---------------------- ----------------- 52.8/92.6 MB 4.2 MB/s eta 0:00:10\n",
            "   ---------------------- ----------------- 53.1/92.6 MB 4.1 MB/s eta 0:00:10\n",
            "   ----------------------- ---------------- 53.2/92.6 MB 4.1 MB/s eta 0:00:10\n",
            "   ----------------------- ---------------- 53.6/92.6 MB 4.2 MB/s eta 0:00:10\n",
            "   ----------------------- ---------------- 53.6/92.6 MB 4.2 MB/s eta 0:00:10\n",
            "   ----------------------- ---------------- 53.8/92.6 MB 4.2 MB/s eta 0:00:10\n",
            "   ----------------------- ---------------- 54.1/92.6 MB 4.2 MB/s eta 0:00:10\n",
            "   ----------------------- ---------------- 54.3/92.6 MB 4.2 MB/s eta 0:00:10\n",
            "   ----------------------- ---------------- 54.5/92.6 MB 4.3 MB/s eta 0:00:09\n",
            "   ----------------------- ---------------- 54.7/92.6 MB 4.3 MB/s eta 0:00:09\n",
            "   ----------------------- ---------------- 54.9/92.6 MB 4.3 MB/s eta 0:00:09\n",
            "   ----------------------- ---------------- 55.2/92.6 MB 4.2 MB/s eta 0:00:09\n",
            "   ----------------------- ---------------- 55.4/92.6 MB 4.2 MB/s eta 0:00:09\n",
            "   ------------------------ --------------- 55.7/92.6 MB 4.3 MB/s eta 0:00:09\n",
            "   ------------------------ --------------- 55.9/92.6 MB 4.3 MB/s eta 0:00:09\n",
            "   ------------------------ --------------- 56.0/92.6 MB 4.3 MB/s eta 0:00:09\n",
            "   ------------------------ --------------- 56.2/92.6 MB 4.3 MB/s eta 0:00:09\n",
            "   ------------------------ --------------- 56.5/92.6 MB 4.3 MB/s eta 0:00:09\n",
            "   ------------------------ --------------- 56.6/92.6 MB 4.3 MB/s eta 0:00:09\n",
            "   ------------------------ --------------- 56.8/92.6 MB 4.3 MB/s eta 0:00:09\n",
            "   ------------------------ --------------- 56.9/92.6 MB 4.3 MB/s eta 0:00:09\n",
            "   ------------------------ --------------- 57.1/92.6 MB 4.3 MB/s eta 0:00:09\n",
            "   ------------------------ --------------- 57.3/92.6 MB 4.2 MB/s eta 0:00:09\n",
            "   ------------------------ --------------- 57.5/92.6 MB 4.2 MB/s eta 0:00:09\n",
            "   ------------------------ --------------- 57.7/92.6 MB 4.3 MB/s eta 0:00:09\n",
            "   ------------------------ --------------- 57.7/92.6 MB 4.2 MB/s eta 0:00:09\n",
            "   ------------------------- -------------- 58.0/92.6 MB 4.1 MB/s eta 0:00:09\n",
            "   ------------------------- -------------- 58.3/92.6 MB 4.3 MB/s eta 0:00:09\n",
            "   ------------------------- -------------- 58.4/92.6 MB 4.2 MB/s eta 0:00:09\n",
            "   ------------------------- -------------- 58.6/92.6 MB 4.2 MB/s eta 0:00:09\n",
            "   ------------------------- -------------- 58.8/92.6 MB 4.2 MB/s eta 0:00:09\n",
            "   ------------------------- -------------- 59.0/92.6 MB 4.2 MB/s eta 0:00:09\n",
            "   ------------------------- -------------- 59.2/92.6 MB 4.2 MB/s eta 0:00:09\n",
            "   ------------------------- -------------- 59.4/92.6 MB 4.2 MB/s eta 0:00:08\n",
            "   ------------------------- -------------- 59.6/92.6 MB 4.1 MB/s eta 0:00:08\n",
            "   ------------------------- -------------- 59.8/92.6 MB 4.1 MB/s eta 0:00:08\n",
            "   ------------------------- -------------- 60.1/92.6 MB 4.1 MB/s eta 0:00:08\n",
            "   ------------------------- -------------- 60.2/92.6 MB 4.1 MB/s eta 0:00:08\n",
            "   -------------------------- ------------- 60.3/92.6 MB 4.1 MB/s eta 0:00:08\n",
            "   -------------------------- ------------- 60.6/92.6 MB 4.1 MB/s eta 0:00:08\n",
            "   -------------------------- ------------- 60.8/92.6 MB 4.1 MB/s eta 0:00:08\n",
            "   -------------------------- ------------- 61.1/92.6 MB 4.2 MB/s eta 0:00:08\n",
            "   -------------------------- ------------- 61.3/92.6 MB 4.2 MB/s eta 0:00:08\n",
            "   -------------------------- ------------- 61.4/92.6 MB 4.1 MB/s eta 0:00:08\n",
            "   -------------------------- ------------- 61.6/92.6 MB 4.2 MB/s eta 0:00:08\n",
            "   -------------------------- ------------- 61.8/92.6 MB 4.2 MB/s eta 0:00:08\n",
            "   -------------------------- ------------- 62.1/92.6 MB 4.2 MB/s eta 0:00:08\n",
            "   -------------------------- ------------- 62.3/92.6 MB 4.4 MB/s eta 0:00:07\n",
            "   --------------------------- ------------ 62.6/92.6 MB 4.3 MB/s eta 0:00:08\n",
            "   --------------------------- ------------ 62.8/92.6 MB 4.3 MB/s eta 0:00:07\n",
            "   --------------------------- ------------ 63.0/92.6 MB 4.3 MB/s eta 0:00:07\n",
            "   --------------------------- ------------ 63.2/92.6 MB 4.4 MB/s eta 0:00:07\n",
            "   --------------------------- ------------ 63.5/92.6 MB 4.4 MB/s eta 0:00:07\n",
            "   --------------------------- ------------ 63.8/92.6 MB 4.4 MB/s eta 0:00:07\n",
            "   --------------------------- ------------ 64.0/92.6 MB 4.5 MB/s eta 0:00:07\n",
            "   --------------------------- ------------ 64.2/92.6 MB 4.5 MB/s eta 0:00:07\n",
            "   --------------------------- ------------ 64.5/92.6 MB 4.5 MB/s eta 0:00:07\n",
            "   --------------------------- ------------ 64.5/92.6 MB 4.4 MB/s eta 0:00:07\n",
            "   --------------------------- ------------ 64.8/92.6 MB 4.4 MB/s eta 0:00:07\n",
            "   ---------------------------- ----------- 65.0/92.6 MB 4.4 MB/s eta 0:00:07\n",
            "   ---------------------------- ----------- 65.2/92.6 MB 4.4 MB/s eta 0:00:07\n",
            "   ---------------------------- ----------- 65.4/92.6 MB 4.4 MB/s eta 0:00:07\n",
            "   ---------------------------- ----------- 65.5/92.6 MB 4.3 MB/s eta 0:00:07\n",
            "   ---------------------------- ----------- 65.7/92.6 MB 4.3 MB/s eta 0:00:07\n",
            "   ---------------------------- ----------- 66.1/92.6 MB 4.4 MB/s eta 0:00:07\n",
            "   ---------------------------- ----------- 66.3/92.6 MB 4.4 MB/s eta 0:00:06\n",
            "   ---------------------------- ----------- 66.5/92.6 MB 4.4 MB/s eta 0:00:06\n",
            "   ---------------------------- ----------- 66.7/92.6 MB 4.4 MB/s eta 0:00:06\n",
            "   ---------------------------- ----------- 67.0/92.6 MB 4.5 MB/s eta 0:00:06\n",
            "   ----------------------------- ---------- 67.3/92.6 MB 4.5 MB/s eta 0:00:06\n",
            "   ----------------------------- ---------- 67.5/92.6 MB 4.5 MB/s eta 0:00:06\n",
            "   ----------------------------- ---------- 67.8/92.6 MB 4.6 MB/s eta 0:00:06\n",
            "   ----------------------------- ---------- 68.1/92.6 MB 4.7 MB/s eta 0:00:06\n",
            "   ----------------------------- ---------- 68.3/92.6 MB 4.7 MB/s eta 0:00:06\n",
            "   ----------------------------- ---------- 68.6/92.6 MB 4.8 MB/s eta 0:00:06\n",
            "   ----------------------------- ---------- 68.7/92.6 MB 4.7 MB/s eta 0:00:06\n",
            "   ----------------------------- ---------- 69.0/92.6 MB 4.7 MB/s eta 0:00:06\n",
            "   ----------------------------- ---------- 69.1/92.6 MB 4.8 MB/s eta 0:00:05\n",
            "   ----------------------------- ---------- 69.4/92.6 MB 4.8 MB/s eta 0:00:05\n",
            "   ------------------------------ --------- 69.6/92.6 MB 4.8 MB/s eta 0:00:05\n",
            "   ------------------------------ --------- 69.8/92.6 MB 4.7 MB/s eta 0:00:05\n",
            "   ------------------------------ --------- 70.1/92.6 MB 4.8 MB/s eta 0:00:05\n",
            "   ------------------------------ --------- 70.2/92.6 MB 4.8 MB/s eta 0:00:05\n",
            "   ------------------------------ --------- 70.5/92.6 MB 4.8 MB/s eta 0:00:05\n",
            "   ------------------------------ --------- 70.7/92.6 MB 4.8 MB/s eta 0:00:05\n",
            "   ------------------------------ --------- 70.8/92.6 MB 4.7 MB/s eta 0:00:05\n",
            "   ------------------------------ --------- 70.9/92.6 MB 4.7 MB/s eta 0:00:05\n",
            "   ------------------------------ --------- 71.2/92.6 MB 4.7 MB/s eta 0:00:05\n",
            "   ------------------------------ --------- 71.3/92.6 MB 4.7 MB/s eta 0:00:05\n",
            "   ------------------------------ --------- 71.5/92.6 MB 4.7 MB/s eta 0:00:05\n",
            "   ------------------------------- -------- 71.8/92.6 MB 4.7 MB/s eta 0:00:05\n",
            "   ------------------------------- -------- 72.0/92.6 MB 4.8 MB/s eta 0:00:05\n",
            "   ------------------------------- -------- 72.0/92.6 MB 4.7 MB/s eta 0:00:05\n",
            "   ------------------------------- -------- 72.3/92.6 MB 4.6 MB/s eta 0:00:05\n",
            "   ------------------------------- -------- 72.5/92.6 MB 4.7 MB/s eta 0:00:05\n",
            "   ------------------------------- -------- 72.6/92.6 MB 4.6 MB/s eta 0:00:05\n",
            "   ------------------------------- -------- 72.7/92.6 MB 4.5 MB/s eta 0:00:05\n",
            "   ------------------------------- -------- 72.8/92.6 MB 4.5 MB/s eta 0:00:05\n",
            "   ------------------------------- -------- 73.0/92.6 MB 4.5 MB/s eta 0:00:05\n",
            "   ------------------------------- -------- 73.2/92.6 MB 4.5 MB/s eta 0:00:05\n",
            "   ------------------------------- -------- 73.5/92.6 MB 4.5 MB/s eta 0:00:05\n",
            "   ------------------------------- -------- 73.8/92.6 MB 4.5 MB/s eta 0:00:05\n",
            "   ------------------------------- -------- 74.0/92.6 MB 4.5 MB/s eta 0:00:05\n",
            "   -------------------------------- ------- 74.1/92.6 MB 4.4 MB/s eta 0:00:05\n",
            "   -------------------------------- ------- 74.4/92.6 MB 4.5 MB/s eta 0:00:05\n",
            "   -------------------------------- ------- 74.5/92.6 MB 4.5 MB/s eta 0:00:05\n",
            "   -------------------------------- ------- 74.8/92.6 MB 4.5 MB/s eta 0:00:04\n",
            "   -------------------------------- ------- 75.0/92.6 MB 4.5 MB/s eta 0:00:04\n",
            "   -------------------------------- ------- 75.2/92.6 MB 4.4 MB/s eta 0:00:04\n",
            "   -------------------------------- ------- 75.5/92.6 MB 4.5 MB/s eta 0:00:04\n",
            "   -------------------------------- ------- 75.5/92.6 MB 4.4 MB/s eta 0:00:04\n",
            "   -------------------------------- ------- 75.8/92.6 MB 4.5 MB/s eta 0:00:04\n",
            "   -------------------------------- ------- 75.9/92.6 MB 4.5 MB/s eta 0:00:04\n",
            "   -------------------------------- ------- 76.1/92.6 MB 4.4 MB/s eta 0:00:04\n",
            "   -------------------------------- ------- 76.3/92.6 MB 4.4 MB/s eta 0:00:04\n",
            "   --------------------------------- ------ 76.5/92.6 MB 4.4 MB/s eta 0:00:04\n",
            "   --------------------------------- ------ 76.6/92.6 MB 4.3 MB/s eta 0:00:04\n",
            "   --------------------------------- ------ 76.9/92.6 MB 4.3 MB/s eta 0:00:04\n",
            "   --------------------------------- ------ 77.2/92.6 MB 4.4 MB/s eta 0:00:04\n",
            "   --------------------------------- ------ 77.2/92.6 MB 4.3 MB/s eta 0:00:04\n",
            "   --------------------------------- ------ 77.4/92.6 MB 4.3 MB/s eta 0:00:04\n",
            "   --------------------------------- ------ 77.5/92.6 MB 4.2 MB/s eta 0:00:04\n",
            "   --------------------------------- ------ 77.6/92.6 MB 4.2 MB/s eta 0:00:04\n",
            "   --------------------------------- ------ 77.8/92.6 MB 4.1 MB/s eta 0:00:04\n",
            "   --------------------------------- ------ 78.0/92.6 MB 4.1 MB/s eta 0:00:04\n",
            "   --------------------------------- ------ 78.1/92.6 MB 4.1 MB/s eta 0:00:04\n",
            "   --------------------------------- ------ 78.2/92.6 MB 4.0 MB/s eta 0:00:04\n",
            "   --------------------------------- ------ 78.5/92.6 MB 4.0 MB/s eta 0:00:04\n",
            "   ---------------------------------- ----- 78.7/92.6 MB 4.0 MB/s eta 0:00:04\n",
            "   ---------------------------------- ----- 78.8/92.6 MB 4.0 MB/s eta 0:00:04\n",
            "   ---------------------------------- ----- 79.0/92.6 MB 4.0 MB/s eta 0:00:04\n",
            "   ---------------------------------- ----- 79.1/92.6 MB 4.0 MB/s eta 0:00:04\n",
            "   ---------------------------------- ----- 79.3/92.6 MB 3.9 MB/s eta 0:00:04\n",
            "   ---------------------------------- ----- 79.6/92.6 MB 4.0 MB/s eta 0:00:04\n",
            "   ---------------------------------- ----- 79.7/92.6 MB 3.9 MB/s eta 0:00:04\n",
            "   ---------------------------------- ----- 80.0/92.6 MB 4.0 MB/s eta 0:00:04\n",
            "   ---------------------------------- ----- 80.1/92.6 MB 3.9 MB/s eta 0:00:04\n",
            "   ---------------------------------- ----- 80.4/92.6 MB 3.9 MB/s eta 0:00:04\n",
            "   ---------------------------------- ----- 80.5/92.6 MB 3.9 MB/s eta 0:00:04\n",
            "   ---------------------------------- ----- 80.8/92.6 MB 3.9 MB/s eta 0:00:04\n",
            "   ---------------------------------- ----- 80.9/92.6 MB 3.9 MB/s eta 0:00:03\n",
            "   ----------------------------------- ---- 81.0/92.6 MB 3.9 MB/s eta 0:00:03\n",
            "   ----------------------------------- ---- 81.3/92.6 MB 3.9 MB/s eta 0:00:03\n",
            "   ----------------------------------- ---- 81.6/92.6 MB 4.0 MB/s eta 0:00:03\n",
            "   ----------------------------------- ---- 81.7/92.6 MB 4.0 MB/s eta 0:00:03\n",
            "   ----------------------------------- ---- 82.0/92.6 MB 4.0 MB/s eta 0:00:03\n",
            "   ----------------------------------- ---- 82.1/92.6 MB 4.0 MB/s eta 0:00:03\n",
            "   ----------------------------------- ---- 82.2/92.6 MB 4.0 MB/s eta 0:00:03\n",
            "   ----------------------------------- ---- 82.5/92.6 MB 4.0 MB/s eta 0:00:03\n",
            "   ----------------------------------- ---- 82.5/92.6 MB 3.9 MB/s eta 0:00:03\n",
            "   ----------------------------------- ---- 82.7/92.6 MB 3.9 MB/s eta 0:00:03\n",
            "   ----------------------------------- ---- 82.9/92.6 MB 4.0 MB/s eta 0:00:03\n",
            "   ----------------------------------- ---- 83.1/92.6 MB 4.0 MB/s eta 0:00:03\n",
            "   ------------------------------------ --- 83.3/92.6 MB 4.0 MB/s eta 0:00:03\n",
            "   ------------------------------------ --- 83.5/92.6 MB 4.0 MB/s eta 0:00:03\n",
            "   ------------------------------------ --- 83.7/92.6 MB 4.0 MB/s eta 0:00:03\n",
            "   ------------------------------------ --- 84.0/92.6 MB 4.0 MB/s eta 0:00:03\n",
            "   ------------------------------------ --- 84.3/92.6 MB 4.0 MB/s eta 0:00:03\n",
            "   ------------------------------------ --- 84.4/92.6 MB 4.0 MB/s eta 0:00:03\n",
            "   ------------------------------------ --- 84.8/92.6 MB 4.0 MB/s eta 0:00:02\n",
            "   ------------------------------------ --- 84.9/92.6 MB 4.0 MB/s eta 0:00:02\n",
            "   ------------------------------------ --- 85.2/92.6 MB 4.1 MB/s eta 0:00:02\n",
            "   ------------------------------------ --- 85.4/92.6 MB 4.1 MB/s eta 0:00:02\n",
            "   ------------------------------------ --- 85.6/92.6 MB 4.0 MB/s eta 0:00:02\n",
            "   ------------------------------------- -- 85.8/92.6 MB 4.1 MB/s eta 0:00:02\n",
            "   ------------------------------------- -- 85.8/92.6 MB 4.1 MB/s eta 0:00:02\n",
            "   ------------------------------------- -- 86.0/92.6 MB 4.0 MB/s eta 0:00:02\n",
            "   ------------------------------------- -- 86.2/92.6 MB 4.0 MB/s eta 0:00:02\n",
            "   ------------------------------------- -- 86.3/92.6 MB 4.0 MB/s eta 0:00:02\n",
            "   ------------------------------------- -- 86.5/92.6 MB 3.9 MB/s eta 0:00:02\n",
            "   ------------------------------------- -- 86.7/92.6 MB 4.0 MB/s eta 0:00:02\n",
            "   ------------------------------------- -- 86.8/92.6 MB 4.0 MB/s eta 0:00:02\n",
            "   ------------------------------------- -- 87.0/92.6 MB 3.9 MB/s eta 0:00:02\n",
            "   ------------------------------------- -- 87.1/92.6 MB 3.9 MB/s eta 0:00:02\n",
            "   ------------------------------------- -- 87.3/92.6 MB 3.9 MB/s eta 0:00:02\n",
            "   ------------------------------------- -- 87.5/92.6 MB 3.9 MB/s eta 0:00:02\n",
            "   ------------------------------------- -- 87.7/92.6 MB 3.9 MB/s eta 0:00:02\n",
            "   -------------------------------------- - 88.0/92.6 MB 4.0 MB/s eta 0:00:02\n",
            "   -------------------------------------- - 88.2/92.6 MB 4.1 MB/s eta 0:00:02\n",
            "   -------------------------------------- - 88.2/92.6 MB 4.1 MB/s eta 0:00:02\n",
            "   -------------------------------------- - 88.4/92.6 MB 4.0 MB/s eta 0:00:02\n",
            "   -------------------------------------- - 88.7/92.6 MB 4.0 MB/s eta 0:00:01\n",
            "   -------------------------------------- - 88.9/92.6 MB 4.0 MB/s eta 0:00:01\n",
            "   -------------------------------------- - 89.1/92.6 MB 4.1 MB/s eta 0:00:01\n",
            "   -------------------------------------- - 89.2/92.6 MB 4.0 MB/s eta 0:00:01\n",
            "   -------------------------------------- - 89.4/92.6 MB 4.1 MB/s eta 0:00:01\n",
            "   -------------------------------------- - 89.6/92.6 MB 4.1 MB/s eta 0:00:01\n",
            "   -------------------------------------- - 89.7/92.6 MB 4.0 MB/s eta 0:00:01\n",
            "   -------------------------------------- - 89.9/92.6 MB 4.0 MB/s eta 0:00:01\n",
            "   -------------------------------------- - 90.2/92.6 MB 4.0 MB/s eta 0:00:01\n",
            "   ---------------------------------------  90.3/92.6 MB 4.1 MB/s eta 0:00:01\n",
            "   ---------------------------------------  90.4/92.6 MB 4.0 MB/s eta 0:00:01\n",
            "   ---------------------------------------  90.8/92.6 MB 4.1 MB/s eta 0:00:01\n",
            "   ---------------------------------------  91.0/92.6 MB 4.1 MB/s eta 0:00:01\n",
            "   ---------------------------------------  91.3/92.6 MB 4.1 MB/s eta 0:00:01\n",
            "   ---------------------------------------  91.5/92.6 MB 4.1 MB/s eta 0:00:01\n",
            "   ---------------------------------------  91.8/92.6 MB 4.1 MB/s eta 0:00:01\n",
            "   ---------------------------------------  91.8/92.6 MB 4.1 MB/s eta 0:00:01\n",
            "   ---------------------------------------  92.0/92.6 MB 4.1 MB/s eta 0:00:01\n",
            "   ---------------------------------------  92.2/92.6 MB 4.1 MB/s eta 0:00:01\n",
            "   ---------------------------------------  92.4/92.6 MB 4.1 MB/s eta 0:00:01\n",
            "   ---------------------------------------  92.6/92.6 MB 4.1 MB/s eta 0:00:01\n",
            "   ---------------------------------------  92.6/92.6 MB 4.1 MB/s eta 0:00:01\n",
            "   ---------------------------------------  92.6/92.6 MB 4.1 MB/s eta 0:00:01\n",
            "   ---------------------------------------- 92.6/92.6 MB 3.9 MB/s eta 0:00:00\n",
            "Downloading trl-0.7.4-py3-none-any.whl (133 kB)\n",
            "   ---------------------------------------- 0.0/133.9 kB ? eta -:--:--\n",
            "   ---------------------------------------- 133.9/133.9 kB 4.0 MB/s eta 0:00:00\n",
            "Downloading wandb-0.16.0-py3-none-any.whl (2.1 MB)\n",
            "   ---------------------------------------- 0.0/2.1 MB ? eta -:--:--\n",
            "   -- ------------------------------------- 0.1/2.1 MB 2.4 MB/s eta 0:00:01\n",
            "   ----- ---------------------------------- 0.3/2.1 MB 3.0 MB/s eta 0:00:01\n",
            "   ------- -------------------------------- 0.4/2.1 MB 3.2 MB/s eta 0:00:01\n",
            "   --------- ------------------------------ 0.5/2.1 MB 3.0 MB/s eta 0:00:01\n",
            "   ----------- ---------------------------- 0.6/2.1 MB 2.7 MB/s eta 0:00:01\n",
            "   --------------- ------------------------ 0.8/2.1 MB 2.8 MB/s eta 0:00:01\n",
            "   ------------------ --------------------- 1.0/2.1 MB 3.1 MB/s eta 0:00:01\n",
            "   ---------------------- ----------------- 1.2/2.1 MB 3.1 MB/s eta 0:00:01\n",
            "   ----------------------- ---------------- 1.2/2.1 MB 2.9 MB/s eta 0:00:01\n",
            "   -------------------------- ------------- 1.4/2.1 MB 2.9 MB/s eta 0:00:01\n",
            "   ------------------------------ --------- 1.6/2.1 MB 3.1 MB/s eta 0:00:01\n",
            "   ---------------------------------- ----- 1.8/2.1 MB 3.2 MB/s eta 0:00:01\n",
            "   -------------------------------------- - 2.0/2.1 MB 3.3 MB/s eta 0:00:01\n",
            "   ---------------------------------------- 2.1/2.1 MB 3.3 MB/s eta 0:00:00\n",
            "Downloading GitPython-3.1.40-py3-none-any.whl (190 kB)\n",
            "   ---------------------------------------- 0.0/190.6 kB ? eta -:--:--\n",
            "   -------------------------------------- - 184.3/190.6 kB 5.6 MB/s eta 0:00:01\n",
            "   ---------------------------------------- 190.6/190.6 kB 3.8 MB/s eta 0:00:00\n",
            "Downloading sentry_sdk-1.36.0-py2.py3-none-any.whl (249 kB)\n",
            "   ---------------------------------------- 0.0/249.2 kB ? eta -:--:--\n",
            "   ---------------------------------------  245.8/249.2 kB 5.0 MB/s eta 0:00:01\n",
            "   ---------------------------------------- 249.2/249.2 kB 5.1 MB/s eta 0:00:00\n",
            "Downloading tyro-0.5.17-py3-none-any.whl (100 kB)\n",
            "   ---------------------------------------- 0.0/100.5 kB ? eta -:--:--\n",
            "   ------------------------------------ --- 92.2/100.5 kB 1.7 MB/s eta 0:00:01\n",
            "   ---------------------------------------- 100.5/100.5 kB 1.9 MB/s eta 0:00:00\n",
            "Downloading setproctitle-1.3.3-cp311-cp311-win_amd64.whl (11 kB)\n",
            "Downloading gitdb-4.0.11-py3-none-any.whl (62 kB)\n",
            "   ---------------------------------------- 0.0/62.7 kB ? eta -:--:--\n",
            "   ---------------------------------------- 62.7/62.7 kB ? eta 0:00:00\n",
            "Downloading shtab-1.6.4-py3-none-any.whl (13 kB)\n",
            "Downloading smmap-5.0.1-py3-none-any.whl (24 kB)\n",
            "Installing collected packages: bitsandbytes, smmap, shtab, setproctitle, sentry-sdk, docstring-parser, docker-pycreds, gitdb, tyro, GitPython, wandb, trl, peft\n",
            "Successfully installed GitPython-3.1.40 bitsandbytes-0.41.2.post2 docker-pycreds-0.4.0 docstring-parser-0.15 gitdb-4.0.11 peft-0.6.2 sentry-sdk-1.36.0 setproctitle-1.3.3 shtab-1.6.4 smmap-5.0.1 trl-0.7.4 tyro-0.5.17 wandb-0.16.0\n"
          ]
        },
        {
          "name": "stderr",
          "output_type": "stream",
          "text": [
            "DEPRECATION: omegaconf 2.0.6 has a non-standard dependency specifier PyYAML>=5.1.*. pip 24.0 will enforce this behaviour change. A possible replacement is to upgrade to a newer version of omegaconf or contact the author to suggest that they release a version with a conforming dependency specifiers. Discussion can be found at https://github.com/pypa/pip/issues/12063\n"
          ]
        }
      ],
      "source": [
        "!pip install torch transformers datasets peft bitsandbytes trl wandb gdown"
      ]
    },
    {
      "cell_type": "code",
      "execution_count": 5,
      "metadata": {
        "id": "qYrJM6U9ygFq"
      },
      "outputs": [
        {
          "name": "stdout",
          "output_type": "stream",
          "text": [
            "\n",
            "===================================BUG REPORT===================================\n",
            "================================================================================\n",
            "The following directories listed in your path were found to be non-existent: {WindowsPath('vs/workbench/api/node/extensionHostProcess')}\n",
            "The following directories listed in your path were found to be non-existent: {WindowsPath('/matplotlib_inline.backend_inline'), WindowsPath('module')}\n",
            "CUDA_SETUP: WARNING! libcudart.so not found in any environmental path. Searching in backup paths...\n",
            "The following directories listed in your path were found to be non-existent: {WindowsPath('/usr/local/cuda/lib64')}\n",
            "DEBUG: Possible options found for libcudart.so: set()\n",
            "CUDA SETUP: PyTorch settings found: CUDA_VERSION=118, Highest Compute Capability: 8.6.\n",
            "CUDA SETUP: To manually override the PyTorch CUDA version please see:https://github.com/TimDettmers/bitsandbytes/blob/main/how_to_use_nonpytorch_cuda.md\n",
            "CUDA SETUP: Loading binary C:\\Users\\minhd\\AppData\\Local\\Packages\\PythonSoftwareFoundation.Python.3.11_qbz5n2kfra8p0\\LocalCache\\local-packages\\Python311\\site-packages\\bitsandbytes\\libbitsandbytes_cuda118.so...\n",
            "argument of type 'WindowsPath' is not iterable\n",
            "CUDA SETUP: Problem: The main issue seems to be that the main CUDA runtime library was not detected.\n",
            "CUDA SETUP: Solution 1: To solve the issue the libcudart.so location needs to be added to the LD_LIBRARY_PATH variable\n",
            "CUDA SETUP: Solution 1a): Find the cuda runtime library via: find / -name libcudart.so 2>/dev/null\n",
            "CUDA SETUP: Solution 1b): Once the library is found add it to the LD_LIBRARY_PATH: export LD_LIBRARY_PATH=$LD_LIBRARY_PATH:FOUND_PATH_FROM_1a\n",
            "CUDA SETUP: Solution 1c): For a permanent solution add the export from 1b into your .bashrc file, located at ~/.bashrc\n",
            "CUDA SETUP: Solution 2: If no library was found in step 1a) you need to install CUDA.\n",
            "CUDA SETUP: Solution 2a): Download CUDA install script: wget https://github.com/TimDettmers/bitsandbytes/blob/main/cuda_install.sh\n",
            "CUDA SETUP: Solution 2b): Install desired CUDA version to desired location. The syntax is bash cuda_install.sh CUDA_VERSION PATH_TO_INSTALL_INTO.\n",
            "CUDA SETUP: Solution 2b): For example, \"bash cuda_install.sh 113 ~/local/\" will download CUDA 11.3 and install into the folder ~/local\n"
          ]
        },
        {
          "ename": "RuntimeError",
          "evalue": "\n        CUDA Setup failed despite GPU being available. Please run the following command to get more information:\n\n        python -m bitsandbytes\n\n        Inspect the output of the command and see if you can locate CUDA libraries. You might need to add them\n        to your LD_LIBRARY_PATH. If you suspect a bug, please take the information from python -m bitsandbytes\n        and open an issue at: https://github.com/TimDettmers/bitsandbytes/issues",
          "output_type": "error",
          "traceback": [
            "\u001b[1;31m---------------------------------------------------------------------------\u001b[0m",
            "\u001b[1;31mRuntimeError\u001b[0m                              Traceback (most recent call last)",
            "\u001b[1;32md:\\GradientsTechnologies\\DecomposeModel\\QuestionDecomposition_Mistral_7B.ipynb Cell 6\u001b[0m line \u001b[0;36m9\n\u001b[0;32m      <a href='vscode-notebook-cell:/d%3A/GradientsTechnologies/DecomposeModel/QuestionDecomposition_Mistral_7B.ipynb#W5sZmlsZQ%3D%3D?line=6'>7</a>\u001b[0m \u001b[39mfrom\u001b[39;00m \u001b[39mdatasets\u001b[39;00m \u001b[39mimport\u001b[39;00m Dataset, load_dataset, load_from_disk\n\u001b[0;32m      <a href='vscode-notebook-cell:/d%3A/GradientsTechnologies/DecomposeModel/QuestionDecomposition_Mistral_7B.ipynb#W5sZmlsZQ%3D%3D?line=7'>8</a>\u001b[0m \u001b[39mfrom\u001b[39;00m \u001b[39mhuggingface_hub\u001b[39;00m \u001b[39mimport\u001b[39;00m notebook_login\n\u001b[1;32m----> <a href='vscode-notebook-cell:/d%3A/GradientsTechnologies/DecomposeModel/QuestionDecomposition_Mistral_7B.ipynb#W5sZmlsZQ%3D%3D?line=8'>9</a>\u001b[0m \u001b[39mfrom\u001b[39;00m \u001b[39mpeft\u001b[39;00m \u001b[39mimport\u001b[39;00m LoraConfig, PeftModel\n\u001b[0;32m     <a href='vscode-notebook-cell:/d%3A/GradientsTechnologies/DecomposeModel/QuestionDecomposition_Mistral_7B.ipynb#W5sZmlsZQ%3D%3D?line=9'>10</a>\u001b[0m \u001b[39mfrom\u001b[39;00m \u001b[39mtransformers\u001b[39;00m \u001b[39mimport\u001b[39;00m (\n\u001b[0;32m     <a href='vscode-notebook-cell:/d%3A/GradientsTechnologies/DecomposeModel/QuestionDecomposition_Mistral_7B.ipynb#W5sZmlsZQ%3D%3D?line=10'>11</a>\u001b[0m     AutoModelForCausalLM,\n\u001b[0;32m     <a href='vscode-notebook-cell:/d%3A/GradientsTechnologies/DecomposeModel/QuestionDecomposition_Mistral_7B.ipynb#W5sZmlsZQ%3D%3D?line=11'>12</a>\u001b[0m     AutoTokenizer,\n\u001b[1;32m   (...)\u001b[0m\n\u001b[0;32m     <a href='vscode-notebook-cell:/d%3A/GradientsTechnologies/DecomposeModel/QuestionDecomposition_Mistral_7B.ipynb#W5sZmlsZQ%3D%3D?line=15'>16</a>\u001b[0m     logging,\n\u001b[0;32m     <a href='vscode-notebook-cell:/d%3A/GradientsTechnologies/DecomposeModel/QuestionDecomposition_Mistral_7B.ipynb#W5sZmlsZQ%3D%3D?line=16'>17</a>\u001b[0m )\n\u001b[0;32m     <a href='vscode-notebook-cell:/d%3A/GradientsTechnologies/DecomposeModel/QuestionDecomposition_Mistral_7B.ipynb#W5sZmlsZQ%3D%3D?line=17'>18</a>\u001b[0m \u001b[39mfrom\u001b[39;00m \u001b[39mtrl\u001b[39;00m \u001b[39mimport\u001b[39;00m SFTTrainer \u001b[39m# For supervised finetuning\u001b[39;00m\n",
            "File \u001b[1;32m~\\AppData\\Local\\Packages\\PythonSoftwareFoundation.Python.3.11_qbz5n2kfra8p0\\LocalCache\\local-packages\\Python311\\site-packages\\peft\\__init__.py:22\u001b[0m\n\u001b[0;32m      1\u001b[0m \u001b[39m# flake8: noqa\u001b[39;00m\n\u001b[0;32m      2\u001b[0m \u001b[39m# There's no way to ignore \"F401 '...' imported but unused\" warnings in this\u001b[39;00m\n\u001b[0;32m      3\u001b[0m \u001b[39m# module, but to preserve other warnings. So, don't check this module at all.\u001b[39;00m\n\u001b[1;32m   (...)\u001b[0m\n\u001b[0;32m     17\u001b[0m \u001b[39m# See the License for the specific language governing permissions and\u001b[39;00m\n\u001b[0;32m     18\u001b[0m \u001b[39m# limitations under the License.\u001b[39;00m\n\u001b[0;32m     20\u001b[0m __version__ \u001b[39m=\u001b[39m \u001b[39m\"\u001b[39m\u001b[39m0.6.2\u001b[39m\u001b[39m\"\u001b[39m\n\u001b[1;32m---> 22\u001b[0m \u001b[39mfrom\u001b[39;00m \u001b[39m.\u001b[39;00m\u001b[39mauto\u001b[39;00m \u001b[39mimport\u001b[39;00m (\n\u001b[0;32m     23\u001b[0m     AutoPeftModel,\n\u001b[0;32m     24\u001b[0m     AutoPeftModelForCausalLM,\n\u001b[0;32m     25\u001b[0m     AutoPeftModelForSequenceClassification,\n\u001b[0;32m     26\u001b[0m     AutoPeftModelForSeq2SeqLM,\n\u001b[0;32m     27\u001b[0m     AutoPeftModelForTokenClassification,\n\u001b[0;32m     28\u001b[0m     AutoPeftModelForQuestionAnswering,\n\u001b[0;32m     29\u001b[0m     AutoPeftModelForFeatureExtraction,\n\u001b[0;32m     30\u001b[0m )\n\u001b[0;32m     31\u001b[0m \u001b[39mfrom\u001b[39;00m \u001b[39m.\u001b[39;00m\u001b[39mmapping\u001b[39;00m \u001b[39mimport\u001b[39;00m (\n\u001b[0;32m     32\u001b[0m     MODEL_TYPE_TO_PEFT_MODEL_MAPPING,\n\u001b[0;32m     33\u001b[0m     PEFT_TYPE_TO_CONFIG_MAPPING,\n\u001b[1;32m   (...)\u001b[0m\n\u001b[0;32m     36\u001b[0m     inject_adapter_in_model,\n\u001b[0;32m     37\u001b[0m )\n\u001b[0;32m     38\u001b[0m \u001b[39mfrom\u001b[39;00m \u001b[39m.\u001b[39;00m\u001b[39mpeft_model\u001b[39;00m \u001b[39mimport\u001b[39;00m (\n\u001b[0;32m     39\u001b[0m     PeftModel,\n\u001b[0;32m     40\u001b[0m     PeftModelForCausalLM,\n\u001b[1;32m   (...)\u001b[0m\n\u001b[0;32m     45\u001b[0m     PeftModelForFeatureExtraction,\n\u001b[0;32m     46\u001b[0m )\n",
            "File \u001b[1;32m~\\AppData\\Local\\Packages\\PythonSoftwareFoundation.Python.3.11_qbz5n2kfra8p0\\LocalCache\\local-packages\\Python311\\site-packages\\peft\\auto.py:31\u001b[0m\n\u001b[0;32m     21\u001b[0m \u001b[39mfrom\u001b[39;00m \u001b[39mtransformers\u001b[39;00m \u001b[39mimport\u001b[39;00m (\n\u001b[0;32m     22\u001b[0m     AutoModel,\n\u001b[0;32m     23\u001b[0m     AutoModelForCausalLM,\n\u001b[1;32m   (...)\u001b[0m\n\u001b[0;32m     27\u001b[0m     AutoModelForTokenClassification,\n\u001b[0;32m     28\u001b[0m )\n\u001b[0;32m     30\u001b[0m \u001b[39mfrom\u001b[39;00m \u001b[39m.\u001b[39;00m\u001b[39mconfig\u001b[39;00m \u001b[39mimport\u001b[39;00m PeftConfig\n\u001b[1;32m---> 31\u001b[0m \u001b[39mfrom\u001b[39;00m \u001b[39m.\u001b[39;00m\u001b[39mmapping\u001b[39;00m \u001b[39mimport\u001b[39;00m MODEL_TYPE_TO_PEFT_MODEL_MAPPING\n\u001b[0;32m     32\u001b[0m \u001b[39mfrom\u001b[39;00m \u001b[39m.\u001b[39;00m\u001b[39mpeft_model\u001b[39;00m \u001b[39mimport\u001b[39;00m (\n\u001b[0;32m     33\u001b[0m     PeftModel,\n\u001b[0;32m     34\u001b[0m     PeftModelForCausalLM,\n\u001b[1;32m   (...)\u001b[0m\n\u001b[0;32m     39\u001b[0m     PeftModelForTokenClassification,\n\u001b[0;32m     40\u001b[0m )\n\u001b[0;32m     43\u001b[0m \u001b[39mclass\u001b[39;00m \u001b[39m_BaseAutoPeftModel\u001b[39;00m:\n",
            "File \u001b[1;32m~\\AppData\\Local\\Packages\\PythonSoftwareFoundation.Python.3.11_qbz5n2kfra8p0\\LocalCache\\local-packages\\Python311\\site-packages\\peft\\mapping.py:23\u001b[0m\n\u001b[0;32m     20\u001b[0m \u001b[39mimport\u001b[39;00m \u001b[39mtorch\u001b[39;00m\n\u001b[0;32m     22\u001b[0m \u001b[39mfrom\u001b[39;00m \u001b[39m.\u001b[39;00m\u001b[39mconfig\u001b[39;00m \u001b[39mimport\u001b[39;00m PeftConfig\n\u001b[1;32m---> 23\u001b[0m \u001b[39mfrom\u001b[39;00m \u001b[39m.\u001b[39;00m\u001b[39mpeft_model\u001b[39;00m \u001b[39mimport\u001b[39;00m (\n\u001b[0;32m     24\u001b[0m     PeftModel,\n\u001b[0;32m     25\u001b[0m     PeftModelForCausalLM,\n\u001b[0;32m     26\u001b[0m     PeftModelForFeatureExtraction,\n\u001b[0;32m     27\u001b[0m     PeftModelForQuestionAnswering,\n\u001b[0;32m     28\u001b[0m     PeftModelForSeq2SeqLM,\n\u001b[0;32m     29\u001b[0m     PeftModelForSequenceClassification,\n\u001b[0;32m     30\u001b[0m     PeftModelForTokenClassification,\n\u001b[0;32m     31\u001b[0m )\n\u001b[0;32m     32\u001b[0m \u001b[39mfrom\u001b[39;00m \u001b[39m.\u001b[39;00m\u001b[39mtuners\u001b[39;00m \u001b[39mimport\u001b[39;00m (\n\u001b[0;32m     33\u001b[0m     AdaLoraConfig,\n\u001b[0;32m     34\u001b[0m     AdaLoraModel,\n\u001b[1;32m   (...)\u001b[0m\n\u001b[0;32m     47\u001b[0m     PromptTuningConfig,\n\u001b[0;32m     48\u001b[0m )\n\u001b[0;32m     49\u001b[0m \u001b[39mfrom\u001b[39;00m \u001b[39m.\u001b[39;00m\u001b[39mutils\u001b[39;00m \u001b[39mimport\u001b[39;00m _prepare_prompt_learning_config\n",
            "File \u001b[1;32m~\\AppData\\Local\\Packages\\PythonSoftwareFoundation.Python.3.11_qbz5n2kfra8p0\\LocalCache\\local-packages\\Python311\\site-packages\\peft\\peft_model.py:39\u001b[0m\n\u001b[0;32m     37\u001b[0m \u001b[39mfrom\u001b[39;00m \u001b[39m.\u001b[39;00m \u001b[39mimport\u001b[39;00m __version__\n\u001b[0;32m     38\u001b[0m \u001b[39mfrom\u001b[39;00m \u001b[39m.\u001b[39;00m\u001b[39mconfig\u001b[39;00m \u001b[39mimport\u001b[39;00m PeftConfig\n\u001b[1;32m---> 39\u001b[0m \u001b[39mfrom\u001b[39;00m \u001b[39m.\u001b[39;00m\u001b[39mtuners\u001b[39;00m \u001b[39mimport\u001b[39;00m (\n\u001b[0;32m     40\u001b[0m     AdaLoraModel,\n\u001b[0;32m     41\u001b[0m     AdaptionPromptModel,\n\u001b[0;32m     42\u001b[0m     IA3Model,\n\u001b[0;32m     43\u001b[0m     LoHaModel,\n\u001b[0;32m     44\u001b[0m     LoKrModel,\n\u001b[0;32m     45\u001b[0m     LoraModel,\n\u001b[0;32m     46\u001b[0m     MultitaskPromptEmbedding,\n\u001b[0;32m     47\u001b[0m     PrefixEncoder,\n\u001b[0;32m     48\u001b[0m     PromptEmbedding,\n\u001b[0;32m     49\u001b[0m     PromptEncoder,\n\u001b[0;32m     50\u001b[0m )\n\u001b[0;32m     51\u001b[0m \u001b[39mfrom\u001b[39;00m \u001b[39m.\u001b[39;00m\u001b[39mutils\u001b[39;00m \u001b[39mimport\u001b[39;00m (\n\u001b[0;32m     52\u001b[0m     SAFETENSORS_WEIGHTS_NAME,\n\u001b[0;32m     53\u001b[0m     TRANSFORMERS_MODELS_TO_PREFIX_TUNING_POSTPROCESS_MAPPING,\n\u001b[1;32m   (...)\u001b[0m\n\u001b[0;32m     66\u001b[0m     shift_tokens_right,\n\u001b[0;32m     67\u001b[0m )\n\u001b[0;32m     70\u001b[0m PEFT_TYPE_TO_MODEL_MAPPING \u001b[39m=\u001b[39m {\n\u001b[0;32m     71\u001b[0m     PeftType\u001b[39m.\u001b[39mLORA: LoraModel,\n\u001b[0;32m     72\u001b[0m     PeftType\u001b[39m.\u001b[39mLOHA: LoHaModel,\n\u001b[1;32m   (...)\u001b[0m\n\u001b[0;32m     79\u001b[0m     PeftType\u001b[39m.\u001b[39mIA3: IA3Model,\n\u001b[0;32m     80\u001b[0m }\n",
            "File \u001b[1;32m~\\AppData\\Local\\Packages\\PythonSoftwareFoundation.Python.3.11_qbz5n2kfra8p0\\LocalCache\\local-packages\\Python311\\site-packages\\peft\\tuners\\__init__.py:21\u001b[0m\n\u001b[0;32m      1\u001b[0m \u001b[39m# flake8: noqa\u001b[39;00m\n\u001b[0;32m      2\u001b[0m \u001b[39m# There's no way to ignore \"F401 '...' imported but unused\" warnings in this\u001b[39;00m\n\u001b[0;32m      3\u001b[0m \u001b[39m# module, but to preserve other warnings. So, don't check this module at all\u001b[39;00m\n\u001b[1;32m   (...)\u001b[0m\n\u001b[0;32m     17\u001b[0m \u001b[39m# See the License for the specific language governing permissions and\u001b[39;00m\n\u001b[0;32m     18\u001b[0m \u001b[39m# limitations under the License.\u001b[39;00m\n\u001b[0;32m     20\u001b[0m \u001b[39mfrom\u001b[39;00m \u001b[39m.\u001b[39;00m\u001b[39madaption_prompt\u001b[39;00m \u001b[39mimport\u001b[39;00m AdaptionPromptConfig, AdaptionPromptModel\n\u001b[1;32m---> 21\u001b[0m \u001b[39mfrom\u001b[39;00m \u001b[39m.\u001b[39;00m\u001b[39mlora\u001b[39;00m \u001b[39mimport\u001b[39;00m LoraConfig, LoraModel\n\u001b[0;32m     22\u001b[0m \u001b[39mfrom\u001b[39;00m \u001b[39m.\u001b[39;00m\u001b[39mloha\u001b[39;00m \u001b[39mimport\u001b[39;00m LoHaConfig, LoHaModel\n\u001b[0;32m     23\u001b[0m \u001b[39mfrom\u001b[39;00m \u001b[39m.\u001b[39;00m\u001b[39mlokr\u001b[39;00m \u001b[39mimport\u001b[39;00m LoKrConfig, LoKrModel\n",
            "File \u001b[1;32m~\\AppData\\Local\\Packages\\PythonSoftwareFoundation.Python.3.11_qbz5n2kfra8p0\\LocalCache\\local-packages\\Python311\\site-packages\\peft\\tuners\\lora\\__init__.py:21\u001b[0m\n\u001b[0;32m     19\u001b[0m \u001b[39mfrom\u001b[39;00m \u001b[39m.\u001b[39;00m\u001b[39mgptq\u001b[39;00m \u001b[39mimport\u001b[39;00m QuantLinear\n\u001b[0;32m     20\u001b[0m \u001b[39mfrom\u001b[39;00m \u001b[39m.\u001b[39;00m\u001b[39mlayer\u001b[39;00m \u001b[39mimport\u001b[39;00m Conv2d, Embedding, Linear, LoraLayer\n\u001b[1;32m---> 21\u001b[0m \u001b[39mfrom\u001b[39;00m \u001b[39m.\u001b[39;00m\u001b[39mmodel\u001b[39;00m \u001b[39mimport\u001b[39;00m LoraModel\n\u001b[0;32m     24\u001b[0m __all__ \u001b[39m=\u001b[39m [\u001b[39m\"\u001b[39m\u001b[39mLoraConfig\u001b[39m\u001b[39m\"\u001b[39m, \u001b[39m\"\u001b[39m\u001b[39mConv2d\u001b[39m\u001b[39m\"\u001b[39m, \u001b[39m\"\u001b[39m\u001b[39mEmbedding\u001b[39m\u001b[39m\"\u001b[39m, \u001b[39m\"\u001b[39m\u001b[39mLoraLayer\u001b[39m\u001b[39m\"\u001b[39m, \u001b[39m\"\u001b[39m\u001b[39mLinear\u001b[39m\u001b[39m\"\u001b[39m, \u001b[39m\"\u001b[39m\u001b[39mLoraModel\u001b[39m\u001b[39m\"\u001b[39m, \u001b[39m\"\u001b[39m\u001b[39mQuantLinear\u001b[39m\u001b[39m\"\u001b[39m]\n\u001b[0;32m     27\u001b[0m \u001b[39mif\u001b[39;00m is_bnb_available():\n",
            "File \u001b[1;32m~\\AppData\\Local\\Packages\\PythonSoftwareFoundation.Python.3.11_qbz5n2kfra8p0\\LocalCache\\local-packages\\Python311\\site-packages\\peft\\tuners\\lora\\model.py:45\u001b[0m\n\u001b[0;32m     41\u001b[0m \u001b[39mfrom\u001b[39;00m \u001b[39m.\u001b[39;00m\u001b[39mlayer\u001b[39;00m \u001b[39mimport\u001b[39;00m Conv2d, Embedding, Linear, LoraLayer\n\u001b[0;32m     44\u001b[0m \u001b[39mif\u001b[39;00m is_bnb_available():\n\u001b[1;32m---> 45\u001b[0m     \u001b[39mimport\u001b[39;00m \u001b[39mbitsandbytes\u001b[39;00m \u001b[39mas\u001b[39;00m \u001b[39mbnb\u001b[39;00m\n\u001b[0;32m     47\u001b[0m     \u001b[39mfrom\u001b[39;00m \u001b[39m.\u001b[39;00m\u001b[39mbnb\u001b[39;00m \u001b[39mimport\u001b[39;00m Linear8bitLt\n\u001b[0;32m     49\u001b[0m \u001b[39mif\u001b[39;00m is_bnb_4bit_available():\n",
            "File \u001b[1;32m~\\AppData\\Local\\Packages\\PythonSoftwareFoundation.Python.3.11_qbz5n2kfra8p0\\LocalCache\\local-packages\\Python311\\site-packages\\bitsandbytes\\__init__.py:6\u001b[0m\n\u001b[0;32m      1\u001b[0m \u001b[39m# Copyright (c) Facebook, Inc. and its affiliates.\u001b[39;00m\n\u001b[0;32m      2\u001b[0m \u001b[39m#\u001b[39;00m\n\u001b[0;32m      3\u001b[0m \u001b[39m# This source code is licensed under the MIT license found in the\u001b[39;00m\n\u001b[0;32m      4\u001b[0m \u001b[39m# LICENSE file in the root directory of this source tree.\u001b[39;00m\n\u001b[1;32m----> 6\u001b[0m \u001b[39mfrom\u001b[39;00m \u001b[39m.\u001b[39;00m \u001b[39mimport\u001b[39;00m cuda_setup, utils, research\n\u001b[0;32m      7\u001b[0m \u001b[39mfrom\u001b[39;00m \u001b[39m.\u001b[39;00m\u001b[39mautograd\u001b[39;00m\u001b[39m.\u001b[39;00m\u001b[39m_functions\u001b[39;00m \u001b[39mimport\u001b[39;00m (\n\u001b[0;32m      8\u001b[0m     MatmulLtState,\n\u001b[0;32m      9\u001b[0m     bmm_cublas,\n\u001b[1;32m   (...)\u001b[0m\n\u001b[0;32m     13\u001b[0m     matmul_4bit\n\u001b[0;32m     14\u001b[0m )\n\u001b[0;32m     15\u001b[0m \u001b[39mfrom\u001b[39;00m \u001b[39m.\u001b[39;00m\u001b[39mcextension\u001b[39;00m \u001b[39mimport\u001b[39;00m COMPILED_WITH_CUDA\n",
            "File \u001b[1;32m~\\AppData\\Local\\Packages\\PythonSoftwareFoundation.Python.3.11_qbz5n2kfra8p0\\LocalCache\\local-packages\\Python311\\site-packages\\bitsandbytes\\research\\__init__.py:1\u001b[0m\n\u001b[1;32m----> 1\u001b[0m \u001b[39mfrom\u001b[39;00m \u001b[39m.\u001b[39;00m \u001b[39mimport\u001b[39;00m nn\n\u001b[0;32m      2\u001b[0m \u001b[39mfrom\u001b[39;00m \u001b[39m.\u001b[39;00m\u001b[39mautograd\u001b[39;00m\u001b[39m.\u001b[39;00m\u001b[39m_functions\u001b[39;00m \u001b[39mimport\u001b[39;00m (\n\u001b[0;32m      3\u001b[0m     switchback_bnb,\n\u001b[0;32m      4\u001b[0m     matmul_fp8_global,\n\u001b[0;32m      5\u001b[0m     matmul_fp8_mixed,\n\u001b[0;32m      6\u001b[0m )\n",
            "File \u001b[1;32m~\\AppData\\Local\\Packages\\PythonSoftwareFoundation.Python.3.11_qbz5n2kfra8p0\\LocalCache\\local-packages\\Python311\\site-packages\\bitsandbytes\\research\\nn\\__init__.py:1\u001b[0m\n\u001b[1;32m----> 1\u001b[0m \u001b[39mfrom\u001b[39;00m \u001b[39m.\u001b[39;00m\u001b[39mmodules\u001b[39;00m \u001b[39mimport\u001b[39;00m LinearFP8Mixed, LinearFP8Global\n",
            "File \u001b[1;32m~\\AppData\\Local\\Packages\\PythonSoftwareFoundation.Python.3.11_qbz5n2kfra8p0\\LocalCache\\local-packages\\Python311\\site-packages\\bitsandbytes\\research\\nn\\modules.py:8\u001b[0m\n\u001b[0;32m      5\u001b[0m \u001b[39mfrom\u001b[39;00m \u001b[39mtorch\u001b[39;00m \u001b[39mimport\u001b[39;00m Tensor, device, dtype, nn\n\u001b[0;32m      7\u001b[0m \u001b[39mimport\u001b[39;00m \u001b[39mbitsandbytes\u001b[39;00m \u001b[39mas\u001b[39;00m \u001b[39mbnb\u001b[39;00m\n\u001b[1;32m----> 8\u001b[0m \u001b[39mfrom\u001b[39;00m \u001b[39mbitsandbytes\u001b[39;00m\u001b[39m.\u001b[39;00m\u001b[39moptim\u001b[39;00m \u001b[39mimport\u001b[39;00m GlobalOptimManager\n\u001b[0;32m      9\u001b[0m \u001b[39mfrom\u001b[39;00m \u001b[39mbitsandbytes\u001b[39;00m\u001b[39m.\u001b[39;00m\u001b[39mutils\u001b[39;00m \u001b[39mimport\u001b[39;00m OutlierTracer, find_outlier_dims\n\u001b[0;32m     11\u001b[0m T \u001b[39m=\u001b[39m TypeVar(\u001b[39m\"\u001b[39m\u001b[39mT\u001b[39m\u001b[39m\"\u001b[39m, bound\u001b[39m=\u001b[39m\u001b[39m\"\u001b[39m\u001b[39mtorch.nn.Module\u001b[39m\u001b[39m\"\u001b[39m)\n",
            "File \u001b[1;32m~\\AppData\\Local\\Packages\\PythonSoftwareFoundation.Python.3.11_qbz5n2kfra8p0\\LocalCache\\local-packages\\Python311\\site-packages\\bitsandbytes\\optim\\__init__.py:6\u001b[0m\n\u001b[0;32m      1\u001b[0m \u001b[39m# Copyright (c) Facebook, Inc. and its affiliates.\u001b[39;00m\n\u001b[0;32m      2\u001b[0m \u001b[39m#\u001b[39;00m\n\u001b[0;32m      3\u001b[0m \u001b[39m# This source code is licensed under the MIT license found in the\u001b[39;00m\n\u001b[0;32m      4\u001b[0m \u001b[39m# LICENSE file in the root directory of this source tree.\u001b[39;00m\n\u001b[1;32m----> 6\u001b[0m \u001b[39mfrom\u001b[39;00m \u001b[39mbitsandbytes\u001b[39;00m\u001b[39m.\u001b[39;00m\u001b[39mcextension\u001b[39;00m \u001b[39mimport\u001b[39;00m COMPILED_WITH_CUDA\n\u001b[0;32m      8\u001b[0m \u001b[39mfrom\u001b[39;00m \u001b[39m.\u001b[39;00m\u001b[39madagrad\u001b[39;00m \u001b[39mimport\u001b[39;00m Adagrad, Adagrad8bit, Adagrad32bit\n\u001b[0;32m      9\u001b[0m \u001b[39mfrom\u001b[39;00m \u001b[39m.\u001b[39;00m\u001b[39madam\u001b[39;00m \u001b[39mimport\u001b[39;00m Adam, Adam8bit, Adam32bit, PagedAdam, PagedAdam8bit, PagedAdam32bit\n",
            "File \u001b[1;32m~\\AppData\\Local\\Packages\\PythonSoftwareFoundation.Python.3.11_qbz5n2kfra8p0\\LocalCache\\local-packages\\Python311\\site-packages\\bitsandbytes\\cextension.py:20\u001b[0m\n\u001b[0;32m     18\u001b[0m     CUDASetup\u001b[39m.\u001b[39mget_instance()\u001b[39m.\u001b[39mgenerate_instructions()\n\u001b[0;32m     19\u001b[0m     CUDASetup\u001b[39m.\u001b[39mget_instance()\u001b[39m.\u001b[39mprint_log_stack()\n\u001b[1;32m---> 20\u001b[0m     \u001b[39mraise\u001b[39;00m \u001b[39mRuntimeError\u001b[39;00m(\u001b[39m'''\u001b[39m\n\u001b[0;32m     21\u001b[0m \u001b[39m    CUDA Setup failed despite GPU being available. Please run the following command to get more information:\u001b[39m\n\u001b[0;32m     22\u001b[0m \n\u001b[0;32m     23\u001b[0m \u001b[39m    python -m bitsandbytes\u001b[39m\n\u001b[0;32m     24\u001b[0m \n\u001b[0;32m     25\u001b[0m \u001b[39m    Inspect the output of the command and see if you can locate CUDA libraries. You might need to add them\u001b[39m\n\u001b[0;32m     26\u001b[0m \u001b[39m    to your LD_LIBRARY_PATH. If you suspect a bug, please take the information from python -m bitsandbytes\u001b[39m\n\u001b[0;32m     27\u001b[0m \u001b[39m    and open an issue at: https://github.com/TimDettmers/bitsandbytes/issues\u001b[39m\u001b[39m'''\u001b[39m)\n\u001b[0;32m     28\u001b[0m lib\u001b[39m.\u001b[39mcadam32bit_grad_fp32 \u001b[39m# runs on an error if the library could not be found -> COMPILED_WITH_CUDA=False\u001b[39;00m\n\u001b[0;32m     29\u001b[0m lib\u001b[39m.\u001b[39mget_context\u001b[39m.\u001b[39mrestype \u001b[39m=\u001b[39m ct\u001b[39m.\u001b[39mc_void_p\n",
            "\u001b[1;31mRuntimeError\u001b[0m: \n        CUDA Setup failed despite GPU being available. Please run the following command to get more information:\n\n        python -m bitsandbytes\n\n        Inspect the output of the command and see if you can locate CUDA libraries. You might need to add them\n        to your LD_LIBRARY_PATH. If you suspect a bug, please take the information from python -m bitsandbytes\n        and open an issue at: https://github.com/TimDettmers/bitsandbytes/issues"
          ]
        }
      ],
      "source": [
        "import json\n",
        "import re\n",
        "from pprint import pprint\n",
        "\n",
        "import pandas as pd\n",
        "import torch\n",
        "from datasets import Dataset, load_dataset, load_from_disk\n",
        "from huggingface_hub import notebook_login\n",
        "from peft import LoraConfig, PeftModel\n",
        "from transformers import (\n",
        "    AutoModelForCausalLM,\n",
        "    AutoTokenizer,\n",
        "    BitsAndBytesConfig,\n",
        "    TrainingArguments,\n",
        "    pipeline,\n",
        "    logging,\n",
        ")\n",
        "from trl import SFTTrainer # For supervised finetuning"
      ]
    },
    {
      "cell_type": "code",
      "execution_count": null,
      "metadata": {
        "colab": {
          "base_uri": "https://localhost:8080/",
          "height": 145,
          "referenced_widgets": [
            "917cc26824e9425e953a8c2e839879ad",
            "21c3721c22f449d7b9cb7c39e231acd1",
            "148f2c3c8a1143018feb33c422cc15c9",
            "a6a9ec2107364c40bf50fe10689e276b",
            "c47336d263ee48e68a91796cc7c8bc14",
            "2c54c9d67a864e71b94c5f236a4a8032",
            "abe8f2eb1d8041378f8563a05e0ad067",
            "087d67e19b644781b5bf2aeed04e5d3b",
            "d5450de925d64bf0a1de72c2898ea320",
            "97784ab663114c6fa33037286a5a41bb",
            "e626c034bac14aaa93ebc9443610786b",
            "2b36b10a6bae437b87f96527d7cc8de6",
            "5bf7f6b27a4a492b85809a403c9d8272",
            "33a543cdf3814e21b0acee611bfdefc2",
            "c2110c1a2f664a6b9d5fc9e7f2e2f62c",
            "97545d7320a84f838e4cb1e6426b59e3",
            "4160ebf609d24e31be4e8c5300ed8988",
            "3d8edb59a3a849c9847d744c6688798f",
            "3b1e185d0e5a433a9d55cd662e484675",
            "378310f96c164793b458a4a81a3fd8e4",
            "6d4707e222eb49cf874fd1ec4e2a48c7",
            "aef09d255d024878be6713ee3b7614e0",
            "080d30269f00422d9ada625873194f9b",
            "1f740fb0c14846b1aa7a82d47500bc87",
            "ce1ac033e99f4384b75896f6cc558484",
            "cb5b30d79317420a834f744a2b651cd6",
            "0d86ce0771b544a3bc0afe7bfeba55e5",
            "a61e3461ae6b4a7aaf47e4fa625cd8e9",
            "445382e7be80422cb4acffeff22041a0",
            "fd3650f92d884e6e9b65a3e008ec3449",
            "662e8b2bdacf45f3bf97935bc22e0656",
            "7fc279d6cb27430faee362d287ab3738"
          ]
        },
        "id": "FzqcaMg7TKQa",
        "outputId": "4f2ee369-72dc-4d1b-b356-2d354241d12b"
      },
      "outputs": [
        {
          "data": {
            "application/vnd.jupyter.widget-view+json": {
              "model_id": "917cc26824e9425e953a8c2e839879ad",
              "version_major": 2,
              "version_minor": 0
            },
            "text/plain": [
              "VBox(children=(HTML(value='<center> <img\\nsrc=https://huggingface.co/front/assets/huggingface_logo-noborder.sv…"
            ]
          },
          "metadata": {},
          "output_type": "display_data"
        }
      ],
      "source": [
        "from huggingface_hub import notebook_login\n",
        "# Log in to HF Hub\n",
        "notebook_login()"
      ]
    },
    {
      "cell_type": "markdown",
      "metadata": {
        "id": "MwJDiHSCzRJq"
      },
      "source": [
        "### Lets Load the Dataset\n",
        "\n",
        "We will fine-tune Mistral 7B Instruct for Conversational Chatbot.\n",
        "\n",
        "We will be using this [dataset](https://drive.google.com/file/d/1-0EVUR6gD-lbhIO29-6e_8PHtE7aOYnZ/view?usp=share_link). The dataset structure should resemble the following:\n",
        "\n",
        "```json\n",
        "{\n",
        "  \"input\": \"your prompt/query/question\",\n",
        "  \"response\": \"your lable\",\n",
        "  \"text\": \"combination of `input` and `response`\"\n",
        "}\n",
        "```\n",
        "user's utterance is wrapped by `[INST]` and `[/INST]` special token. On the other hand, user's utterance is seemed to be an instruction for the bot"
      ]
    },
    {
      "cell_type": "code",
      "execution_count": null,
      "metadata": {
        "colab": {
          "base_uri": "https://localhost:8080/"
        },
        "id": "RsY6URf2Hv2N",
        "outputId": "9f56e982-a78d-4527-dbb3-980ce4f658d6"
      },
      "outputs": [
        {
          "name": "stdout",
          "output_type": "stream",
          "text": [
            "Downloading...\n",
            "From: https://drive.google.com/uc?id=1yPswHVQTTLt0aR8zJhuilL672xEPu_cM\n",
            "To: /content/datasetdict_20_samples.zip\n",
            "\r  0% 0.00/16.1k [00:00<?, ?B/s]\r100% 16.1k/16.1k [00:00<00:00, 45.4MB/s]\n"
          ]
        }
      ],
      "source": [
        "!gdown 1yPswHVQTTLt0aR8zJhuilL672xEPu_cM"
      ]
    },
    {
      "cell_type": "code",
      "execution_count": null,
      "metadata": {
        "colab": {
          "base_uri": "https://localhost:8080/"
        },
        "id": "QXNjT4l6QOcX",
        "outputId": "cc60c81d-0136-4549-86c7-ea2818cd957f"
      },
      "outputs": [
        {
          "name": "stdout",
          "output_type": "stream",
          "text": [
            "Archive:  /content/datasetdict_20_samples.zip\n",
            " extracting: datasetdict_20_samples/dataset_dict.json  \n",
            "   creating: datasetdict_20_samples/train/\n",
            "  inflating: datasetdict_20_samples/train/data-00000-of-00001.arrow  \n",
            "  inflating: datasetdict_20_samples/train/dataset_info.json  \n",
            "  inflating: datasetdict_20_samples/train/state.json  \n"
          ]
        }
      ],
      "source": [
        "!unzip /content/datasetdict_20_samples.zip"
      ]
    },
    {
      "cell_type": "code",
      "execution_count": null,
      "metadata": {
        "colab": {
          "base_uri": "https://localhost:8080/"
        },
        "id": "3osXHnmyzQ9I",
        "outputId": "c9d8566d-fcf0-414d-ca63-847702977116"
      },
      "outputs": [
        {
          "data": {
            "text/plain": [
              "DatasetDict({\n",
              "    train: Dataset({\n",
              "        features: ['entities', 'passages', 'answer', 'triples', 'complex_question'],\n",
              "        num_rows: 20\n",
              "    })\n",
              "})"
            ]
          },
          "execution_count": 2,
          "metadata": {},
          "output_type": "execute_result"
        }
      ],
      "source": [
        "dataset = load_from_disk(\"/content/datasetdict_20_samples\")\n",
        "dataset"
      ]
    },
    {
      "cell_type": "code",
      "execution_count": null,
      "metadata": {
        "colab": {
          "base_uri": "https://localhost:8080/"
        },
        "id": "tNwh0cq7V7vh",
        "outputId": "97b00ed6-53f5-4020-d300-0bb2068143cd"
      },
      "outputs": [
        {
          "data": {
            "text/plain": [
              "['Move (1970 film)',\n",
              " 'Méditerranée (1963 film)',\n",
              " 'Stuart Rosenberg',\n",
              " 'Jean-Daniel Pollet']"
            ]
          },
          "execution_count": 3,
          "metadata": {},
          "output_type": "execute_result"
        }
      ],
      "source": [
        "dataset[\"train\"][0][\"entities\"]"
      ]
    },
    {
      "cell_type": "code",
      "execution_count": null,
      "metadata": {
        "colab": {
          "base_uri": "https://localhost:8080/",
          "height": 53
        },
        "id": "p1n9pMM0Qlcy",
        "outputId": "390ba4b4-0333-4540-c76d-20c0fedb93c3"
      },
      "outputs": [
        {
          "data": {
            "application/vnd.google.colaboratory.intrinsic+json": {
              "type": "string"
            },
            "text/plain": [
              "'No, the director of the film \"Move\" (1970) is from the United States, and the director of the film \"Méditerranée\" (1963) is from France.'"
            ]
          },
          "execution_count": 4,
          "metadata": {},
          "output_type": "execute_result"
        }
      ],
      "source": [
        "dataset[\"train\"][0][\"answer\"]"
      ]
    },
    {
      "cell_type": "code",
      "execution_count": null,
      "metadata": {
        "colab": {
          "base_uri": "https://localhost:8080/",
          "height": 53
        },
        "id": "Wk8_kRhjQoH8",
        "outputId": "7dc12347-7b5e-4de4-a28c-1e15db858cbd"
      },
      "outputs": [
        {
          "data": {
            "application/vnd.google.colaboratory.intrinsic+json": {
              "type": "string"
            },
            "text/plain": [
              "'Are director of film Move (1970 Film) and director of film Méditerranée (1963 Film) from the same country?'"
            ]
          },
          "execution_count": 11,
          "metadata": {},
          "output_type": "execute_result"
        }
      ],
      "source": [
        "dataset[\"train\"][0][\"complex_question\"]"
      ]
    },
    {
      "cell_type": "code",
      "execution_count": null,
      "metadata": {
        "colab": {
          "base_uri": "https://localhost:8080/"
        },
        "id": "NSgWfvFnQrKe",
        "outputId": "5219010a-51f8-438b-c3d6-6e9585ab1dc5"
      },
      "outputs": [
        {
          "data": {
            "text/plain": [
              "[{'answer': ' The director of the film \"Move\" is Stuart Rosenberg.',\n",
              "  'evidence': '\"Move\" is a 1970 American film directed by Stuart Rosenberg.',\n",
              "  'question': 'Who is the director of the film \"Move\" (1970 Film)?'},\n",
              " {'answer': 'Stuart Rosenberg was from the United States.',\n",
              "  'evidence': 'Stuart Rosenberg was an American film and television director.',\n",
              "  'question': 'Where was Stuart Rosenberg from?'},\n",
              " {'answer': 'The director of the film \"Méditerranée\" (1963) is Jean-Daniel Pollet.',\n",
              "  'evidence': '\"Méditerranée\" is a 1963 French short film directed by Jean-Daniel Pollet.',\n",
              "  'question': 'Who is the director of the film \"Méditerranée\" (1963)?'},\n",
              " {'answer': ' Jean-Daniel Pollet was from France.',\n",
              "  'evidence': 'Jean-Daniel Pollet was a French film director and screenwriter.',\n",
              "  'question': ' Where was Jean-Daniel Pollet from?'}]"
            ]
          },
          "execution_count": 12,
          "metadata": {},
          "output_type": "execute_result"
        }
      ],
      "source": [
        "dataset[\"train\"][0][\"triples\"]"
      ]
    },
    {
      "cell_type": "code",
      "execution_count": null,
      "metadata": {
        "id": "82mjNLJ-Inoi"
      },
      "outputs": [],
      "source": [
        "train_dataset = dataset[\"train\"]"
      ]
    },
    {
      "cell_type": "code",
      "execution_count": null,
      "metadata": {
        "id": "qITp5lwTQ14S"
      },
      "outputs": [],
      "source": [
        "prompt_template = \"\"\"Decompose the complex question to multiple simple questions.\n",
        "Each generated simple question is represented each sub-problem from the complex question so that after answering we have the necessary knowledge to answer the complex question.\n",
        "Complex question:\n",
        "{complex_question}\n",
        "Simple questions:\"\"\""
      ]
    },
    {
      "cell_type": "code",
      "execution_count": null,
      "metadata": {
        "colab": {
          "base_uri": "https://localhost:8080/"
        },
        "id": "b2h-_0jqWvIv",
        "outputId": "025014e3-f017-4708-ce0c-10c63af5c427"
      },
      "outputs": [
        {
          "data": {
            "text/plain": [
              "[[{'answer': ' The director of the film \"Move\" is Stuart Rosenberg.',\n",
              "   'evidence': '\"Move\" is a 1970 American film directed by Stuart Rosenberg.',\n",
              "   'question': 'Who is the director of the film \"Move\" (1970 Film)?'},\n",
              "  {'answer': 'Stuart Rosenberg was from the United States.',\n",
              "   'evidence': 'Stuart Rosenberg was an American film and television director.',\n",
              "   'question': 'Where was Stuart Rosenberg from?'},\n",
              "  {'answer': 'The director of the film \"Méditerranée\" (1963) is Jean-Daniel Pollet.',\n",
              "   'evidence': '\"Méditerranée\" is a 1963 French short film directed by Jean-Daniel Pollet.',\n",
              "   'question': 'Who is the director of the film \"Méditerranée\" (1963)?'},\n",
              "  {'answer': ' Jean-Daniel Pollet was from France.',\n",
              "   'evidence': 'Jean-Daniel Pollet was a French film director and screenwriter.',\n",
              "   'question': ' Where was Jean-Daniel Pollet from?'}],\n",
              " [{'answer': '\"The Falcon\" is a film title used in various contexts, and there is no specific information available without additional details.',\n",
              "   'evidence': '\"The Falcon\" is a film title used in various contexts, and there is no specific information available without additional details.',\n",
              "   'question': 'Who is the director of \"The Falcon (Film)\"?'},\n",
              "  {'answer': '\"Valentin the Good\" does not have a dedicated Wikipedia page with the information you requested.',\n",
              "   'evidence': '\"Valentin the Good\" does not have a dedicated Wikipedia page with the information you requested.',\n",
              "   'question': 'Who is the director of \"Valentin the Good\"?'}],\n",
              " [{'answer': '\"Charge It to Me\" does not have a dedicated Wikipedia page with the information you requested.',\n",
              "   'evidence': '\"Charge It to Me\" does not have a dedicated Wikipedia page with the information you requested.',\n",
              "   'question': 'Who is the director of \"Charge It to Me\"?'},\n",
              "  {'answer': 'The director of \"Danger: Diabolik\" is Mario Bava.',\n",
              "   'evidence': '\"Danger: Diabolik\" is a 1968 Italian-French action crime film directed by Mario Bava.',\n",
              "   'question': 'Who is the director of \"Danger: Diabolik\"?'}],\n",
              " [{'answer': \"We don't have information about Mina Gerhardsen's father from the given context.\",\n",
              "   'evidence': ' The provided context mentions Mina Gerhardsen but does not provide information about her father.',\n",
              "   'question': \"Follow up: Who is Mina Gerhardsen's father?\"}],\n",
              " [{'answer': 'The director of \"Wedding Night in Paradise\" (1950 Film) is Ralph Smart.',\n",
              "   'evidence': '\"Wedding Night in Paradise\" is a 1950 British comedy film directed by Ralph Smart.',\n",
              "   'question': 'Who is the director of \"Wedding Night in Paradise\" (1950 Film)?'},\n",
              "  {'answer': 'Ralph Smart is British.',\n",
              "   'evidence': 'The context mentions that \"Wedding Night in Paradise\" is a 1950 British comedy film directed by Ralph Smart.',\n",
              "   'question': 'What nationality is Ralph Smart?'}],\n",
              " [{'answer': ' The composer of the film \"Sruthilayalu\" is K. V. Mahadevan.',\n",
              "   'evidence': 'The context mentions that \"Sruthilayalu\" is a 1987 Indian Telugu-language drama film directed by K. Viswanath, and the music is composed by K. V. Mahadevan.',\n",
              "   'question': ' Who is the composer of the film \"Sruthilayalu\"?'},\n",
              "  {'answer': \"K. V. Mahadevan's birthday is on March 14, 1918.\",\n",
              "   'evidence': 'K. V. Mahadevan was an acclaimed Indian music composer and playback singer, born on March 14, 1918.',\n",
              "   'question': 'The composer of the film \"Sruthilayalu\" is K. V. Mahadevan.'}],\n",
              " [{'answer': 'Rhescuporis I (Odrysian) is an ancient Thracian ruler from the Odrysian kingdom.',\n",
              "   'evidence': 'The provided context mentions Rhescuporis I, an ancient Thracian ruler from the Odrysian kingdom.',\n",
              "   'question': 'Who is Rhescuporis I (Odrysian)?'},\n",
              "  {'answer': \"We don't have information about Rhescuporis I (Odrysian)'s father from the given context.\",\n",
              "   'evidence': 'The provided context mentions Rhescuporis I but does not provide information about his father.',\n",
              "   'question': \"Who is Rhescuporis I (Odrysian)'s father?\"},\n",
              "  {'answer': 'Cotys III (Odrysian) is an ancient Thracian ruler from the Odrysian kingdom.',\n",
              "   'evidence': ' The provided context mentions Cotys III, an ancient Thracian ruler from the Odrysian kingdom.',\n",
              "   'question': 'Who is Cotys III (Odrysian)?'},\n",
              "  {'answer': \"We don't have information about Cotys III (Odrysian)'s paternal grandfather from the given context.\",\n",
              "   'evidence': ' The provided context mentions Cotys III but does not provide information about his paternal grandfather.',\n",
              "   'question': \"Who is Cotys III (Odrysian)'s paternal grandfather?\"}],\n",
              " [{'answer': 'The director of \"The Ex-Mrs. Bradford\" is Stephen Roberts.',\n",
              "   'evidence': '\"The Ex-Mrs. Bradford\" is a 1936 American comedy-mystery film directed by Stephen Roberts.',\n",
              "   'question': 'Who is the director of \"The Ex-Mrs. Bradford\"?'},\n",
              "  {'answer': 'Stephen Roberts is American.',\n",
              "   'evidence': 'The context mentions that Stephen Roberts was an American film director and screenwriter.',\n",
              "   'question': ' What is the nationality of Stephen Roberts?'},\n",
              "  {'answer': 'The director of \"The Star of Santa Clara\" is Colin Campbell.',\n",
              "   'evidence': '\"The Star of Santa Clara\" is a 1915 American silent film directed by Colin Campbell.',\n",
              "   'question': 'Who is the director of \"The Star of Santa Clara\"?'},\n",
              "  {'answer': 'Colin Campbell is American.',\n",
              "   'evidence': 'The context mentions that \"The Star of Santa Clara\" is a 1915 American silent film directed by Colin Campbell.',\n",
              "   'question': 'What is the nationality of Colin Campbell?'}],\n",
              " [{'answer': 'The release date of \"The Love Route\" is not provided in the context.',\n",
              "   'evidence': 'The provided context mentions \"The Love Route.\"',\n",
              "   'question': 'What is the release date of \"The Love Route\"?'},\n",
              "  {'answer': 'The provided context mentions \"Engal Aasan.\"',\n",
              "   'evidence': 'The provided context mentions \"Engal Aasan.\"',\n",
              "   'question': 'What is the release date of \"Engal Aasan\"?'}],\n",
              " [{'answer': 'The director of the film \"The Fascist,\" Luciano Salce, was born in Italy.',\n",
              "   'evidence': 'The provided context mentions that Luciano Salce was born on September 25, 1922, in Italy.',\n",
              "   'question': ' What is the birthplace of Luciano Salce?'}],\n",
              " [{'answer': 'Wabash High School is located in the United States.',\n",
              "   'evidence': 'The provided context mentions that Wabash High School is located in Wabash, Indiana.',\n",
              "   'question': 'In which country is Wabash High School located?'},\n",
              "  {'answer': 'Matraville Sports High School is located in Australia.',\n",
              "   'evidence': ' The provided context mentions that Matraville Sports High School is located in Matraville, New South Wales, Australia.',\n",
              "   'question': 'In which country is Matraville Sports High School located?'}],\n",
              " [{'answer': 'No, there is no information available about the countries of origin for Alison Skipper and Diane Gilliam Fisher.',\n",
              "   'evidence': 'The provided context indicates that there is no Wikipedia page available for both Alison Skipper and Diane Gilliam Fisher.',\n",
              "   'question': \"Is there information available about Alison Skipper and Diane Gilliam Fisher's respective countries of origin?\"}],\n",
              " [{'answer': 'No, there is no information available about the countries of origin for the movies \"Bloody Birthday\" and \"The Beckoning Silence.\"',\n",
              "   'evidence': 'The provided context indicates that there are no Wikipedia pages available for both \"Bloody Birthday\" and \"The Beckoning Silence.\"',\n",
              "   'question': 'Is there information available about the countries of origin for the movies \"Bloody Birthday\" and \"The Beckoning Silence\"?'}],\n",
              " [{'answer': 'The performer of the song \"Soldier (Neil Young Song)\" is Neil Young, who is a Canadian-American musician.',\n",
              "   'evidence': 'The context provides general information about Neil Young, a Canadian-American musician.',\n",
              "   'question': 'Who is the performer of the song \"Soldier (Neil Young Song)\"?'}],\n",
              " [{'answer': 'The context does not provide information about the director of the film \"Borunbabur Bondhu.\"',\n",
              "   'evidence': 'The context mentions \"Borunbabur Bondhu\" as a film without providing the director\\'s name.',\n",
              "   'question': 'Who is the director of the film \"Borunbabur Bondhu\"?'}],\n",
              " [{'answer': ' The context does not provide information about the performer of the song \"There Is So Much World To See.\"',\n",
              "   'evidence': 'The context mentions the song \"There Is So Much World To See\" without specifying the performer\\'s name.',\n",
              "   'question': 'Who is the performer of the song \"There Is So Much World To See\"?'}],\n",
              " [{'answer': 'The context does not provide information about the director of the film \"Wandering Fires.\"',\n",
              "   'evidence': 'The context mentions the film \"Wandering Fires\" but does not specify the director\\'s name.',\n",
              "   'question': 'Who is the director of the film \"Wandering Fires\"?'}],\n",
              " [{'answer': \"The context does not provide information about Fatima Bint Mubarak Al Ketbi's husband or the date of his death.\",\n",
              "   'evidence': \"The context mentions Fatima Bint Mubarak Al Ketbi and her husband but does not provide information about her husband's death.\",\n",
              "   'question': \"Who is Fatima Bint Mubarak Al Ketbi's husband?\"}],\n",
              " [{'answer': 'The context mentions Don Siegel as the director of the film \"Private Hell 36,\" and his birthdate is given as October 26, 1912.',\n",
              "   'evidence': 'The context mentions the film \"Private Hell 36\" and the director but does not provide information about the director\\'s birthdate.',\n",
              "   'question': 'Who is the director of the film Private Hell 36?'}],\n",
              " [{'answer': \"VakıfBank is one of Turkey's leading banks. It doesn't specify the exact location, but it mentions that VakıfBank is a state-owned financial institution in Turkey.\",\n",
              "   'evidence': 'The context mentions VakıfBank but does not provide specific information about its location.',\n",
              "   'question': 'Where is VakıfBank located?'}]]"
            ]
          },
          "execution_count": 15,
          "metadata": {},
          "output_type": "execute_result"
        }
      ],
      "source": [
        "triples_sample = train_dataset[\"triples\"]\n",
        "triples_sample"
      ]
    },
    {
      "cell_type": "code",
      "execution_count": null,
      "metadata": {
        "id": "bWiJtZg2W5dx"
      },
      "outputs": [],
      "source": [
        "simple_question_samples = [[t[\"question\"] for t in triple] for triple in triples_sample]"
      ]
    },
    {
      "cell_type": "code",
      "execution_count": null,
      "metadata": {
        "colab": {
          "base_uri": "https://localhost:8080/"
        },
        "id": "xzLQ4B_DW81v",
        "outputId": "ea57b17b-110b-41da-d53d-cf775d1223f2"
      },
      "outputs": [
        {
          "data": {
            "text/plain": [
              "[['Who is the director of the film \"Move\" (1970 Film)?',\n",
              "  'Where was Stuart Rosenberg from?',\n",
              "  'Who is the director of the film \"Méditerranée\" (1963)?',\n",
              "  ' Where was Jean-Daniel Pollet from?'],\n",
              " ['Who is the director of \"The Falcon (Film)\"?',\n",
              "  'Who is the director of \"Valentin the Good\"?'],\n",
              " ['Who is the director of \"Charge It to Me\"?',\n",
              "  'Who is the director of \"Danger: Diabolik\"?'],\n",
              " [\"Follow up: Who is Mina Gerhardsen's father?\"],\n",
              " ['Who is the director of \"Wedding Night in Paradise\" (1950 Film)?',\n",
              "  'What nationality is Ralph Smart?'],\n",
              " [' Who is the composer of the film \"Sruthilayalu\"?',\n",
              "  'The composer of the film \"Sruthilayalu\" is K. V. Mahadevan.'],\n",
              " ['Who is Rhescuporis I (Odrysian)?',\n",
              "  \"Who is Rhescuporis I (Odrysian)'s father?\",\n",
              "  'Who is Cotys III (Odrysian)?',\n",
              "  \"Who is Cotys III (Odrysian)'s paternal grandfather?\"],\n",
              " ['Who is the director of \"The Ex-Mrs. Bradford\"?',\n",
              "  ' What is the nationality of Stephen Roberts?',\n",
              "  'Who is the director of \"The Star of Santa Clara\"?',\n",
              "  'What is the nationality of Colin Campbell?'],\n",
              " ['What is the release date of \"The Love Route\"?',\n",
              "  'What is the release date of \"Engal Aasan\"?'],\n",
              " [' What is the birthplace of Luciano Salce?'],\n",
              " ['In which country is Wabash High School located?',\n",
              "  'In which country is Matraville Sports High School located?'],\n",
              " [\"Is there information available about Alison Skipper and Diane Gilliam Fisher's respective countries of origin?\"],\n",
              " ['Is there information available about the countries of origin for the movies \"Bloody Birthday\" and \"The Beckoning Silence\"?'],\n",
              " ['Who is the performer of the song \"Soldier (Neil Young Song)\"?'],\n",
              " ['Who is the director of the film \"Borunbabur Bondhu\"?'],\n",
              " ['Who is the performer of the song \"There Is So Much World To See\"?'],\n",
              " ['Who is the director of the film \"Wandering Fires\"?'],\n",
              " [\"Who is Fatima Bint Mubarak Al Ketbi's husband?\"],\n",
              " ['Who is the director of the film Private Hell 36?'],\n",
              " ['Where is VakıfBank located?']]"
            ]
          },
          "execution_count": 17,
          "metadata": {},
          "output_type": "execute_result"
        }
      ],
      "source": [
        "simple_question_samples"
      ]
    },
    {
      "cell_type": "code",
      "execution_count": null,
      "metadata": {
        "id": "a3o4LTefUbmN"
      },
      "outputs": [],
      "source": [
        "def transform(examples):\n",
        "    simple_question_lst = [[t[\"question\"] for t in triple] for triple in examples[\"triples\"]]\n",
        "    text = [\"<s> [INST] \" + prompt_template.format(complex_question=cq)+ \"[/INST]\\n\" + \"\\n\".join(sq) + \" </s>\"\n",
        "            for cq, sq in zip(examples[\"complex_question\"], simple_question_lst)]\n",
        "    examples[\"text\"] = text\n",
        "    return examples"
      ]
    },
    {
      "cell_type": "code",
      "execution_count": null,
      "metadata": {
        "id": "yBJ9pqUaXG0E"
      },
      "outputs": [],
      "source": [
        "train_dataset = train_dataset.map(transform, batched=True)"
      ]
    },
    {
      "cell_type": "code",
      "execution_count": null,
      "metadata": {
        "colab": {
          "base_uri": "https://localhost:8080/"
        },
        "id": "GvrUrDWtXNyc",
        "outputId": "3c66939d-0fcc-466f-b9ec-467ecd4ed504"
      },
      "outputs": [
        {
          "name": "stdout",
          "output_type": "stream",
          "text": [
            "<s> [INST] Decompose the complex question to multiple simple questions. \n",
            "Each generated simple question is represented each sub-problem from the complex question so that after answering we have the necessary knowledge to answer the complex question.\n",
            "Complex question: \n",
            "Are director of film Move (1970 Film) and director of film Méditerranée (1963 Film) from the same country?\n",
            "Simple questions:[/INST]\n",
            "Who is the director of the film \"Move\" (1970 Film)?\n",
            "Where was Stuart Rosenberg from?\n",
            "Who is the director of the film \"Méditerranée\" (1963)?\n",
            " Where was Jean-Daniel Pollet from? </s>\n"
          ]
        }
      ],
      "source": [
        "print(train_dataset[\"text\"][0])"
      ]
    },
    {
      "cell_type": "markdown",
      "metadata": {
        "id": "U-_4YGOYRpmu"
      },
      "source": [
        "## Setting Model Parameters\n",
        "\n",
        "We need to set various parameters for our fine-tuning process, including QLoRA (Quantization LoRA) parameters, bitsandbytes parameters, and training arguments:"
      ]
    },
    {
      "cell_type": "code",
      "execution_count": null,
      "metadata": {
        "id": "H76_erzt1-on"
      },
      "outputs": [],
      "source": [
        "# The model that you want to train from the Hugging Face hub\n",
        "model_name = \"bn22/Mistral-7B-Instruct-v0.1-sharded\" #\"mistralai/Mistral-7B-Instruct-v0.1\"\n",
        "\n",
        "# Fine-tuned model name\n",
        "new_model = \"Mistral-7B-question-decomposition\" #\"mistralai-Code-Instruct\""
      ]
    },
    {
      "cell_type": "markdown",
      "metadata": {
        "id": "nKzTy9MbR2DY"
      },
      "source": [
        "Setting the QLora Parameters"
      ]
    },
    {
      "cell_type": "code",
      "execution_count": null,
      "metadata": {
        "id": "A_Yi1p_BR0bA"
      },
      "outputs": [],
      "source": [
        "################################################################################\n",
        "# QLoRA parameters\n",
        "################################################################################\n",
        "\n",
        "# LoRA attention dimension\n",
        "lora_r = 64\n",
        "\n",
        "# Alpha parameter for LoRA scaling\n",
        "lora_alpha = 16\n",
        "\n",
        "# Dropout probability for LoRA layers\n",
        "lora_dropout = 0.1\n",
        "\n",
        "################################################################################\n",
        "# bitsandbytes parameters\n",
        "################################################################################\n",
        "\n",
        "# Activate 4-bit precision base model loading\n",
        "use_4bit = True\n",
        "\n",
        "# Compute dtype for 4-bit base models\n",
        "bnb_4bit_compute_dtype = \"float16\"\n",
        "\n",
        "# Quantization type (fp4 or nf4)\n",
        "bnb_4bit_quant_type = \"nf4\"\n",
        "\n",
        "# Activate nested quantization for 4-bit base models (double quantization)\n",
        "use_nested_quant = False\n",
        "\n",
        "################################################################################\n",
        "# TrainingArguments parameters\n",
        "################################################################################\n",
        "\n",
        "# Output directory where the model predictions and checkpoints will be stored\n",
        "output_dir = \"./results\"\n",
        "\n",
        "# Number of training epochs\n",
        "num_train_epochs = 1\n",
        "\n",
        "# Enable fp16/bf16 training (set bf16 to True with an A100)\n",
        "fp16 = False\n",
        "bf16 = False\n",
        "\n",
        "# Batch size per GPU for training\n",
        "per_device_train_batch_size = 2\n",
        "\n",
        "# Batch size per GPU for evaluation\n",
        "per_device_eval_batch_size = 2\n",
        "\n",
        "# Number of update steps to accumulate the gradients for\n",
        "gradient_accumulation_steps = 1\n",
        "\n",
        "# Enable gradient checkpointing\n",
        "gradient_checkpointing = True\n",
        "\n",
        "# Maximum gradient normal (gradient clipping)\n",
        "max_grad_norm = 0.3\n",
        "\n",
        "# Initial learning rate (AdamW optimizer)\n",
        "learning_rate = 2e-4\n",
        "\n",
        "# Weight decay to apply to all layers except bias/LayerNorm weights\n",
        "weight_decay = 0.001\n",
        "\n",
        "# Optimizer to use\n",
        "optim = \"paged_adamw_32bit\"\n",
        "\n",
        "# Learning rate schedule (constant a bit better than cosine)\n",
        "lr_scheduler_type = \"constant\"\n",
        "\n",
        "# Number of training steps (overrides num_train_epochs)\n",
        "max_steps = -1\n",
        "\n",
        "# Ratio of steps for a linear warmup (from 0 to learning rate)\n",
        "warmup_ratio = 0.03\n",
        "\n",
        "# Group sequences into batches with same length\n",
        "# Saves memory and speeds up training considerably\n",
        "group_by_length = True\n",
        "\n",
        "# Save checkpoint every X updates steps\n",
        "save_steps = 25\n",
        "\n",
        "# Log every X updates steps\n",
        "logging_steps = 25\n",
        "\n",
        "################################################################################\n",
        "# SFT parameters\n",
        "################################################################################\n",
        "\n",
        "# Maximum sequence length to use\n",
        "max_seq_length = None\n",
        "\n",
        "# Pack multiple short examples in the same input sequence to increase efficiency\n",
        "packing = False\n",
        "\n",
        "# Load the entire model on the GPU 0\n",
        "device_map = {\"\": 0}"
      ]
    },
    {
      "cell_type": "markdown",
      "metadata": {
        "id": "269-A6vtSNfg"
      },
      "source": [
        "### Lets Load the base model\n",
        "Let's load the Mistral 7B Instruct base model:"
      ]
    },
    {
      "cell_type": "code",
      "execution_count": null,
      "metadata": {
        "colab": {
          "base_uri": "https://localhost:8080/",
          "height": 49,
          "referenced_widgets": [
            "52a787342d3648e8b167f4a1a1cf4ff7",
            "e88a0310cf064d1faac4cb31dc89cb0b",
            "17f13a5e15c443ad8aa43880511db8f6",
            "fac0a8d672a44a5ab2fee7a38bf0731c",
            "1417edd56b874d44bd05e6c8770ab31d",
            "8a4de70952af4d24b1b35f07043037ef",
            "5991dd9d6e1e474aae63d5a70698a6ab",
            "b8e39535ec3047f5a3f8d85751550deb",
            "801170a21c324721a0ad7d48d3bc2924",
            "a1f2944305854ec8bb9d3bbb46327b00",
            "334b291ee3f04878b826d124fc68f738"
          ]
        },
        "id": "QrBd2aB95aoj",
        "outputId": "6f957803-fd00-45cf-d220-5be108f7a278"
      },
      "outputs": [
        {
          "data": {
            "application/vnd.jupyter.widget-view+json": {
              "model_id": "52a787342d3648e8b167f4a1a1cf4ff7",
              "version_major": 2,
              "version_minor": 0
            },
            "text/plain": [
              "Loading checkpoint shards:   0%|          | 0/11 [00:00<?, ?it/s]"
            ]
          },
          "metadata": {},
          "output_type": "display_data"
        }
      ],
      "source": [
        "# Load the base model with QLoRA configuration\n",
        "compute_dtype = getattr(torch, bnb_4bit_compute_dtype)\n",
        "\n",
        "bnb_config = BitsAndBytesConfig(\n",
        "    load_in_4bit=use_4bit,\n",
        "    bnb_4bit_quant_type=bnb_4bit_quant_type,\n",
        "    bnb_4bit_compute_dtype=compute_dtype,\n",
        "    bnb_4bit_use_double_quant=use_nested_quant,\n",
        ")\n",
        "\n",
        "base_model = AutoModelForCausalLM.from_pretrained(\n",
        "    model_name,\n",
        "    quantization_config=bnb_config,\n",
        "    device_map={\"\": 0}\n",
        ")\n",
        "\n",
        "base_model.config.use_cache = False\n",
        "base_model.config.pretraining_tp = 1\n",
        "\n",
        "# Load MistralAI tokenizer\n",
        "tokenizer = AutoTokenizer.from_pretrained(model_name, trust_remote_code=True)\n",
        "tokenizer.pad_token = tokenizer.eos_token\n",
        "tokenizer.padding_side = \"right\""
      ]
    },
    {
      "cell_type": "code",
      "execution_count": null,
      "metadata": {
        "colab": {
          "base_uri": "https://localhost:8080/"
        },
        "id": "p1nCcsLAclO-",
        "outputId": "8bb2552d-b962-45bf-f427-a7abb4552f4f"
      },
      "outputs": [
        {
          "data": {
            "text/plain": [
              "MistralForCausalLM(\n",
              "  (model): MistralModel(\n",
              "    (embed_tokens): Embedding(32000, 4096)\n",
              "    (layers): ModuleList(\n",
              "      (0-31): 32 x MistralDecoderLayer(\n",
              "        (self_attn): MistralAttention(\n",
              "          (q_proj): Linear4bit(in_features=4096, out_features=4096, bias=False)\n",
              "          (k_proj): Linear4bit(in_features=4096, out_features=1024, bias=False)\n",
              "          (v_proj): Linear4bit(in_features=4096, out_features=1024, bias=False)\n",
              "          (o_proj): Linear4bit(in_features=4096, out_features=4096, bias=False)\n",
              "          (rotary_emb): MistralRotaryEmbedding()\n",
              "        )\n",
              "        (mlp): MistralMLP(\n",
              "          (gate_proj): Linear4bit(in_features=4096, out_features=14336, bias=False)\n",
              "          (up_proj): Linear4bit(in_features=4096, out_features=14336, bias=False)\n",
              "          (down_proj): Linear4bit(in_features=14336, out_features=4096, bias=False)\n",
              "          (act_fn): SiLUActivation()\n",
              "        )\n",
              "        (input_layernorm): MistralRMSNorm()\n",
              "        (post_attention_layernorm): MistralRMSNorm()\n",
              "      )\n",
              "    )\n",
              "    (norm): MistralRMSNorm()\n",
              "  )\n",
              "  (lm_head): Linear(in_features=4096, out_features=32000, bias=False)\n",
              ")"
            ]
          },
          "execution_count": 12,
          "metadata": {},
          "output_type": "execute_result"
        }
      ],
      "source": [
        "base_model"
      ]
    },
    {
      "cell_type": "markdown",
      "metadata": {
        "id": "-dmPYkpSSc1U"
      },
      "source": [
        "## Let's Check how the base model performs\n"
      ]
    },
    {
      "cell_type": "code",
      "execution_count": null,
      "metadata": {
        "colab": {
          "base_uri": "https://localhost:8080/",
          "height": 35
        },
        "id": "hE8rOu9KdBvT",
        "outputId": "de8c4900-1cff-45be-f110-b9dd73d44bb9"
      },
      "outputs": [
        {
          "data": {
            "application/vnd.google.colaboratory.intrinsic+json": {
              "type": "string"
            },
            "text/plain": [
              "\"When is the composer of film Sruthilayalu 's birthday?\""
            ]
          },
          "execution_count": 27,
          "metadata": {},
          "output_type": "execute_result"
        }
      ],
      "source": [
        "train_dataset[5][\"complex_question\"]"
      ]
    },
    {
      "cell_type": "code",
      "execution_count": null,
      "metadata": {
        "colab": {
          "base_uri": "https://localhost:8080/"
        },
        "id": "qDbEUIs8dMXb",
        "outputId": "44c665a6-bcb1-4d58-a07e-0bee7918f0b0"
      },
      "outputs": [
        {
          "data": {
            "text/plain": [
              "[' Who is the composer of the film \"Sruthilayalu\"?',\n",
              " 'The composer of the film \"Sruthilayalu\" is K. V. Mahadevan.']"
            ]
          },
          "execution_count": 28,
          "metadata": {},
          "output_type": "execute_result"
        }
      ],
      "source": [
        "eval_simple_questions = [t[\"question\"] for t in train_dataset[5][\"triples\"]]\n",
        "eval_simple_questions"
      ]
    },
    {
      "cell_type": "code",
      "execution_count": null,
      "metadata": {
        "colab": {
          "base_uri": "https://localhost:8080/"
        },
        "id": "_11FwVxAdvZt",
        "outputId": "660bd3eb-46da-4b54-f460-7e583a2ae0ef"
      },
      "outputs": [
        {
          "data": {
            "text/plain": [
              "2"
            ]
          },
          "execution_count": 30,
          "metadata": {},
          "output_type": "execute_result"
        }
      ],
      "source": [
        "tokenizer.pad_token_id"
      ]
    },
    {
      "cell_type": "markdown",
      "metadata": {
        "id": "hyDs4tR_eEOY"
      },
      "source": [
        "## Zero shot"
      ]
    },
    {
      "cell_type": "code",
      "execution_count": null,
      "metadata": {
        "id": "TrMyGewmePvP"
      },
      "outputs": [],
      "source": [
        "def first_evaluate(complex_question):\n",
        "    eval_prompt = \"\"\"Decompose the complex question to multiple simple questions.\n",
        "    Each generated simple question is represented each sub-problem from the complex question so that after answering we have the necessary knowledge to answer the complex question.\n",
        "    Complex question:\n",
        "    {complex_question}\n",
        "    Simple questions:\"\"\"\n",
        "    input_text = \"<s> [INST] \"+eval_prompt.format(complex_question=complex_question) + \" [/INST]\\n\"\n",
        "    model_input = tokenizer(input_text, return_tensors=\"pt\").to(\"cuda\")\n",
        "\n",
        "    base_model.eval()\n",
        "    with torch.no_grad():\n",
        "        output = tokenizer.decode(base_model.generate(**model_input, max_new_tokens=256, pad_token_id=2)[0], skip_special_tokens=True)\n",
        "    return output"
      ]
    },
    {
      "cell_type": "code",
      "execution_count": null,
      "metadata": {
        "colab": {
          "base_uri": "https://localhost:8080/"
        },
        "id": "hzT-p0Jhendy",
        "outputId": "76a9a49f-afb8-4732-f3d5-317700b22efe"
      },
      "outputs": [
        {
          "name": "stdout",
          "output_type": "stream",
          "text": [
            "[INST] Decompose the complex question to multiple simple questions. \n",
            "    Each generated simple question is represented each sub-problem from the complex question so that after answering we have the necessary knowledge to answer the complex question.\n",
            "    Complex question: \n",
            "    Are director of film Move (1970 Film) and director of film Méditerranée (1963 Film) from the same country?\n",
            "    Simple questions: [/INST]\n",
            "\n",
            "1. Who is the director of film Move (1970)?\n",
            "2. Who is the director of film Méditerranée (1963)?\n",
            "3. What is the country of origin of the director of film Move (1970)?\n",
            "4. What is the country of origin of the director of film Méditerranée (1963)?\n",
            "5. Are the countries of origin of the directors of film Move (1970) and film Méditerranée (1963) the same?\n"
          ]
        }
      ],
      "source": [
        "complex_question = train_dataset[0][\"complex_question\"]\n",
        "print(first_evaluate(complex_question))"
      ]
    },
    {
      "cell_type": "code",
      "execution_count": null,
      "metadata": {
        "colab": {
          "base_uri": "https://localhost:8080/"
        },
        "id": "j-qQ6-U_exGG",
        "outputId": "e1d2587c-81ca-4686-af4f-d436132ede2b"
      },
      "outputs": [
        {
          "name": "stdout",
          "output_type": "stream",
          "text": [
            "[INST] Decompose the complex question to multiple simple questions. \n",
            "    Each generated simple question is represented each sub-problem from the complex question so that after answering we have the necessary knowledge to answer the complex question.\n",
            "    Complex question: \n",
            "    Do both films The Falcon (Film) and Valentin The Good have the directors from the same country?\n",
            "    Simple questions: [/INST]\n",
            "\n",
            "1. What is the name of the film The Falcon?\n",
            "2. What is the name of the film Valentin The Good?\n",
            "3. What is the country of origin of the director of The Falcon?\n",
            "4. What is the country of origin of the director of Valentin The Good?\n",
            "5. Do the countries of origin of the directors of The Falcon and Valentin The Good match?\n"
          ]
        }
      ],
      "source": [
        "complex_question = train_dataset[1][\"complex_question\"]\n",
        "print(first_evaluate(complex_question))"
      ]
    },
    {
      "cell_type": "code",
      "execution_count": null,
      "metadata": {
        "colab": {
          "base_uri": "https://localhost:8080/"
        },
        "id": "2gkuhnRney6-",
        "outputId": "7a95629c-cd9a-48ad-c962-1f2cd265b532"
      },
      "outputs": [
        {
          "name": "stdout",
          "output_type": "stream",
          "text": [
            "[INST] Decompose the complex question to multiple simple questions. \n",
            "    Each generated simple question is represented each sub-problem from the complex question so that after answering we have the necessary knowledge to answer the complex question.\n",
            "    Complex question: \n",
            "    Which film whose director is younger, Charge It To Me or Danger: Diabolik?\n",
            "    Simple questions: [/INST]\n",
            "\n",
            "1. Who is the director of Charge It To Me?\n",
            "2. Who is the director of Danger: Diabolik?\n",
            "3. Is the director of Charge It To Me younger than the director of Danger: Diabolik?\n"
          ]
        }
      ],
      "source": [
        "complex_question = train_dataset[2][\"complex_question\"]\n",
        "print(first_evaluate(complex_question))"
      ]
    },
    {
      "cell_type": "code",
      "execution_count": null,
      "metadata": {
        "colab": {
          "base_uri": "https://localhost:8080/"
        },
        "id": "jte_m5eae0Jf",
        "outputId": "850ccea1-d63a-4b6e-89c9-fd7bc4a60181"
      },
      "outputs": [
        {
          "name": "stdout",
          "output_type": "stream",
          "text": [
            "[INST] Decompose the complex question to multiple simple questions. \n",
            "    Each generated simple question is represented each sub-problem from the complex question so that after answering we have the necessary knowledge to answer the complex question.\n",
            "    Complex question: \n",
            "    Are both businesses, Vakıfbank and Infopro Sdn Bhd, located in the same country?\n",
            "    Simple questions: [/INST]\n",
            "\n",
            "1. What is the name of the first business?\n",
            "2. What is the name of the second business?\n",
            "3. What is the country in which both businesses are located?\n"
          ]
        }
      ],
      "source": [
        "complex_question = train_dataset[-1][\"complex_question\"]\n",
        "print(first_evaluate(complex_question))"
      ]
    },
    {
      "cell_type": "code",
      "execution_count": null,
      "metadata": {
        "colab": {
          "base_uri": "https://localhost:8080/"
        },
        "id": "upiwRP0Te2kc",
        "outputId": "7689f089-3092-4f5b-a3bd-d3477307b915"
      },
      "outputs": [
        {
          "name": "stdout",
          "output_type": "stream",
          "text": [
            "[INST] Decompose the complex question to multiple simple questions. \n",
            "    Each generated simple question is represented each sub-problem from the complex question so that after answering we have the necessary knowledge to answer the complex question.\n",
            "    Complex question: \n",
            "    Which film whose director is younger, Charge It To Me or Danger: Diabolik?\n",
            "    Simple questions: [/INST]\n",
            "\n",
            "1. Who is the director of Charge It To Me?\n",
            "2. Who is the director of Danger: Diabolik?\n",
            "3. Is the director of Charge It To Me younger than the director of Danger: Diabolik?\n"
          ]
        }
      ],
      "source": [
        "complex_question = train_dataset[2][\"complex_question\"]\n",
        "print(first_evaluate(complex_question))"
      ]
    },
    {
      "cell_type": "markdown",
      "metadata": {
        "id": "wZBfdrefeGUv"
      },
      "source": [
        "## One shot"
      ]
    },
    {
      "cell_type": "code",
      "execution_count": null,
      "metadata": {
        "colab": {
          "base_uri": "https://localhost:8080/"
        },
        "id": "Ko9Af7v9iP3e",
        "outputId": "d712e4c8-c8a3-4289-edd2-84b76d32ab61"
      },
      "outputs": [
        {
          "name": "stdout",
          "output_type": "stream",
          "text": [
            "Are director of film Move (1970 Film) and director of film Méditerranée (1963 Film) from the same country?\n"
          ]
        },
        {
          "data": {
            "text/plain": [
              "['Who is the director of the film \"Move\" (1970 Film)?',\n",
              " 'Where was Stuart Rosenberg from?',\n",
              " 'Who is the director of the film \"Méditerranée\" (1963)?',\n",
              " ' Where was Jean-Daniel Pollet from?']"
            ]
          },
          "execution_count": 38,
          "metadata": {},
          "output_type": "execute_result"
        }
      ],
      "source": [
        "print(train_dataset[0][\"complex_question\"])\n",
        "[t[\"question\"] for t in train_dataset[0][\"triples\"]]"
      ]
    },
    {
      "cell_type": "code",
      "execution_count": null,
      "metadata": {
        "id": "beI7emVAeIdt"
      },
      "outputs": [],
      "source": [
        "def oneshot_evaluate(complex_question):\n",
        "    eval_prompt = \"\"\"Decompose the complex question to multiple simple questions.\n",
        "    Each generated simple question is represented each sub-problem from the complex question so that after answering we have the necessary knowledge to answer the complex question.\n",
        "    Complex question:\n",
        "    Are director of film Move (1970 Film) and director of film Méditerranée (1963 Film) from the same country?\n",
        "    Simple questions:\n",
        "    1. Who is the director of the film \"Move\" (1970 Film)?\n",
        "    2. Where was Stuart Rosenberg from?\n",
        "    3. Who is the director of the film \"Méditerranée\" (1963)?\n",
        "    4. Where was Jean-Daniel Pollet from?\n",
        "\n",
        "    Complex question:\n",
        "    {complex_question}\n",
        "    Simple questions:\"\"\"\n",
        "    input_text = \"<s> [INST] \"+eval_prompt.format(complex_question=complex_question) + \" [/INST]\\n\"\n",
        "    model_input = tokenizer(input_text, return_tensors=\"pt\").to(\"cuda\")\n",
        "\n",
        "    base_model.eval()\n",
        "    with torch.no_grad():\n",
        "        output = tokenizer.decode(base_model.generate(**model_input, max_new_tokens=256, pad_token_id=2)[0], skip_special_tokens=True)\n",
        "    return output"
      ]
    },
    {
      "cell_type": "code",
      "execution_count": null,
      "metadata": {
        "colab": {
          "base_uri": "https://localhost:8080/"
        },
        "id": "ZGJbsvsgi9c_",
        "outputId": "1a8f4e3c-b0e6-4bf3-e18e-db00dd4450af"
      },
      "outputs": [
        {
          "name": "stdout",
          "output_type": "stream",
          "text": [
            "[INST] Decompose the complex question to multiple simple questions. \n",
            "    Each generated simple question is represented each sub-problem from the complex question so that after answering we have the necessary knowledge to answer the complex question.\n",
            "    Complex question: \n",
            "    Are director of film Move (1970 Film) and director of film Méditerranée (1963 Film) from the same country?\n",
            "    Simple questions: \n",
            "    1. Who is the director of the film \"Move\" (1970 Film)?\n",
            "    2. Where was Stuart Rosenberg from?\n",
            "    3. Who is the director of the film \"Méditerranée\" (1963)?\n",
            "    4. Where was Jean-Daniel Pollet from?\n",
            "    \n",
            "    Complex question: \n",
            "    Do both films The Falcon (Film) and Valentin The Good have the directors from the same country?\n",
            "    Simple questions: [/INST]\n",
            "\n",
            "1. Who is the director of the film \"The Falcon\"?\n",
            "2. Where was John Sturges from?\n",
            "3. Who is the director of the film \"Valentin The Good\"?\n",
            "4. Where was Jean-Jacques Annaud from?\n",
            "5. Do John Sturges and Jean-Jacques Annaud come from the same country?\n"
          ]
        }
      ],
      "source": [
        "complex_question = train_dataset[1][\"complex_question\"]\n",
        "print(oneshot_evaluate(complex_question))"
      ]
    },
    {
      "cell_type": "code",
      "execution_count": null,
      "metadata": {
        "colab": {
          "base_uri": "https://localhost:8080/"
        },
        "id": "w9YGJIzflQUI",
        "outputId": "bc3246cd-5dbd-421e-b570-d243a7dfeabf"
      },
      "outputs": [
        {
          "data": {
            "text/plain": [
              "['Who is the director of \"The Falcon (Film)\"?',\n",
              " 'Who is the director of \"Valentin the Good\"?']"
            ]
          },
          "execution_count": 42,
          "metadata": {},
          "output_type": "execute_result"
        }
      ],
      "source": [
        "[t[\"question\"] for t in train_dataset[1][\"triples\"]]"
      ]
    },
    {
      "cell_type": "markdown",
      "metadata": {
        "id": "ivSSvVFh5aoj"
      },
      "source": [
        "The results from the base model tend to be of poor quality and always re-generate the input"
      ]
    },
    {
      "cell_type": "markdown",
      "metadata": {
        "id": "GxYdQFqo5aol"
      },
      "source": [
        "## Fine-Tuning with qLora and Supervised Fine-Tuning\n",
        "\n",
        "We're ready to fine-tune our model using qLora. For this tutorial, we'll use the `SFTTrainer` from the `trl` library for supervised fine-tuning. Ensure that you've installed the `trl` library as mentioned in the prerequisites."
      ]
    },
    {
      "cell_type": "code",
      "execution_count": null,
      "metadata": {
        "colab": {
          "base_uri": "https://localhost:8080/"
        },
        "id": "nFjA8D0d2oNz",
        "outputId": "96942ede-9768-4a70-a745-d697406fd765"
      },
      "outputs": [
        {
          "name": "stderr",
          "output_type": "stream",
          "text": [
            "/usr/local/lib/python3.10/dist-packages/trl/trainer/sft_trainer.py:173: UserWarning: You didn't pass a `max_seq_length` argument to the SFTTrainer, this will default to 1024\n",
            "  warnings.warn(\n"
          ]
        }
      ],
      "source": [
        "# Load LoRA configuration\n",
        "peft_config = LoraConfig(\n",
        "    lora_alpha=lora_alpha,\n",
        "    lora_dropout=lora_dropout,\n",
        "    r=lora_r,\n",
        "    target_modules=[\n",
        "        \"q_proj\",\n",
        "        \"k_proj\",\n",
        "        \"v_proj\",\n",
        "        \"o_proj\",\n",
        "        \"gate_proj\",\n",
        "        \"up_proj\",\n",
        "        \"down_proj\",\n",
        "        \"lm_head\",\n",
        "    ],\n",
        "    bias=\"none\",\n",
        "    task_type=\"CAUSAL_LM\",\n",
        ")\n",
        "\n",
        "# Set training parameters\n",
        "training_arguments = TrainingArguments(\n",
        "    output_dir=output_dir,\n",
        "    num_train_epochs=num_train_epochs,\n",
        "    per_device_train_batch_size=per_device_train_batch_size,\n",
        "    gradient_accumulation_steps=gradient_accumulation_steps,\n",
        "    optim=optim,\n",
        "    save_steps=save_steps,\n",
        "    logging_steps=logging_steps,\n",
        "    learning_rate=learning_rate,\n",
        "    weight_decay=weight_decay,\n",
        "    fp16=fp16,\n",
        "    bf16=bf16,\n",
        "    max_grad_norm=max_grad_norm,\n",
        "    max_steps=100, # the number of training steps the model will take\n",
        "    warmup_ratio=warmup_ratio,\n",
        "    group_by_length=group_by_length,\n",
        "    lr_scheduler_type=lr_scheduler_type,\n",
        "    report_to=\"tensorboard\"\n",
        ")\n",
        "\n",
        "# Set supervised fine-tuning parameters\n",
        "trainer = SFTTrainer(\n",
        "    model=base_model,\n",
        "    train_dataset=train_dataset,\n",
        "    peft_config=peft_config,\n",
        "    dataset_text_field=\"text\",\n",
        "    max_seq_length=max_seq_length,\n",
        "    tokenizer=tokenizer,\n",
        "    args=training_arguments,\n",
        "    packing=packing,\n",
        ")"
      ]
    },
    {
      "cell_type": "markdown",
      "metadata": {
        "id": "i187wmtT5aol"
      },
      "source": [
        "## Let's start the training process"
      ]
    },
    {
      "cell_type": "code",
      "execution_count": null,
      "metadata": {
        "colab": {
          "base_uri": "https://localhost:8080/",
          "height": 238
        },
        "id": "xWxi9tqgEhyZ",
        "outputId": "e4bf7081-7f9f-4975-d3c5-eaafd8cc16d6"
      },
      "outputs": [
        {
          "name": "stderr",
          "output_type": "stream",
          "text": [
            "You're using a LlamaTokenizerFast tokenizer. Please note that with a fast tokenizer, using the `__call__` method is faster than using a method to encode the text followed by a call to the `pad` method to get a padded encoding.\n"
          ]
        },
        {
          "data": {
            "text/html": [
              "\n",
              "    <div>\n",
              "      \n",
              "      <progress value='100' max='100' style='width:300px; height:20px; vertical-align: middle;'></progress>\n",
              "      [100/100 07:39, Epoch 10/10]\n",
              "    </div>\n",
              "    <table border=\"1\" class=\"dataframe\">\n",
              "  <thead>\n",
              " <tr style=\"text-align: left;\">\n",
              "      <th>Step</th>\n",
              "      <th>Training Loss</th>\n",
              "    </tr>\n",
              "  </thead>\n",
              "  <tbody>\n",
              "    <tr>\n",
              "      <td>25</td>\n",
              "      <td>0.984200</td>\n",
              "    </tr>\n",
              "    <tr>\n",
              "      <td>50</td>\n",
              "      <td>0.148600</td>\n",
              "    </tr>\n",
              "    <tr>\n",
              "      <td>75</td>\n",
              "      <td>0.070900</td>\n",
              "    </tr>\n",
              "    <tr>\n",
              "      <td>100</td>\n",
              "      <td>0.066000</td>\n",
              "    </tr>\n",
              "  </tbody>\n",
              "</table><p>"
            ],
            "text/plain": [
              "<IPython.core.display.HTML object>"
            ]
          },
          "metadata": {},
          "output_type": "display_data"
        }
      ],
      "source": [
        "# Train model\n",
        "trainer.train()\n",
        "\n",
        "# Save trained model\n",
        "trainer.model.save_pretrained(new_model)"
      ]
    },
    {
      "cell_type": "markdown",
      "metadata": {
        "id": "PixsfVRz38YA"
      },
      "source": [
        "## Merge and Share\n",
        "\n",
        "After fine-tuning, if you want to merge the model with LoRA weights or share it with the Hugging Face Model Hub, you can do so. This step is optional and depends on your specific use case."
      ]
    },
    {
      "cell_type": "code",
      "execution_count": null,
      "metadata": {
        "colab": {
          "base_uri": "https://localhost:8080/"
        },
        "id": "Ujf17z-7--l5",
        "outputId": "8192e0d9-720a-4e11-f4e7-b0b1a1c2639c"
      },
      "outputs": [
        {
          "data": {
            "text/plain": [
              "0"
            ]
          },
          "execution_count": 15,
          "metadata": {},
          "output_type": "execute_result"
        }
      ],
      "source": [
        "# Empty VRAM\n",
        "import gc\n",
        "del base_model\n",
        "gc.collect()\n",
        "\n",
        "del trainer\n",
        "gc.collect()"
      ]
    },
    {
      "cell_type": "code",
      "execution_count": null,
      "metadata": {
        "id": "ypNIoSou-_3j"
      },
      "outputs": [],
      "source": [
        "torch.cuda.empty_cache() # PyTorch thing"
      ]
    },
    {
      "cell_type": "code",
      "execution_count": null,
      "metadata": {
        "colab": {
          "base_uri": "https://localhost:8080/"
        },
        "id": "Z-cOpLlC_A48",
        "outputId": "5b467231-c4a8-4907-fbfb-18c540b062fd"
      },
      "outputs": [
        {
          "data": {
            "text/plain": [
              "0"
            ]
          },
          "execution_count": 17,
          "metadata": {},
          "output_type": "execute_result"
        }
      ],
      "source": [
        "gc.collect()"
      ]
    },
    {
      "cell_type": "code",
      "execution_count": null,
      "metadata": {
        "colab": {
          "base_uri": "https://localhost:8080/",
          "height": 511,
          "referenced_widgets": [
            "0a0a7dc7ab1c4328bd37267a93103cdf",
            "2ce4272b4bdc448fb082525a276ed43e",
            "c41a39be8fc34ead88cdcb320a7b4393",
            "c0080b870fd540b8b7098f13ebc0522e",
            "1aac7bdd81a743e3a61124d9922f6ca4",
            "841636ef36d2409a82f8d77fa5827dad",
            "84ef2b7ab26e4edc949e9cada6f4d9ee",
            "315fca50c1664aa1b3668023da9bdf53",
            "66909059465a49be9fd1ad72fc70ac25",
            "938acc089c5847999c62dc6f7c833798",
            "9592e2f41b0a4611bdc84a2b00eb5eda"
          ]
        },
        "id": "IRWhV5WZ3-BO",
        "outputId": "e9ac2f49-6172-4c23-b1f2-3baddadd8881"
      },
      "outputs": [
        {
          "data": {
            "application/vnd.jupyter.widget-view+json": {
              "model_id": "0a0a7dc7ab1c4328bd37267a93103cdf",
              "version_major": 2,
              "version_minor": 0
            },
            "text/plain": [
              "Loading checkpoint shards:   0%|          | 0/11 [00:00<?, ?it/s]"
            ]
          },
          "metadata": {},
          "output_type": "display_data"
        },
        {
          "ename": "OutOfMemoryError",
          "evalue": "ignored",
          "output_type": "error",
          "traceback": [
            "\u001b[0;31m---------------------------------------------------------------------------\u001b[0m",
            "\u001b[0;31mOutOfMemoryError\u001b[0m                          Traceback (most recent call last)",
            "\u001b[0;32m<ipython-input-5-5d9d15855d71>\u001b[0m in \u001b[0;36m<cell line: 1>\u001b[0;34m()\u001b[0m\n\u001b[0;32m----> 1\u001b[0;31m base_model = AutoModelForCausalLM.from_pretrained(\n\u001b[0m\u001b[1;32m      2\u001b[0m     \u001b[0mmodel_name\u001b[0m\u001b[0;34m,\u001b[0m\u001b[0;34m\u001b[0m\u001b[0;34m\u001b[0m\u001b[0m\n\u001b[1;32m      3\u001b[0m     \u001b[0mlow_cpu_mem_usage\u001b[0m\u001b[0;34m=\u001b[0m\u001b[0;32mTrue\u001b[0m\u001b[0;34m,\u001b[0m\u001b[0;34m\u001b[0m\u001b[0;34m\u001b[0m\u001b[0m\n\u001b[1;32m      4\u001b[0m     \u001b[0mreturn_dict\u001b[0m\u001b[0;34m=\u001b[0m\u001b[0;32mTrue\u001b[0m\u001b[0;34m,\u001b[0m\u001b[0;34m\u001b[0m\u001b[0;34m\u001b[0m\u001b[0m\n\u001b[1;32m      5\u001b[0m     \u001b[0mtorch_dtype\u001b[0m\u001b[0;34m=\u001b[0m\u001b[0mtorch\u001b[0m\u001b[0;34m.\u001b[0m\u001b[0mfloat16\u001b[0m\u001b[0;34m,\u001b[0m\u001b[0;34m\u001b[0m\u001b[0;34m\u001b[0m\u001b[0m\n",
            "\u001b[0;32m/usr/local/lib/python3.10/dist-packages/transformers/models/auto/auto_factory.py\u001b[0m in \u001b[0;36mfrom_pretrained\u001b[0;34m(cls, pretrained_model_name_or_path, *model_args, **kwargs)\u001b[0m\n\u001b[1;32m    563\u001b[0m         \u001b[0;32melif\u001b[0m \u001b[0mtype\u001b[0m\u001b[0;34m(\u001b[0m\u001b[0mconfig\u001b[0m\u001b[0;34m)\u001b[0m \u001b[0;32min\u001b[0m \u001b[0mcls\u001b[0m\u001b[0;34m.\u001b[0m\u001b[0m_model_mapping\u001b[0m\u001b[0;34m.\u001b[0m\u001b[0mkeys\u001b[0m\u001b[0;34m(\u001b[0m\u001b[0;34m)\u001b[0m\u001b[0;34m:\u001b[0m\u001b[0;34m\u001b[0m\u001b[0;34m\u001b[0m\u001b[0m\n\u001b[1;32m    564\u001b[0m             \u001b[0mmodel_class\u001b[0m \u001b[0;34m=\u001b[0m \u001b[0m_get_model_class\u001b[0m\u001b[0;34m(\u001b[0m\u001b[0mconfig\u001b[0m\u001b[0;34m,\u001b[0m \u001b[0mcls\u001b[0m\u001b[0;34m.\u001b[0m\u001b[0m_model_mapping\u001b[0m\u001b[0;34m)\u001b[0m\u001b[0;34m\u001b[0m\u001b[0;34m\u001b[0m\u001b[0m\n\u001b[0;32m--> 565\u001b[0;31m             return model_class.from_pretrained(\n\u001b[0m\u001b[1;32m    566\u001b[0m                 \u001b[0mpretrained_model_name_or_path\u001b[0m\u001b[0;34m,\u001b[0m \u001b[0;34m*\u001b[0m\u001b[0mmodel_args\u001b[0m\u001b[0;34m,\u001b[0m \u001b[0mconfig\u001b[0m\u001b[0;34m=\u001b[0m\u001b[0mconfig\u001b[0m\u001b[0;34m,\u001b[0m \u001b[0;34m**\u001b[0m\u001b[0mhub_kwargs\u001b[0m\u001b[0;34m,\u001b[0m \u001b[0;34m**\u001b[0m\u001b[0mkwargs\u001b[0m\u001b[0;34m\u001b[0m\u001b[0;34m\u001b[0m\u001b[0m\n\u001b[1;32m    567\u001b[0m             )\n",
            "\u001b[0;32m/usr/local/lib/python3.10/dist-packages/transformers/modeling_utils.py\u001b[0m in \u001b[0;36mfrom_pretrained\u001b[0;34m(cls, pretrained_model_name_or_path, config, cache_dir, ignore_mismatched_sizes, force_download, local_files_only, token, revision, use_safetensors, *model_args, **kwargs)\u001b[0m\n\u001b[1;32m   3435\u001b[0m             \u001b[0;32mif\u001b[0m \u001b[0;34m\"skip_keys\"\u001b[0m \u001b[0;32min\u001b[0m \u001b[0minspect\u001b[0m\u001b[0;34m.\u001b[0m\u001b[0msignature\u001b[0m\u001b[0;34m(\u001b[0m\u001b[0mdispatch_model\u001b[0m\u001b[0;34m)\u001b[0m\u001b[0;34m.\u001b[0m\u001b[0mparameters\u001b[0m\u001b[0;34m:\u001b[0m\u001b[0;34m\u001b[0m\u001b[0;34m\u001b[0m\u001b[0m\n\u001b[1;32m   3436\u001b[0m                 \u001b[0mdevice_map_kwargs\u001b[0m\u001b[0;34m[\u001b[0m\u001b[0;34m\"skip_keys\"\u001b[0m\u001b[0;34m]\u001b[0m \u001b[0;34m=\u001b[0m \u001b[0mmodel\u001b[0m\u001b[0;34m.\u001b[0m\u001b[0m_skip_keys_device_placement\u001b[0m\u001b[0;34m\u001b[0m\u001b[0;34m\u001b[0m\u001b[0m\n\u001b[0;32m-> 3437\u001b[0;31m             \u001b[0mdispatch_model\u001b[0m\u001b[0;34m(\u001b[0m\u001b[0mmodel\u001b[0m\u001b[0;34m,\u001b[0m \u001b[0;34m**\u001b[0m\u001b[0mdevice_map_kwargs\u001b[0m\u001b[0;34m)\u001b[0m\u001b[0;34m\u001b[0m\u001b[0;34m\u001b[0m\u001b[0m\n\u001b[0m\u001b[1;32m   3438\u001b[0m \u001b[0;34m\u001b[0m\u001b[0m\n\u001b[1;32m   3439\u001b[0m         \u001b[0;32mif\u001b[0m \u001b[0mquantization_method_from_args\u001b[0m \u001b[0;34m==\u001b[0m \u001b[0mQuantizationMethod\u001b[0m\u001b[0;34m.\u001b[0m\u001b[0mGPTQ\u001b[0m\u001b[0;34m:\u001b[0m\u001b[0;34m\u001b[0m\u001b[0;34m\u001b[0m\u001b[0m\n",
            "\u001b[0;32m/usr/local/lib/python3.10/dist-packages/accelerate/big_modeling.py\u001b[0m in \u001b[0;36mdispatch_model\u001b[0;34m(model, device_map, main_device, state_dict, offload_dir, offload_index, offload_buffers, skip_keys, preload_module_classes, force_hooks)\u001b[0m\n\u001b[1;32m    424\u001b[0m         \u001b[0mdevice\u001b[0m \u001b[0;34m=\u001b[0m \u001b[0mlist\u001b[0m\u001b[0;34m(\u001b[0m\u001b[0mdevice_map\u001b[0m\u001b[0;34m.\u001b[0m\u001b[0mvalues\u001b[0m\u001b[0;34m(\u001b[0m\u001b[0;34m)\u001b[0m\u001b[0;34m)\u001b[0m\u001b[0;34m[\u001b[0m\u001b[0;36m0\u001b[0m\u001b[0;34m]\u001b[0m\u001b[0;34m\u001b[0m\u001b[0;34m\u001b[0m\u001b[0m\n\u001b[1;32m    425\u001b[0m         \u001b[0;32mif\u001b[0m \u001b[0mdevice\u001b[0m \u001b[0;34m!=\u001b[0m \u001b[0;34m\"disk\"\u001b[0m\u001b[0;34m:\u001b[0m\u001b[0;34m\u001b[0m\u001b[0;34m\u001b[0m\u001b[0m\n\u001b[0;32m--> 426\u001b[0;31m             \u001b[0mmodel\u001b[0m\u001b[0;34m.\u001b[0m\u001b[0mto\u001b[0m\u001b[0;34m(\u001b[0m\u001b[0mdevice\u001b[0m\u001b[0;34m)\u001b[0m\u001b[0;34m\u001b[0m\u001b[0;34m\u001b[0m\u001b[0m\n\u001b[0m\u001b[1;32m    427\u001b[0m         \u001b[0;32melse\u001b[0m\u001b[0;34m:\u001b[0m\u001b[0;34m\u001b[0m\u001b[0;34m\u001b[0m\u001b[0m\n\u001b[1;32m    428\u001b[0m             raise ValueError(\n",
            "\u001b[0;32m/usr/local/lib/python3.10/dist-packages/transformers/modeling_utils.py\u001b[0m in \u001b[0;36mto\u001b[0;34m(self, *args, **kwargs)\u001b[0m\n\u001b[1;32m   2244\u001b[0m                     \u001b[0;34m\" `dtype` by passing the correct `torch_dtype` argument.\"\u001b[0m\u001b[0;34m\u001b[0m\u001b[0;34m\u001b[0m\u001b[0m\n\u001b[1;32m   2245\u001b[0m                 )\n\u001b[0;32m-> 2246\u001b[0;31m         \u001b[0;32mreturn\u001b[0m \u001b[0msuper\u001b[0m\u001b[0;34m(\u001b[0m\u001b[0;34m)\u001b[0m\u001b[0;34m.\u001b[0m\u001b[0mto\u001b[0m\u001b[0;34m(\u001b[0m\u001b[0;34m*\u001b[0m\u001b[0margs\u001b[0m\u001b[0;34m,\u001b[0m \u001b[0;34m**\u001b[0m\u001b[0mkwargs\u001b[0m\u001b[0;34m)\u001b[0m\u001b[0;34m\u001b[0m\u001b[0;34m\u001b[0m\u001b[0m\n\u001b[0m\u001b[1;32m   2247\u001b[0m \u001b[0;34m\u001b[0m\u001b[0m\n\u001b[1;32m   2248\u001b[0m     \u001b[0;32mdef\u001b[0m \u001b[0mhalf\u001b[0m\u001b[0;34m(\u001b[0m\u001b[0mself\u001b[0m\u001b[0;34m,\u001b[0m \u001b[0;34m*\u001b[0m\u001b[0margs\u001b[0m\u001b[0;34m)\u001b[0m\u001b[0;34m:\u001b[0m\u001b[0;34m\u001b[0m\u001b[0;34m\u001b[0m\u001b[0m\n",
            "\u001b[0;32m/usr/local/lib/python3.10/dist-packages/torch/nn/modules/module.py\u001b[0m in \u001b[0;36mto\u001b[0;34m(self, *args, **kwargs)\u001b[0m\n\u001b[1;32m   1158\u001b[0m             \u001b[0;32mreturn\u001b[0m \u001b[0mt\u001b[0m\u001b[0;34m.\u001b[0m\u001b[0mto\u001b[0m\u001b[0;34m(\u001b[0m\u001b[0mdevice\u001b[0m\u001b[0;34m,\u001b[0m \u001b[0mdtype\u001b[0m \u001b[0;32mif\u001b[0m \u001b[0mt\u001b[0m\u001b[0;34m.\u001b[0m\u001b[0mis_floating_point\u001b[0m\u001b[0;34m(\u001b[0m\u001b[0;34m)\u001b[0m \u001b[0;32mor\u001b[0m \u001b[0mt\u001b[0m\u001b[0;34m.\u001b[0m\u001b[0mis_complex\u001b[0m\u001b[0;34m(\u001b[0m\u001b[0;34m)\u001b[0m \u001b[0;32melse\u001b[0m \u001b[0;32mNone\u001b[0m\u001b[0;34m,\u001b[0m \u001b[0mnon_blocking\u001b[0m\u001b[0;34m)\u001b[0m\u001b[0;34m\u001b[0m\u001b[0;34m\u001b[0m\u001b[0m\n\u001b[1;32m   1159\u001b[0m \u001b[0;34m\u001b[0m\u001b[0m\n\u001b[0;32m-> 1160\u001b[0;31m         \u001b[0;32mreturn\u001b[0m \u001b[0mself\u001b[0m\u001b[0;34m.\u001b[0m\u001b[0m_apply\u001b[0m\u001b[0;34m(\u001b[0m\u001b[0mconvert\u001b[0m\u001b[0;34m)\u001b[0m\u001b[0;34m\u001b[0m\u001b[0;34m\u001b[0m\u001b[0m\n\u001b[0m\u001b[1;32m   1161\u001b[0m \u001b[0;34m\u001b[0m\u001b[0m\n\u001b[1;32m   1162\u001b[0m     def register_full_backward_pre_hook(\n",
            "\u001b[0;32m/usr/local/lib/python3.10/dist-packages/torch/nn/modules/module.py\u001b[0m in \u001b[0;36m_apply\u001b[0;34m(self, fn, recurse)\u001b[0m\n\u001b[1;32m    808\u001b[0m         \u001b[0;32mif\u001b[0m \u001b[0mrecurse\u001b[0m\u001b[0;34m:\u001b[0m\u001b[0;34m\u001b[0m\u001b[0;34m\u001b[0m\u001b[0m\n\u001b[1;32m    809\u001b[0m             \u001b[0;32mfor\u001b[0m \u001b[0mmodule\u001b[0m \u001b[0;32min\u001b[0m \u001b[0mself\u001b[0m\u001b[0;34m.\u001b[0m\u001b[0mchildren\u001b[0m\u001b[0;34m(\u001b[0m\u001b[0;34m)\u001b[0m\u001b[0;34m:\u001b[0m\u001b[0;34m\u001b[0m\u001b[0;34m\u001b[0m\u001b[0m\n\u001b[0;32m--> 810\u001b[0;31m                 \u001b[0mmodule\u001b[0m\u001b[0;34m.\u001b[0m\u001b[0m_apply\u001b[0m\u001b[0;34m(\u001b[0m\u001b[0mfn\u001b[0m\u001b[0;34m)\u001b[0m\u001b[0;34m\u001b[0m\u001b[0;34m\u001b[0m\u001b[0m\n\u001b[0m\u001b[1;32m    811\u001b[0m \u001b[0;34m\u001b[0m\u001b[0m\n\u001b[1;32m    812\u001b[0m         \u001b[0;32mdef\u001b[0m \u001b[0mcompute_should_use_set_data\u001b[0m\u001b[0;34m(\u001b[0m\u001b[0mtensor\u001b[0m\u001b[0;34m,\u001b[0m \u001b[0mtensor_applied\u001b[0m\u001b[0;34m)\u001b[0m\u001b[0;34m:\u001b[0m\u001b[0;34m\u001b[0m\u001b[0;34m\u001b[0m\u001b[0m\n",
            "\u001b[0;32m/usr/local/lib/python3.10/dist-packages/torch/nn/modules/module.py\u001b[0m in \u001b[0;36m_apply\u001b[0;34m(self, fn, recurse)\u001b[0m\n\u001b[1;32m    808\u001b[0m         \u001b[0;32mif\u001b[0m \u001b[0mrecurse\u001b[0m\u001b[0;34m:\u001b[0m\u001b[0;34m\u001b[0m\u001b[0;34m\u001b[0m\u001b[0m\n\u001b[1;32m    809\u001b[0m             \u001b[0;32mfor\u001b[0m \u001b[0mmodule\u001b[0m \u001b[0;32min\u001b[0m \u001b[0mself\u001b[0m\u001b[0;34m.\u001b[0m\u001b[0mchildren\u001b[0m\u001b[0;34m(\u001b[0m\u001b[0;34m)\u001b[0m\u001b[0;34m:\u001b[0m\u001b[0;34m\u001b[0m\u001b[0;34m\u001b[0m\u001b[0m\n\u001b[0;32m--> 810\u001b[0;31m                 \u001b[0mmodule\u001b[0m\u001b[0;34m.\u001b[0m\u001b[0m_apply\u001b[0m\u001b[0;34m(\u001b[0m\u001b[0mfn\u001b[0m\u001b[0;34m)\u001b[0m\u001b[0;34m\u001b[0m\u001b[0;34m\u001b[0m\u001b[0m\n\u001b[0m\u001b[1;32m    811\u001b[0m \u001b[0;34m\u001b[0m\u001b[0m\n\u001b[1;32m    812\u001b[0m         \u001b[0;32mdef\u001b[0m \u001b[0mcompute_should_use_set_data\u001b[0m\u001b[0;34m(\u001b[0m\u001b[0mtensor\u001b[0m\u001b[0;34m,\u001b[0m \u001b[0mtensor_applied\u001b[0m\u001b[0;34m)\u001b[0m\u001b[0;34m:\u001b[0m\u001b[0;34m\u001b[0m\u001b[0;34m\u001b[0m\u001b[0m\n",
            "\u001b[0;32m/usr/local/lib/python3.10/dist-packages/torch/nn/modules/module.py\u001b[0m in \u001b[0;36m_apply\u001b[0;34m(self, fn, recurse)\u001b[0m\n\u001b[1;32m    808\u001b[0m         \u001b[0;32mif\u001b[0m \u001b[0mrecurse\u001b[0m\u001b[0;34m:\u001b[0m\u001b[0;34m\u001b[0m\u001b[0;34m\u001b[0m\u001b[0m\n\u001b[1;32m    809\u001b[0m             \u001b[0;32mfor\u001b[0m \u001b[0mmodule\u001b[0m \u001b[0;32min\u001b[0m \u001b[0mself\u001b[0m\u001b[0;34m.\u001b[0m\u001b[0mchildren\u001b[0m\u001b[0;34m(\u001b[0m\u001b[0;34m)\u001b[0m\u001b[0;34m:\u001b[0m\u001b[0;34m\u001b[0m\u001b[0;34m\u001b[0m\u001b[0m\n\u001b[0;32m--> 810\u001b[0;31m                 \u001b[0mmodule\u001b[0m\u001b[0;34m.\u001b[0m\u001b[0m_apply\u001b[0m\u001b[0;34m(\u001b[0m\u001b[0mfn\u001b[0m\u001b[0;34m)\u001b[0m\u001b[0;34m\u001b[0m\u001b[0;34m\u001b[0m\u001b[0m\n\u001b[0m\u001b[1;32m    811\u001b[0m \u001b[0;34m\u001b[0m\u001b[0m\n\u001b[1;32m    812\u001b[0m         \u001b[0;32mdef\u001b[0m \u001b[0mcompute_should_use_set_data\u001b[0m\u001b[0;34m(\u001b[0m\u001b[0mtensor\u001b[0m\u001b[0;34m,\u001b[0m \u001b[0mtensor_applied\u001b[0m\u001b[0;34m)\u001b[0m\u001b[0;34m:\u001b[0m\u001b[0;34m\u001b[0m\u001b[0;34m\u001b[0m\u001b[0m\n",
            "\u001b[0;32m/usr/local/lib/python3.10/dist-packages/torch/nn/modules/module.py\u001b[0m in \u001b[0;36m_apply\u001b[0;34m(self, fn, recurse)\u001b[0m\n\u001b[1;32m    808\u001b[0m         \u001b[0;32mif\u001b[0m \u001b[0mrecurse\u001b[0m\u001b[0;34m:\u001b[0m\u001b[0;34m\u001b[0m\u001b[0;34m\u001b[0m\u001b[0m\n\u001b[1;32m    809\u001b[0m             \u001b[0;32mfor\u001b[0m \u001b[0mmodule\u001b[0m \u001b[0;32min\u001b[0m \u001b[0mself\u001b[0m\u001b[0;34m.\u001b[0m\u001b[0mchildren\u001b[0m\u001b[0;34m(\u001b[0m\u001b[0;34m)\u001b[0m\u001b[0;34m:\u001b[0m\u001b[0;34m\u001b[0m\u001b[0;34m\u001b[0m\u001b[0m\n\u001b[0;32m--> 810\u001b[0;31m                 \u001b[0mmodule\u001b[0m\u001b[0;34m.\u001b[0m\u001b[0m_apply\u001b[0m\u001b[0;34m(\u001b[0m\u001b[0mfn\u001b[0m\u001b[0;34m)\u001b[0m\u001b[0;34m\u001b[0m\u001b[0;34m\u001b[0m\u001b[0m\n\u001b[0m\u001b[1;32m    811\u001b[0m \u001b[0;34m\u001b[0m\u001b[0m\n\u001b[1;32m    812\u001b[0m         \u001b[0;32mdef\u001b[0m \u001b[0mcompute_should_use_set_data\u001b[0m\u001b[0;34m(\u001b[0m\u001b[0mtensor\u001b[0m\u001b[0;34m,\u001b[0m \u001b[0mtensor_applied\u001b[0m\u001b[0;34m)\u001b[0m\u001b[0;34m:\u001b[0m\u001b[0;34m\u001b[0m\u001b[0;34m\u001b[0m\u001b[0m\n",
            "\u001b[0;32m/usr/local/lib/python3.10/dist-packages/torch/nn/modules/module.py\u001b[0m in \u001b[0;36m_apply\u001b[0;34m(self, fn, recurse)\u001b[0m\n\u001b[1;32m    808\u001b[0m         \u001b[0;32mif\u001b[0m \u001b[0mrecurse\u001b[0m\u001b[0;34m:\u001b[0m\u001b[0;34m\u001b[0m\u001b[0;34m\u001b[0m\u001b[0m\n\u001b[1;32m    809\u001b[0m             \u001b[0;32mfor\u001b[0m \u001b[0mmodule\u001b[0m \u001b[0;32min\u001b[0m \u001b[0mself\u001b[0m\u001b[0;34m.\u001b[0m\u001b[0mchildren\u001b[0m\u001b[0;34m(\u001b[0m\u001b[0;34m)\u001b[0m\u001b[0;34m:\u001b[0m\u001b[0;34m\u001b[0m\u001b[0;34m\u001b[0m\u001b[0m\n\u001b[0;32m--> 810\u001b[0;31m                 \u001b[0mmodule\u001b[0m\u001b[0;34m.\u001b[0m\u001b[0m_apply\u001b[0m\u001b[0;34m(\u001b[0m\u001b[0mfn\u001b[0m\u001b[0;34m)\u001b[0m\u001b[0;34m\u001b[0m\u001b[0;34m\u001b[0m\u001b[0m\n\u001b[0m\u001b[1;32m    811\u001b[0m \u001b[0;34m\u001b[0m\u001b[0m\n\u001b[1;32m    812\u001b[0m         \u001b[0;32mdef\u001b[0m \u001b[0mcompute_should_use_set_data\u001b[0m\u001b[0;34m(\u001b[0m\u001b[0mtensor\u001b[0m\u001b[0;34m,\u001b[0m \u001b[0mtensor_applied\u001b[0m\u001b[0;34m)\u001b[0m\u001b[0;34m:\u001b[0m\u001b[0;34m\u001b[0m\u001b[0;34m\u001b[0m\u001b[0m\n",
            "\u001b[0;32m/usr/local/lib/python3.10/dist-packages/torch/nn/modules/module.py\u001b[0m in \u001b[0;36m_apply\u001b[0;34m(self, fn, recurse)\u001b[0m\n\u001b[1;32m    855\u001b[0m         \u001b[0;32mfor\u001b[0m \u001b[0mkey\u001b[0m\u001b[0;34m,\u001b[0m \u001b[0mbuf\u001b[0m \u001b[0;32min\u001b[0m \u001b[0mself\u001b[0m\u001b[0;34m.\u001b[0m\u001b[0m_buffers\u001b[0m\u001b[0;34m.\u001b[0m\u001b[0mitems\u001b[0m\u001b[0;34m(\u001b[0m\u001b[0;34m)\u001b[0m\u001b[0;34m:\u001b[0m\u001b[0;34m\u001b[0m\u001b[0;34m\u001b[0m\u001b[0m\n\u001b[1;32m    856\u001b[0m             \u001b[0;32mif\u001b[0m \u001b[0mbuf\u001b[0m \u001b[0;32mis\u001b[0m \u001b[0;32mnot\u001b[0m \u001b[0;32mNone\u001b[0m\u001b[0;34m:\u001b[0m\u001b[0;34m\u001b[0m\u001b[0;34m\u001b[0m\u001b[0m\n\u001b[0;32m--> 857\u001b[0;31m                 \u001b[0mself\u001b[0m\u001b[0;34m.\u001b[0m\u001b[0m_buffers\u001b[0m\u001b[0;34m[\u001b[0m\u001b[0mkey\u001b[0m\u001b[0;34m]\u001b[0m \u001b[0;34m=\u001b[0m \u001b[0mfn\u001b[0m\u001b[0;34m(\u001b[0m\u001b[0mbuf\u001b[0m\u001b[0;34m)\u001b[0m\u001b[0;34m\u001b[0m\u001b[0;34m\u001b[0m\u001b[0m\n\u001b[0m\u001b[1;32m    858\u001b[0m \u001b[0;34m\u001b[0m\u001b[0m\n\u001b[1;32m    859\u001b[0m         \u001b[0;32mreturn\u001b[0m \u001b[0mself\u001b[0m\u001b[0;34m\u001b[0m\u001b[0;34m\u001b[0m\u001b[0m\n",
            "\u001b[0;32m/usr/local/lib/python3.10/dist-packages/torch/nn/modules/module.py\u001b[0m in \u001b[0;36mconvert\u001b[0;34m(t)\u001b[0m\n\u001b[1;32m   1156\u001b[0m                 return t.to(device, dtype if t.is_floating_point() or t.is_complex() else None,\n\u001b[1;32m   1157\u001b[0m                             non_blocking, memory_format=convert_to_format)\n\u001b[0;32m-> 1158\u001b[0;31m             \u001b[0;32mreturn\u001b[0m \u001b[0mt\u001b[0m\u001b[0;34m.\u001b[0m\u001b[0mto\u001b[0m\u001b[0;34m(\u001b[0m\u001b[0mdevice\u001b[0m\u001b[0;34m,\u001b[0m \u001b[0mdtype\u001b[0m \u001b[0;32mif\u001b[0m \u001b[0mt\u001b[0m\u001b[0;34m.\u001b[0m\u001b[0mis_floating_point\u001b[0m\u001b[0;34m(\u001b[0m\u001b[0;34m)\u001b[0m \u001b[0;32mor\u001b[0m \u001b[0mt\u001b[0m\u001b[0;34m.\u001b[0m\u001b[0mis_complex\u001b[0m\u001b[0;34m(\u001b[0m\u001b[0;34m)\u001b[0m \u001b[0;32melse\u001b[0m \u001b[0;32mNone\u001b[0m\u001b[0;34m,\u001b[0m \u001b[0mnon_blocking\u001b[0m\u001b[0;34m)\u001b[0m\u001b[0;34m\u001b[0m\u001b[0;34m\u001b[0m\u001b[0m\n\u001b[0m\u001b[1;32m   1159\u001b[0m \u001b[0;34m\u001b[0m\u001b[0m\n\u001b[1;32m   1160\u001b[0m         \u001b[0;32mreturn\u001b[0m \u001b[0mself\u001b[0m\u001b[0;34m.\u001b[0m\u001b[0m_apply\u001b[0m\u001b[0;34m(\u001b[0m\u001b[0mconvert\u001b[0m\u001b[0;34m)\u001b[0m\u001b[0;34m\u001b[0m\u001b[0;34m\u001b[0m\u001b[0m\n",
            "\u001b[0;31mOutOfMemoryError\u001b[0m: CUDA out of memory. Tried to allocate 20.00 MiB. GPU 0 has a total capacty of 14.75 GiB of which 10.81 MiB is free. Process 1244845 has 14.73 GiB memory in use. Of the allocated memory 13.69 GiB is allocated by PyTorch, and 181.49 MiB is reserved by PyTorch but unallocated. If reserved but unallocated memory is large try setting max_split_size_mb to avoid fragmentation.  See documentation for Memory Management and PYTORCH_CUDA_ALLOC_CONF"
          ]
        }
      ],
      "source": [
        "base_model = AutoModelForCausalLM.from_pretrained(\n",
        "    model_name,\n",
        "    low_cpu_mem_usage=True,\n",
        "    return_dict=True,\n",
        "    torch_dtype=torch.float16,\n",
        "    device_map={\"\": 0},\n",
        ")\n",
        "merged_model= PeftModel.from_pretrained(base_model, new_model)\n",
        "merged_model= merged_model.merge_and_unload()\n",
        "\n",
        "# Save the merged model\n",
        "merged_model.save_pretrained(\"merged_model\",safe_serialization=True)\n",
        "tokenizer.save_pretrained(\"merged_model\")\n",
        "tokenizer.pad_token = tokenizer.eos_token\n",
        "tokenizer.padding_side = \"right\""
      ]
    },
    {
      "cell_type": "code",
      "execution_count": null,
      "metadata": {
        "colab": {
          "base_uri": "https://localhost:8080/",
          "height": 101,
          "referenced_widgets": [
            "477e052e2f514cf8884e891175fbc886",
            "dcb191684df24ddda88dca1ad9d5e64c",
            "272cc1544f6440908e71689462ca7ea6",
            "8e0b0cf3e45043ca922a7a2082937b75",
            "d881c7ecfb154cb3b8ba3d9280e3fcee",
            "a3bcd7ca12664895a717048cd6cea3c4",
            "5874e1638b354a0ebeebe001304e9abf",
            "256abed46d354e05a6d8e139de7a3438",
            "c255f15372984274901df2b24d65175e",
            "90dc991722944093b7cf50b92532091d",
            "aafa5e6bbacf4f3ab0e4bb3df3a6724d"
          ]
        },
        "id": "OmPD7d2j86sf",
        "outputId": "4eee6bea-ab7c-4fed-f99c-489b70733fe0"
      },
      "outputs": [
        {
          "data": {
            "application/vnd.jupyter.widget-view+json": {
              "model_id": "477e052e2f514cf8884e891175fbc886",
              "version_major": 2,
              "version_minor": 0
            },
            "text/plain": [
              "pytorch_model.bin:   0%|          | 0.00/663M [00:00<?, ?B/s]"
            ]
          },
          "metadata": {},
          "output_type": "display_data"
        },
        {
          "data": {
            "text/plain": [
              "CommitInfo(commit_url='https://huggingface.co/khangnguyen2907/opt-350m-telegram-chat/commit/d6b725f4c74ded9b8f08016c9fc7b5b69f9f1726', commit_message='Upload tokenizer', commit_description='', oid='d6b725f4c74ded9b8f08016c9fc7b5b69f9f1726', pr_url=None, pr_revision=None, pr_num=None)"
            ]
          },
          "execution_count": 41,
          "metadata": {},
          "output_type": "execute_result"
        }
      ],
      "source": [
        "# Push the model and tokenizer to the Hugging Face Model Hub\n",
        "merged_model.push_to_hub(new_model, use_temp_dir=False)\n",
        "tokenizer.push_to_hub(new_model, use_temp_dir=False)"
      ]
    }
  ],
  "metadata": {
    "accelerator": "GPU",
    "colab": {
      "gpuType": "T4",
      "provenance": []
    },
    "kernelspec": {
      "display_name": "Python 3",
      "name": "python3"
    },
    "language_info": {
      "codemirror_mode": {
        "name": "ipython",
        "version": 3
      },
      "file_extension": ".py",
      "mimetype": "text/x-python",
      "name": "python",
      "nbconvert_exporter": "python",
      "pygments_lexer": "ipython3",
      "version": "3.11.6"
    },
    "widgets": {
      "application/vnd.jupyter.widget-state+json": {
        "080d30269f00422d9ada625873194f9b": {
          "model_module": "@jupyter-widgets/controls",
          "model_module_version": "1.5.0",
          "model_name": "LabelModel",
          "state": {
            "_dom_classes": [],
            "_model_module": "@jupyter-widgets/controls",
            "_model_module_version": "1.5.0",
            "_model_name": "LabelModel",
            "_view_count": null,
            "_view_module": "@jupyter-widgets/controls",
            "_view_module_version": "1.5.0",
            "_view_name": "LabelView",
            "description": "",
            "description_tooltip": null,
            "layout": "IPY_MODEL_445382e7be80422cb4acffeff22041a0",
            "placeholder": "​",
            "style": "IPY_MODEL_fd3650f92d884e6e9b65a3e008ec3449",
            "value": "Your token has been saved to /root/.cache/huggingface/token"
          }
        },
        "087d67e19b644781b5bf2aeed04e5d3b": {
          "model_module": "@jupyter-widgets/base",
          "model_module_version": "1.2.0",
          "model_name": "LayoutModel",
          "state": {
            "_model_module": "@jupyter-widgets/base",
            "_model_module_version": "1.2.0",
            "_model_name": "LayoutModel",
            "_view_count": null,
            "_view_module": "@jupyter-widgets/base",
            "_view_module_version": "1.2.0",
            "_view_name": "LayoutView",
            "align_content": null,
            "align_items": null,
            "align_self": null,
            "border": null,
            "bottom": null,
            "display": null,
            "flex": null,
            "flex_flow": null,
            "grid_area": null,
            "grid_auto_columns": null,
            "grid_auto_flow": null,
            "grid_auto_rows": null,
            "grid_column": null,
            "grid_gap": null,
            "grid_row": null,
            "grid_template_areas": null,
            "grid_template_columns": null,
            "grid_template_rows": null,
            "height": null,
            "justify_content": null,
            "justify_items": null,
            "left": null,
            "margin": null,
            "max_height": null,
            "max_width": null,
            "min_height": null,
            "min_width": null,
            "object_fit": null,
            "object_position": null,
            "order": null,
            "overflow": null,
            "overflow_x": null,
            "overflow_y": null,
            "padding": null,
            "right": null,
            "top": null,
            "visibility": null,
            "width": null
          }
        },
        "0a0a7dc7ab1c4328bd37267a93103cdf": {
          "model_module": "@jupyter-widgets/controls",
          "model_module_version": "1.5.0",
          "model_name": "HBoxModel",
          "state": {
            "_dom_classes": [],
            "_model_module": "@jupyter-widgets/controls",
            "_model_module_version": "1.5.0",
            "_model_name": "HBoxModel",
            "_view_count": null,
            "_view_module": "@jupyter-widgets/controls",
            "_view_module_version": "1.5.0",
            "_view_name": "HBoxView",
            "box_style": "",
            "children": [
              "IPY_MODEL_2ce4272b4bdc448fb082525a276ed43e",
              "IPY_MODEL_c41a39be8fc34ead88cdcb320a7b4393",
              "IPY_MODEL_c0080b870fd540b8b7098f13ebc0522e"
            ],
            "layout": "IPY_MODEL_1aac7bdd81a743e3a61124d9922f6ca4"
          }
        },
        "0d86ce0771b544a3bc0afe7bfeba55e5": {
          "model_module": "@jupyter-widgets/base",
          "model_module_version": "1.2.0",
          "model_name": "LayoutModel",
          "state": {
            "_model_module": "@jupyter-widgets/base",
            "_model_module_version": "1.2.0",
            "_model_name": "LayoutModel",
            "_view_count": null,
            "_view_module": "@jupyter-widgets/base",
            "_view_module_version": "1.2.0",
            "_view_name": "LayoutView",
            "align_content": null,
            "align_items": null,
            "align_self": null,
            "border": null,
            "bottom": null,
            "display": null,
            "flex": null,
            "flex_flow": null,
            "grid_area": null,
            "grid_auto_columns": null,
            "grid_auto_flow": null,
            "grid_auto_rows": null,
            "grid_column": null,
            "grid_gap": null,
            "grid_row": null,
            "grid_template_areas": null,
            "grid_template_columns": null,
            "grid_template_rows": null,
            "height": null,
            "justify_content": null,
            "justify_items": null,
            "left": null,
            "margin": null,
            "max_height": null,
            "max_width": null,
            "min_height": null,
            "min_width": null,
            "object_fit": null,
            "object_position": null,
            "order": null,
            "overflow": null,
            "overflow_x": null,
            "overflow_y": null,
            "padding": null,
            "right": null,
            "top": null,
            "visibility": null,
            "width": null
          }
        },
        "1417edd56b874d44bd05e6c8770ab31d": {
          "model_module": "@jupyter-widgets/base",
          "model_module_version": "1.2.0",
          "model_name": "LayoutModel",
          "state": {
            "_model_module": "@jupyter-widgets/base",
            "_model_module_version": "1.2.0",
            "_model_name": "LayoutModel",
            "_view_count": null,
            "_view_module": "@jupyter-widgets/base",
            "_view_module_version": "1.2.0",
            "_view_name": "LayoutView",
            "align_content": null,
            "align_items": null,
            "align_self": null,
            "border": null,
            "bottom": null,
            "display": null,
            "flex": null,
            "flex_flow": null,
            "grid_area": null,
            "grid_auto_columns": null,
            "grid_auto_flow": null,
            "grid_auto_rows": null,
            "grid_column": null,
            "grid_gap": null,
            "grid_row": null,
            "grid_template_areas": null,
            "grid_template_columns": null,
            "grid_template_rows": null,
            "height": null,
            "justify_content": null,
            "justify_items": null,
            "left": null,
            "margin": null,
            "max_height": null,
            "max_width": null,
            "min_height": null,
            "min_width": null,
            "object_fit": null,
            "object_position": null,
            "order": null,
            "overflow": null,
            "overflow_x": null,
            "overflow_y": null,
            "padding": null,
            "right": null,
            "top": null,
            "visibility": null,
            "width": null
          }
        },
        "148f2c3c8a1143018feb33c422cc15c9": {
          "model_module": "@jupyter-widgets/controls",
          "model_module_version": "1.5.0",
          "model_name": "PasswordModel",
          "state": {
            "_dom_classes": [],
            "_model_module": "@jupyter-widgets/controls",
            "_model_module_version": "1.5.0",
            "_model_name": "PasswordModel",
            "_view_count": null,
            "_view_module": "@jupyter-widgets/controls",
            "_view_module_version": "1.5.0",
            "_view_name": "PasswordView",
            "continuous_update": true,
            "description": "Token:",
            "description_tooltip": null,
            "disabled": false,
            "layout": "IPY_MODEL_97784ab663114c6fa33037286a5a41bb",
            "placeholder": "​",
            "style": "IPY_MODEL_e626c034bac14aaa93ebc9443610786b",
            "value": ""
          }
        },
        "17f13a5e15c443ad8aa43880511db8f6": {
          "model_module": "@jupyter-widgets/controls",
          "model_module_version": "1.5.0",
          "model_name": "FloatProgressModel",
          "state": {
            "_dom_classes": [],
            "_model_module": "@jupyter-widgets/controls",
            "_model_module_version": "1.5.0",
            "_model_name": "FloatProgressModel",
            "_view_count": null,
            "_view_module": "@jupyter-widgets/controls",
            "_view_module_version": "1.5.0",
            "_view_name": "ProgressView",
            "bar_style": "success",
            "description": "",
            "description_tooltip": null,
            "layout": "IPY_MODEL_b8e39535ec3047f5a3f8d85751550deb",
            "max": 11,
            "min": 0,
            "orientation": "horizontal",
            "style": "IPY_MODEL_801170a21c324721a0ad7d48d3bc2924",
            "value": 11
          }
        },
        "1aac7bdd81a743e3a61124d9922f6ca4": {
          "model_module": "@jupyter-widgets/base",
          "model_module_version": "1.2.0",
          "model_name": "LayoutModel",
          "state": {
            "_model_module": "@jupyter-widgets/base",
            "_model_module_version": "1.2.0",
            "_model_name": "LayoutModel",
            "_view_count": null,
            "_view_module": "@jupyter-widgets/base",
            "_view_module_version": "1.2.0",
            "_view_name": "LayoutView",
            "align_content": null,
            "align_items": null,
            "align_self": null,
            "border": null,
            "bottom": null,
            "display": null,
            "flex": null,
            "flex_flow": null,
            "grid_area": null,
            "grid_auto_columns": null,
            "grid_auto_flow": null,
            "grid_auto_rows": null,
            "grid_column": null,
            "grid_gap": null,
            "grid_row": null,
            "grid_template_areas": null,
            "grid_template_columns": null,
            "grid_template_rows": null,
            "height": null,
            "justify_content": null,
            "justify_items": null,
            "left": null,
            "margin": null,
            "max_height": null,
            "max_width": null,
            "min_height": null,
            "min_width": null,
            "object_fit": null,
            "object_position": null,
            "order": null,
            "overflow": null,
            "overflow_x": null,
            "overflow_y": null,
            "padding": null,
            "right": null,
            "top": null,
            "visibility": null,
            "width": null
          }
        },
        "1f740fb0c14846b1aa7a82d47500bc87": {
          "model_module": "@jupyter-widgets/controls",
          "model_module_version": "1.5.0",
          "model_name": "LabelModel",
          "state": {
            "_dom_classes": [],
            "_model_module": "@jupyter-widgets/controls",
            "_model_module_version": "1.5.0",
            "_model_name": "LabelModel",
            "_view_count": null,
            "_view_module": "@jupyter-widgets/controls",
            "_view_module_version": "1.5.0",
            "_view_name": "LabelView",
            "description": "",
            "description_tooltip": null,
            "layout": "IPY_MODEL_662e8b2bdacf45f3bf97935bc22e0656",
            "placeholder": "​",
            "style": "IPY_MODEL_7fc279d6cb27430faee362d287ab3738",
            "value": "Login successful"
          }
        },
        "21c3721c22f449d7b9cb7c39e231acd1": {
          "model_module": "@jupyter-widgets/controls",
          "model_module_version": "1.5.0",
          "model_name": "HTMLModel",
          "state": {
            "_dom_classes": [],
            "_model_module": "@jupyter-widgets/controls",
            "_model_module_version": "1.5.0",
            "_model_name": "HTMLModel",
            "_view_count": null,
            "_view_module": "@jupyter-widgets/controls",
            "_view_module_version": "1.5.0",
            "_view_name": "HTMLView",
            "description": "",
            "description_tooltip": null,
            "layout": "IPY_MODEL_087d67e19b644781b5bf2aeed04e5d3b",
            "placeholder": "​",
            "style": "IPY_MODEL_d5450de925d64bf0a1de72c2898ea320",
            "value": "<center> <img\nsrc=https://huggingface.co/front/assets/huggingface_logo-noborder.svg\nalt='Hugging Face'> <br> Copy a token from <a\nhref=\"https://huggingface.co/settings/tokens\" target=\"_blank\">your Hugging Face\ntokens page</a> and paste it below. <br> Immediately click login after copying\nyour token or it might be stored in plain text in this notebook file. </center>"
          }
        },
        "256abed46d354e05a6d8e139de7a3438": {
          "model_module": "@jupyter-widgets/base",
          "model_module_version": "1.2.0",
          "model_name": "LayoutModel",
          "state": {
            "_model_module": "@jupyter-widgets/base",
            "_model_module_version": "1.2.0",
            "_model_name": "LayoutModel",
            "_view_count": null,
            "_view_module": "@jupyter-widgets/base",
            "_view_module_version": "1.2.0",
            "_view_name": "LayoutView",
            "align_content": null,
            "align_items": null,
            "align_self": null,
            "border": null,
            "bottom": null,
            "display": null,
            "flex": null,
            "flex_flow": null,
            "grid_area": null,
            "grid_auto_columns": null,
            "grid_auto_flow": null,
            "grid_auto_rows": null,
            "grid_column": null,
            "grid_gap": null,
            "grid_row": null,
            "grid_template_areas": null,
            "grid_template_columns": null,
            "grid_template_rows": null,
            "height": null,
            "justify_content": null,
            "justify_items": null,
            "left": null,
            "margin": null,
            "max_height": null,
            "max_width": null,
            "min_height": null,
            "min_width": null,
            "object_fit": null,
            "object_position": null,
            "order": null,
            "overflow": null,
            "overflow_x": null,
            "overflow_y": null,
            "padding": null,
            "right": null,
            "top": null,
            "visibility": null,
            "width": null
          }
        },
        "272cc1544f6440908e71689462ca7ea6": {
          "model_module": "@jupyter-widgets/controls",
          "model_module_version": "1.5.0",
          "model_name": "FloatProgressModel",
          "state": {
            "_dom_classes": [],
            "_model_module": "@jupyter-widgets/controls",
            "_model_module_version": "1.5.0",
            "_model_name": "FloatProgressModel",
            "_view_count": null,
            "_view_module": "@jupyter-widgets/controls",
            "_view_module_version": "1.5.0",
            "_view_name": "ProgressView",
            "bar_style": "success",
            "description": "",
            "description_tooltip": null,
            "layout": "IPY_MODEL_256abed46d354e05a6d8e139de7a3438",
            "max": 662524445,
            "min": 0,
            "orientation": "horizontal",
            "style": "IPY_MODEL_c255f15372984274901df2b24d65175e",
            "value": 662524445
          }
        },
        "2b36b10a6bae437b87f96527d7cc8de6": {
          "model_module": "@jupyter-widgets/base",
          "model_module_version": "1.2.0",
          "model_name": "LayoutModel",
          "state": {
            "_model_module": "@jupyter-widgets/base",
            "_model_module_version": "1.2.0",
            "_model_name": "LayoutModel",
            "_view_count": null,
            "_view_module": "@jupyter-widgets/base",
            "_view_module_version": "1.2.0",
            "_view_name": "LayoutView",
            "align_content": null,
            "align_items": null,
            "align_self": null,
            "border": null,
            "bottom": null,
            "display": null,
            "flex": null,
            "flex_flow": null,
            "grid_area": null,
            "grid_auto_columns": null,
            "grid_auto_flow": null,
            "grid_auto_rows": null,
            "grid_column": null,
            "grid_gap": null,
            "grid_row": null,
            "grid_template_areas": null,
            "grid_template_columns": null,
            "grid_template_rows": null,
            "height": null,
            "justify_content": null,
            "justify_items": null,
            "left": null,
            "margin": null,
            "max_height": null,
            "max_width": null,
            "min_height": null,
            "min_width": null,
            "object_fit": null,
            "object_position": null,
            "order": null,
            "overflow": null,
            "overflow_x": null,
            "overflow_y": null,
            "padding": null,
            "right": null,
            "top": null,
            "visibility": null,
            "width": null
          }
        },
        "2c54c9d67a864e71b94c5f236a4a8032": {
          "model_module": "@jupyter-widgets/controls",
          "model_module_version": "1.5.0",
          "model_name": "HTMLModel",
          "state": {
            "_dom_classes": [],
            "_model_module": "@jupyter-widgets/controls",
            "_model_module_version": "1.5.0",
            "_model_name": "HTMLModel",
            "_view_count": null,
            "_view_module": "@jupyter-widgets/controls",
            "_view_module_version": "1.5.0",
            "_view_name": "HTMLView",
            "description": "",
            "description_tooltip": null,
            "layout": "IPY_MODEL_97545d7320a84f838e4cb1e6426b59e3",
            "placeholder": "​",
            "style": "IPY_MODEL_4160ebf609d24e31be4e8c5300ed8988",
            "value": "\n<b>Pro Tip:</b> If you don't already have one, you can create a dedicated\n'notebooks' token with 'write' access, that you can then easily reuse for all\nnotebooks. </center>"
          }
        },
        "2ce4272b4bdc448fb082525a276ed43e": {
          "model_module": "@jupyter-widgets/controls",
          "model_module_version": "1.5.0",
          "model_name": "HTMLModel",
          "state": {
            "_dom_classes": [],
            "_model_module": "@jupyter-widgets/controls",
            "_model_module_version": "1.5.0",
            "_model_name": "HTMLModel",
            "_view_count": null,
            "_view_module": "@jupyter-widgets/controls",
            "_view_module_version": "1.5.0",
            "_view_name": "HTMLView",
            "description": "",
            "description_tooltip": null,
            "layout": "IPY_MODEL_841636ef36d2409a82f8d77fa5827dad",
            "placeholder": "​",
            "style": "IPY_MODEL_84ef2b7ab26e4edc949e9cada6f4d9ee",
            "value": "Loading checkpoint shards: 100%"
          }
        },
        "315fca50c1664aa1b3668023da9bdf53": {
          "model_module": "@jupyter-widgets/base",
          "model_module_version": "1.2.0",
          "model_name": "LayoutModel",
          "state": {
            "_model_module": "@jupyter-widgets/base",
            "_model_module_version": "1.2.0",
            "_model_name": "LayoutModel",
            "_view_count": null,
            "_view_module": "@jupyter-widgets/base",
            "_view_module_version": "1.2.0",
            "_view_name": "LayoutView",
            "align_content": null,
            "align_items": null,
            "align_self": null,
            "border": null,
            "bottom": null,
            "display": null,
            "flex": null,
            "flex_flow": null,
            "grid_area": null,
            "grid_auto_columns": null,
            "grid_auto_flow": null,
            "grid_auto_rows": null,
            "grid_column": null,
            "grid_gap": null,
            "grid_row": null,
            "grid_template_areas": null,
            "grid_template_columns": null,
            "grid_template_rows": null,
            "height": null,
            "justify_content": null,
            "justify_items": null,
            "left": null,
            "margin": null,
            "max_height": null,
            "max_width": null,
            "min_height": null,
            "min_width": null,
            "object_fit": null,
            "object_position": null,
            "order": null,
            "overflow": null,
            "overflow_x": null,
            "overflow_y": null,
            "padding": null,
            "right": null,
            "top": null,
            "visibility": null,
            "width": null
          }
        },
        "334b291ee3f04878b826d124fc68f738": {
          "model_module": "@jupyter-widgets/controls",
          "model_module_version": "1.5.0",
          "model_name": "DescriptionStyleModel",
          "state": {
            "_model_module": "@jupyter-widgets/controls",
            "_model_module_version": "1.5.0",
            "_model_name": "DescriptionStyleModel",
            "_view_count": null,
            "_view_module": "@jupyter-widgets/base",
            "_view_module_version": "1.2.0",
            "_view_name": "StyleView",
            "description_width": ""
          }
        },
        "33a543cdf3814e21b0acee611bfdefc2": {
          "model_module": "@jupyter-widgets/base",
          "model_module_version": "1.2.0",
          "model_name": "LayoutModel",
          "state": {
            "_model_module": "@jupyter-widgets/base",
            "_model_module_version": "1.2.0",
            "_model_name": "LayoutModel",
            "_view_count": null,
            "_view_module": "@jupyter-widgets/base",
            "_view_module_version": "1.2.0",
            "_view_name": "LayoutView",
            "align_content": null,
            "align_items": null,
            "align_self": null,
            "border": null,
            "bottom": null,
            "display": null,
            "flex": null,
            "flex_flow": null,
            "grid_area": null,
            "grid_auto_columns": null,
            "grid_auto_flow": null,
            "grid_auto_rows": null,
            "grid_column": null,
            "grid_gap": null,
            "grid_row": null,
            "grid_template_areas": null,
            "grid_template_columns": null,
            "grid_template_rows": null,
            "height": null,
            "justify_content": null,
            "justify_items": null,
            "left": null,
            "margin": null,
            "max_height": null,
            "max_width": null,
            "min_height": null,
            "min_width": null,
            "object_fit": null,
            "object_position": null,
            "order": null,
            "overflow": null,
            "overflow_x": null,
            "overflow_y": null,
            "padding": null,
            "right": null,
            "top": null,
            "visibility": null,
            "width": null
          }
        },
        "378310f96c164793b458a4a81a3fd8e4": {
          "model_module": "@jupyter-widgets/controls",
          "model_module_version": "1.5.0",
          "model_name": "DescriptionStyleModel",
          "state": {
            "_model_module": "@jupyter-widgets/controls",
            "_model_module_version": "1.5.0",
            "_model_name": "DescriptionStyleModel",
            "_view_count": null,
            "_view_module": "@jupyter-widgets/base",
            "_view_module_version": "1.2.0",
            "_view_name": "StyleView",
            "description_width": ""
          }
        },
        "3b1e185d0e5a433a9d55cd662e484675": {
          "model_module": "@jupyter-widgets/base",
          "model_module_version": "1.2.0",
          "model_name": "LayoutModel",
          "state": {
            "_model_module": "@jupyter-widgets/base",
            "_model_module_version": "1.2.0",
            "_model_name": "LayoutModel",
            "_view_count": null,
            "_view_module": "@jupyter-widgets/base",
            "_view_module_version": "1.2.0",
            "_view_name": "LayoutView",
            "align_content": null,
            "align_items": null,
            "align_self": null,
            "border": null,
            "bottom": null,
            "display": null,
            "flex": null,
            "flex_flow": null,
            "grid_area": null,
            "grid_auto_columns": null,
            "grid_auto_flow": null,
            "grid_auto_rows": null,
            "grid_column": null,
            "grid_gap": null,
            "grid_row": null,
            "grid_template_areas": null,
            "grid_template_columns": null,
            "grid_template_rows": null,
            "height": null,
            "justify_content": null,
            "justify_items": null,
            "left": null,
            "margin": null,
            "max_height": null,
            "max_width": null,
            "min_height": null,
            "min_width": null,
            "object_fit": null,
            "object_position": null,
            "order": null,
            "overflow": null,
            "overflow_x": null,
            "overflow_y": null,
            "padding": null,
            "right": null,
            "top": null,
            "visibility": null,
            "width": null
          }
        },
        "3d8edb59a3a849c9847d744c6688798f": {
          "model_module": "@jupyter-widgets/controls",
          "model_module_version": "1.5.0",
          "model_name": "LabelModel",
          "state": {
            "_dom_classes": [],
            "_model_module": "@jupyter-widgets/controls",
            "_model_module_version": "1.5.0",
            "_model_name": "LabelModel",
            "_view_count": null,
            "_view_module": "@jupyter-widgets/controls",
            "_view_module_version": "1.5.0",
            "_view_name": "LabelView",
            "description": "",
            "description_tooltip": null,
            "layout": "IPY_MODEL_3b1e185d0e5a433a9d55cd662e484675",
            "placeholder": "​",
            "style": "IPY_MODEL_378310f96c164793b458a4a81a3fd8e4",
            "value": "Connecting..."
          }
        },
        "4160ebf609d24e31be4e8c5300ed8988": {
          "model_module": "@jupyter-widgets/controls",
          "model_module_version": "1.5.0",
          "model_name": "DescriptionStyleModel",
          "state": {
            "_model_module": "@jupyter-widgets/controls",
            "_model_module_version": "1.5.0",
            "_model_name": "DescriptionStyleModel",
            "_view_count": null,
            "_view_module": "@jupyter-widgets/base",
            "_view_module_version": "1.2.0",
            "_view_name": "StyleView",
            "description_width": ""
          }
        },
        "445382e7be80422cb4acffeff22041a0": {
          "model_module": "@jupyter-widgets/base",
          "model_module_version": "1.2.0",
          "model_name": "LayoutModel",
          "state": {
            "_model_module": "@jupyter-widgets/base",
            "_model_module_version": "1.2.0",
            "_model_name": "LayoutModel",
            "_view_count": null,
            "_view_module": "@jupyter-widgets/base",
            "_view_module_version": "1.2.0",
            "_view_name": "LayoutView",
            "align_content": null,
            "align_items": null,
            "align_self": null,
            "border": null,
            "bottom": null,
            "display": null,
            "flex": null,
            "flex_flow": null,
            "grid_area": null,
            "grid_auto_columns": null,
            "grid_auto_flow": null,
            "grid_auto_rows": null,
            "grid_column": null,
            "grid_gap": null,
            "grid_row": null,
            "grid_template_areas": null,
            "grid_template_columns": null,
            "grid_template_rows": null,
            "height": null,
            "justify_content": null,
            "justify_items": null,
            "left": null,
            "margin": null,
            "max_height": null,
            "max_width": null,
            "min_height": null,
            "min_width": null,
            "object_fit": null,
            "object_position": null,
            "order": null,
            "overflow": null,
            "overflow_x": null,
            "overflow_y": null,
            "padding": null,
            "right": null,
            "top": null,
            "visibility": null,
            "width": null
          }
        },
        "477e052e2f514cf8884e891175fbc886": {
          "model_module": "@jupyter-widgets/controls",
          "model_module_version": "1.5.0",
          "model_name": "HBoxModel",
          "state": {
            "_dom_classes": [],
            "_model_module": "@jupyter-widgets/controls",
            "_model_module_version": "1.5.0",
            "_model_name": "HBoxModel",
            "_view_count": null,
            "_view_module": "@jupyter-widgets/controls",
            "_view_module_version": "1.5.0",
            "_view_name": "HBoxView",
            "box_style": "",
            "children": [
              "IPY_MODEL_dcb191684df24ddda88dca1ad9d5e64c",
              "IPY_MODEL_272cc1544f6440908e71689462ca7ea6",
              "IPY_MODEL_8e0b0cf3e45043ca922a7a2082937b75"
            ],
            "layout": "IPY_MODEL_d881c7ecfb154cb3b8ba3d9280e3fcee"
          }
        },
        "52a787342d3648e8b167f4a1a1cf4ff7": {
          "model_module": "@jupyter-widgets/controls",
          "model_module_version": "1.5.0",
          "model_name": "HBoxModel",
          "state": {
            "_dom_classes": [],
            "_model_module": "@jupyter-widgets/controls",
            "_model_module_version": "1.5.0",
            "_model_name": "HBoxModel",
            "_view_count": null,
            "_view_module": "@jupyter-widgets/controls",
            "_view_module_version": "1.5.0",
            "_view_name": "HBoxView",
            "box_style": "",
            "children": [
              "IPY_MODEL_e88a0310cf064d1faac4cb31dc89cb0b",
              "IPY_MODEL_17f13a5e15c443ad8aa43880511db8f6",
              "IPY_MODEL_fac0a8d672a44a5ab2fee7a38bf0731c"
            ],
            "layout": "IPY_MODEL_1417edd56b874d44bd05e6c8770ab31d"
          }
        },
        "5874e1638b354a0ebeebe001304e9abf": {
          "model_module": "@jupyter-widgets/controls",
          "model_module_version": "1.5.0",
          "model_name": "DescriptionStyleModel",
          "state": {
            "_model_module": "@jupyter-widgets/controls",
            "_model_module_version": "1.5.0",
            "_model_name": "DescriptionStyleModel",
            "_view_count": null,
            "_view_module": "@jupyter-widgets/base",
            "_view_module_version": "1.2.0",
            "_view_name": "StyleView",
            "description_width": ""
          }
        },
        "5991dd9d6e1e474aae63d5a70698a6ab": {
          "model_module": "@jupyter-widgets/controls",
          "model_module_version": "1.5.0",
          "model_name": "DescriptionStyleModel",
          "state": {
            "_model_module": "@jupyter-widgets/controls",
            "_model_module_version": "1.5.0",
            "_model_name": "DescriptionStyleModel",
            "_view_count": null,
            "_view_module": "@jupyter-widgets/base",
            "_view_module_version": "1.2.0",
            "_view_name": "StyleView",
            "description_width": ""
          }
        },
        "5bf7f6b27a4a492b85809a403c9d8272": {
          "model_module": "@jupyter-widgets/controls",
          "model_module_version": "1.5.0",
          "model_name": "DescriptionStyleModel",
          "state": {
            "_model_module": "@jupyter-widgets/controls",
            "_model_module_version": "1.5.0",
            "_model_name": "DescriptionStyleModel",
            "_view_count": null,
            "_view_module": "@jupyter-widgets/base",
            "_view_module_version": "1.2.0",
            "_view_name": "StyleView",
            "description_width": ""
          }
        },
        "662e8b2bdacf45f3bf97935bc22e0656": {
          "model_module": "@jupyter-widgets/base",
          "model_module_version": "1.2.0",
          "model_name": "LayoutModel",
          "state": {
            "_model_module": "@jupyter-widgets/base",
            "_model_module_version": "1.2.0",
            "_model_name": "LayoutModel",
            "_view_count": null,
            "_view_module": "@jupyter-widgets/base",
            "_view_module_version": "1.2.0",
            "_view_name": "LayoutView",
            "align_content": null,
            "align_items": null,
            "align_self": null,
            "border": null,
            "bottom": null,
            "display": null,
            "flex": null,
            "flex_flow": null,
            "grid_area": null,
            "grid_auto_columns": null,
            "grid_auto_flow": null,
            "grid_auto_rows": null,
            "grid_column": null,
            "grid_gap": null,
            "grid_row": null,
            "grid_template_areas": null,
            "grid_template_columns": null,
            "grid_template_rows": null,
            "height": null,
            "justify_content": null,
            "justify_items": null,
            "left": null,
            "margin": null,
            "max_height": null,
            "max_width": null,
            "min_height": null,
            "min_width": null,
            "object_fit": null,
            "object_position": null,
            "order": null,
            "overflow": null,
            "overflow_x": null,
            "overflow_y": null,
            "padding": null,
            "right": null,
            "top": null,
            "visibility": null,
            "width": null
          }
        },
        "66909059465a49be9fd1ad72fc70ac25": {
          "model_module": "@jupyter-widgets/controls",
          "model_module_version": "1.5.0",
          "model_name": "ProgressStyleModel",
          "state": {
            "_model_module": "@jupyter-widgets/controls",
            "_model_module_version": "1.5.0",
            "_model_name": "ProgressStyleModel",
            "_view_count": null,
            "_view_module": "@jupyter-widgets/base",
            "_view_module_version": "1.2.0",
            "_view_name": "StyleView",
            "bar_color": null,
            "description_width": ""
          }
        },
        "6d4707e222eb49cf874fd1ec4e2a48c7": {
          "model_module": "@jupyter-widgets/controls",
          "model_module_version": "1.5.0",
          "model_name": "LabelModel",
          "state": {
            "_dom_classes": [],
            "_model_module": "@jupyter-widgets/controls",
            "_model_module_version": "1.5.0",
            "_model_name": "LabelModel",
            "_view_count": null,
            "_view_module": "@jupyter-widgets/controls",
            "_view_module_version": "1.5.0",
            "_view_name": "LabelView",
            "description": "",
            "description_tooltip": null,
            "layout": "IPY_MODEL_ce1ac033e99f4384b75896f6cc558484",
            "placeholder": "​",
            "style": "IPY_MODEL_cb5b30d79317420a834f744a2b651cd6",
            "value": "Token is valid (permission: write)."
          }
        },
        "7fc279d6cb27430faee362d287ab3738": {
          "model_module": "@jupyter-widgets/controls",
          "model_module_version": "1.5.0",
          "model_name": "DescriptionStyleModel",
          "state": {
            "_model_module": "@jupyter-widgets/controls",
            "_model_module_version": "1.5.0",
            "_model_name": "DescriptionStyleModel",
            "_view_count": null,
            "_view_module": "@jupyter-widgets/base",
            "_view_module_version": "1.2.0",
            "_view_name": "StyleView",
            "description_width": ""
          }
        },
        "801170a21c324721a0ad7d48d3bc2924": {
          "model_module": "@jupyter-widgets/controls",
          "model_module_version": "1.5.0",
          "model_name": "ProgressStyleModel",
          "state": {
            "_model_module": "@jupyter-widgets/controls",
            "_model_module_version": "1.5.0",
            "_model_name": "ProgressStyleModel",
            "_view_count": null,
            "_view_module": "@jupyter-widgets/base",
            "_view_module_version": "1.2.0",
            "_view_name": "StyleView",
            "bar_color": null,
            "description_width": ""
          }
        },
        "841636ef36d2409a82f8d77fa5827dad": {
          "model_module": "@jupyter-widgets/base",
          "model_module_version": "1.2.0",
          "model_name": "LayoutModel",
          "state": {
            "_model_module": "@jupyter-widgets/base",
            "_model_module_version": "1.2.0",
            "_model_name": "LayoutModel",
            "_view_count": null,
            "_view_module": "@jupyter-widgets/base",
            "_view_module_version": "1.2.0",
            "_view_name": "LayoutView",
            "align_content": null,
            "align_items": null,
            "align_self": null,
            "border": null,
            "bottom": null,
            "display": null,
            "flex": null,
            "flex_flow": null,
            "grid_area": null,
            "grid_auto_columns": null,
            "grid_auto_flow": null,
            "grid_auto_rows": null,
            "grid_column": null,
            "grid_gap": null,
            "grid_row": null,
            "grid_template_areas": null,
            "grid_template_columns": null,
            "grid_template_rows": null,
            "height": null,
            "justify_content": null,
            "justify_items": null,
            "left": null,
            "margin": null,
            "max_height": null,
            "max_width": null,
            "min_height": null,
            "min_width": null,
            "object_fit": null,
            "object_position": null,
            "order": null,
            "overflow": null,
            "overflow_x": null,
            "overflow_y": null,
            "padding": null,
            "right": null,
            "top": null,
            "visibility": null,
            "width": null
          }
        },
        "84ef2b7ab26e4edc949e9cada6f4d9ee": {
          "model_module": "@jupyter-widgets/controls",
          "model_module_version": "1.5.0",
          "model_name": "DescriptionStyleModel",
          "state": {
            "_model_module": "@jupyter-widgets/controls",
            "_model_module_version": "1.5.0",
            "_model_name": "DescriptionStyleModel",
            "_view_count": null,
            "_view_module": "@jupyter-widgets/base",
            "_view_module_version": "1.2.0",
            "_view_name": "StyleView",
            "description_width": ""
          }
        },
        "8a4de70952af4d24b1b35f07043037ef": {
          "model_module": "@jupyter-widgets/base",
          "model_module_version": "1.2.0",
          "model_name": "LayoutModel",
          "state": {
            "_model_module": "@jupyter-widgets/base",
            "_model_module_version": "1.2.0",
            "_model_name": "LayoutModel",
            "_view_count": null,
            "_view_module": "@jupyter-widgets/base",
            "_view_module_version": "1.2.0",
            "_view_name": "LayoutView",
            "align_content": null,
            "align_items": null,
            "align_self": null,
            "border": null,
            "bottom": null,
            "display": null,
            "flex": null,
            "flex_flow": null,
            "grid_area": null,
            "grid_auto_columns": null,
            "grid_auto_flow": null,
            "grid_auto_rows": null,
            "grid_column": null,
            "grid_gap": null,
            "grid_row": null,
            "grid_template_areas": null,
            "grid_template_columns": null,
            "grid_template_rows": null,
            "height": null,
            "justify_content": null,
            "justify_items": null,
            "left": null,
            "margin": null,
            "max_height": null,
            "max_width": null,
            "min_height": null,
            "min_width": null,
            "object_fit": null,
            "object_position": null,
            "order": null,
            "overflow": null,
            "overflow_x": null,
            "overflow_y": null,
            "padding": null,
            "right": null,
            "top": null,
            "visibility": null,
            "width": null
          }
        },
        "8e0b0cf3e45043ca922a7a2082937b75": {
          "model_module": "@jupyter-widgets/controls",
          "model_module_version": "1.5.0",
          "model_name": "HTMLModel",
          "state": {
            "_dom_classes": [],
            "_model_module": "@jupyter-widgets/controls",
            "_model_module_version": "1.5.0",
            "_model_name": "HTMLModel",
            "_view_count": null,
            "_view_module": "@jupyter-widgets/controls",
            "_view_module_version": "1.5.0",
            "_view_name": "HTMLView",
            "description": "",
            "description_tooltip": null,
            "layout": "IPY_MODEL_90dc991722944093b7cf50b92532091d",
            "placeholder": "​",
            "style": "IPY_MODEL_aafa5e6bbacf4f3ab0e4bb3df3a6724d",
            "value": " 663M/663M [00:15&lt;00:00, 39.9MB/s]"
          }
        },
        "90dc991722944093b7cf50b92532091d": {
          "model_module": "@jupyter-widgets/base",
          "model_module_version": "1.2.0",
          "model_name": "LayoutModel",
          "state": {
            "_model_module": "@jupyter-widgets/base",
            "_model_module_version": "1.2.0",
            "_model_name": "LayoutModel",
            "_view_count": null,
            "_view_module": "@jupyter-widgets/base",
            "_view_module_version": "1.2.0",
            "_view_name": "LayoutView",
            "align_content": null,
            "align_items": null,
            "align_self": null,
            "border": null,
            "bottom": null,
            "display": null,
            "flex": null,
            "flex_flow": null,
            "grid_area": null,
            "grid_auto_columns": null,
            "grid_auto_flow": null,
            "grid_auto_rows": null,
            "grid_column": null,
            "grid_gap": null,
            "grid_row": null,
            "grid_template_areas": null,
            "grid_template_columns": null,
            "grid_template_rows": null,
            "height": null,
            "justify_content": null,
            "justify_items": null,
            "left": null,
            "margin": null,
            "max_height": null,
            "max_width": null,
            "min_height": null,
            "min_width": null,
            "object_fit": null,
            "object_position": null,
            "order": null,
            "overflow": null,
            "overflow_x": null,
            "overflow_y": null,
            "padding": null,
            "right": null,
            "top": null,
            "visibility": null,
            "width": null
          }
        },
        "917cc26824e9425e953a8c2e839879ad": {
          "model_module": "@jupyter-widgets/controls",
          "model_module_version": "1.5.0",
          "model_name": "VBoxModel",
          "state": {
            "_dom_classes": [],
            "_model_module": "@jupyter-widgets/controls",
            "_model_module_version": "1.5.0",
            "_model_name": "VBoxModel",
            "_view_count": null,
            "_view_module": "@jupyter-widgets/controls",
            "_view_module_version": "1.5.0",
            "_view_name": "VBoxView",
            "box_style": "",
            "children": [
              "IPY_MODEL_6d4707e222eb49cf874fd1ec4e2a48c7",
              "IPY_MODEL_aef09d255d024878be6713ee3b7614e0",
              "IPY_MODEL_080d30269f00422d9ada625873194f9b",
              "IPY_MODEL_1f740fb0c14846b1aa7a82d47500bc87"
            ],
            "layout": "IPY_MODEL_abe8f2eb1d8041378f8563a05e0ad067"
          }
        },
        "938acc089c5847999c62dc6f7c833798": {
          "model_module": "@jupyter-widgets/base",
          "model_module_version": "1.2.0",
          "model_name": "LayoutModel",
          "state": {
            "_model_module": "@jupyter-widgets/base",
            "_model_module_version": "1.2.0",
            "_model_name": "LayoutModel",
            "_view_count": null,
            "_view_module": "@jupyter-widgets/base",
            "_view_module_version": "1.2.0",
            "_view_name": "LayoutView",
            "align_content": null,
            "align_items": null,
            "align_self": null,
            "border": null,
            "bottom": null,
            "display": null,
            "flex": null,
            "flex_flow": null,
            "grid_area": null,
            "grid_auto_columns": null,
            "grid_auto_flow": null,
            "grid_auto_rows": null,
            "grid_column": null,
            "grid_gap": null,
            "grid_row": null,
            "grid_template_areas": null,
            "grid_template_columns": null,
            "grid_template_rows": null,
            "height": null,
            "justify_content": null,
            "justify_items": null,
            "left": null,
            "margin": null,
            "max_height": null,
            "max_width": null,
            "min_height": null,
            "min_width": null,
            "object_fit": null,
            "object_position": null,
            "order": null,
            "overflow": null,
            "overflow_x": null,
            "overflow_y": null,
            "padding": null,
            "right": null,
            "top": null,
            "visibility": null,
            "width": null
          }
        },
        "9592e2f41b0a4611bdc84a2b00eb5eda": {
          "model_module": "@jupyter-widgets/controls",
          "model_module_version": "1.5.0",
          "model_name": "DescriptionStyleModel",
          "state": {
            "_model_module": "@jupyter-widgets/controls",
            "_model_module_version": "1.5.0",
            "_model_name": "DescriptionStyleModel",
            "_view_count": null,
            "_view_module": "@jupyter-widgets/base",
            "_view_module_version": "1.2.0",
            "_view_name": "StyleView",
            "description_width": ""
          }
        },
        "97545d7320a84f838e4cb1e6426b59e3": {
          "model_module": "@jupyter-widgets/base",
          "model_module_version": "1.2.0",
          "model_name": "LayoutModel",
          "state": {
            "_model_module": "@jupyter-widgets/base",
            "_model_module_version": "1.2.0",
            "_model_name": "LayoutModel",
            "_view_count": null,
            "_view_module": "@jupyter-widgets/base",
            "_view_module_version": "1.2.0",
            "_view_name": "LayoutView",
            "align_content": null,
            "align_items": null,
            "align_self": null,
            "border": null,
            "bottom": null,
            "display": null,
            "flex": null,
            "flex_flow": null,
            "grid_area": null,
            "grid_auto_columns": null,
            "grid_auto_flow": null,
            "grid_auto_rows": null,
            "grid_column": null,
            "grid_gap": null,
            "grid_row": null,
            "grid_template_areas": null,
            "grid_template_columns": null,
            "grid_template_rows": null,
            "height": null,
            "justify_content": null,
            "justify_items": null,
            "left": null,
            "margin": null,
            "max_height": null,
            "max_width": null,
            "min_height": null,
            "min_width": null,
            "object_fit": null,
            "object_position": null,
            "order": null,
            "overflow": null,
            "overflow_x": null,
            "overflow_y": null,
            "padding": null,
            "right": null,
            "top": null,
            "visibility": null,
            "width": null
          }
        },
        "97784ab663114c6fa33037286a5a41bb": {
          "model_module": "@jupyter-widgets/base",
          "model_module_version": "1.2.0",
          "model_name": "LayoutModel",
          "state": {
            "_model_module": "@jupyter-widgets/base",
            "_model_module_version": "1.2.0",
            "_model_name": "LayoutModel",
            "_view_count": null,
            "_view_module": "@jupyter-widgets/base",
            "_view_module_version": "1.2.0",
            "_view_name": "LayoutView",
            "align_content": null,
            "align_items": null,
            "align_self": null,
            "border": null,
            "bottom": null,
            "display": null,
            "flex": null,
            "flex_flow": null,
            "grid_area": null,
            "grid_auto_columns": null,
            "grid_auto_flow": null,
            "grid_auto_rows": null,
            "grid_column": null,
            "grid_gap": null,
            "grid_row": null,
            "grid_template_areas": null,
            "grid_template_columns": null,
            "grid_template_rows": null,
            "height": null,
            "justify_content": null,
            "justify_items": null,
            "left": null,
            "margin": null,
            "max_height": null,
            "max_width": null,
            "min_height": null,
            "min_width": null,
            "object_fit": null,
            "object_position": null,
            "order": null,
            "overflow": null,
            "overflow_x": null,
            "overflow_y": null,
            "padding": null,
            "right": null,
            "top": null,
            "visibility": null,
            "width": null
          }
        },
        "a1f2944305854ec8bb9d3bbb46327b00": {
          "model_module": "@jupyter-widgets/base",
          "model_module_version": "1.2.0",
          "model_name": "LayoutModel",
          "state": {
            "_model_module": "@jupyter-widgets/base",
            "_model_module_version": "1.2.0",
            "_model_name": "LayoutModel",
            "_view_count": null,
            "_view_module": "@jupyter-widgets/base",
            "_view_module_version": "1.2.0",
            "_view_name": "LayoutView",
            "align_content": null,
            "align_items": null,
            "align_self": null,
            "border": null,
            "bottom": null,
            "display": null,
            "flex": null,
            "flex_flow": null,
            "grid_area": null,
            "grid_auto_columns": null,
            "grid_auto_flow": null,
            "grid_auto_rows": null,
            "grid_column": null,
            "grid_gap": null,
            "grid_row": null,
            "grid_template_areas": null,
            "grid_template_columns": null,
            "grid_template_rows": null,
            "height": null,
            "justify_content": null,
            "justify_items": null,
            "left": null,
            "margin": null,
            "max_height": null,
            "max_width": null,
            "min_height": null,
            "min_width": null,
            "object_fit": null,
            "object_position": null,
            "order": null,
            "overflow": null,
            "overflow_x": null,
            "overflow_y": null,
            "padding": null,
            "right": null,
            "top": null,
            "visibility": null,
            "width": null
          }
        },
        "a3bcd7ca12664895a717048cd6cea3c4": {
          "model_module": "@jupyter-widgets/base",
          "model_module_version": "1.2.0",
          "model_name": "LayoutModel",
          "state": {
            "_model_module": "@jupyter-widgets/base",
            "_model_module_version": "1.2.0",
            "_model_name": "LayoutModel",
            "_view_count": null,
            "_view_module": "@jupyter-widgets/base",
            "_view_module_version": "1.2.0",
            "_view_name": "LayoutView",
            "align_content": null,
            "align_items": null,
            "align_self": null,
            "border": null,
            "bottom": null,
            "display": null,
            "flex": null,
            "flex_flow": null,
            "grid_area": null,
            "grid_auto_columns": null,
            "grid_auto_flow": null,
            "grid_auto_rows": null,
            "grid_column": null,
            "grid_gap": null,
            "grid_row": null,
            "grid_template_areas": null,
            "grid_template_columns": null,
            "grid_template_rows": null,
            "height": null,
            "justify_content": null,
            "justify_items": null,
            "left": null,
            "margin": null,
            "max_height": null,
            "max_width": null,
            "min_height": null,
            "min_width": null,
            "object_fit": null,
            "object_position": null,
            "order": null,
            "overflow": null,
            "overflow_x": null,
            "overflow_y": null,
            "padding": null,
            "right": null,
            "top": null,
            "visibility": null,
            "width": null
          }
        },
        "a61e3461ae6b4a7aaf47e4fa625cd8e9": {
          "model_module": "@jupyter-widgets/controls",
          "model_module_version": "1.5.0",
          "model_name": "DescriptionStyleModel",
          "state": {
            "_model_module": "@jupyter-widgets/controls",
            "_model_module_version": "1.5.0",
            "_model_name": "DescriptionStyleModel",
            "_view_count": null,
            "_view_module": "@jupyter-widgets/base",
            "_view_module_version": "1.2.0",
            "_view_name": "StyleView",
            "description_width": ""
          }
        },
        "a6a9ec2107364c40bf50fe10689e276b": {
          "model_module": "@jupyter-widgets/controls",
          "model_module_version": "1.5.0",
          "model_name": "CheckboxModel",
          "state": {
            "_dom_classes": [],
            "_model_module": "@jupyter-widgets/controls",
            "_model_module_version": "1.5.0",
            "_model_name": "CheckboxModel",
            "_view_count": null,
            "_view_module": "@jupyter-widgets/controls",
            "_view_module_version": "1.5.0",
            "_view_name": "CheckboxView",
            "description": "Add token as git credential?",
            "description_tooltip": null,
            "disabled": false,
            "indent": true,
            "layout": "IPY_MODEL_2b36b10a6bae437b87f96527d7cc8de6",
            "style": "IPY_MODEL_5bf7f6b27a4a492b85809a403c9d8272",
            "value": true
          }
        },
        "aafa5e6bbacf4f3ab0e4bb3df3a6724d": {
          "model_module": "@jupyter-widgets/controls",
          "model_module_version": "1.5.0",
          "model_name": "DescriptionStyleModel",
          "state": {
            "_model_module": "@jupyter-widgets/controls",
            "_model_module_version": "1.5.0",
            "_model_name": "DescriptionStyleModel",
            "_view_count": null,
            "_view_module": "@jupyter-widgets/base",
            "_view_module_version": "1.2.0",
            "_view_name": "StyleView",
            "description_width": ""
          }
        },
        "abe8f2eb1d8041378f8563a05e0ad067": {
          "model_module": "@jupyter-widgets/base",
          "model_module_version": "1.2.0",
          "model_name": "LayoutModel",
          "state": {
            "_model_module": "@jupyter-widgets/base",
            "_model_module_version": "1.2.0",
            "_model_name": "LayoutModel",
            "_view_count": null,
            "_view_module": "@jupyter-widgets/base",
            "_view_module_version": "1.2.0",
            "_view_name": "LayoutView",
            "align_content": null,
            "align_items": "center",
            "align_self": null,
            "border": null,
            "bottom": null,
            "display": "flex",
            "flex": null,
            "flex_flow": "column",
            "grid_area": null,
            "grid_auto_columns": null,
            "grid_auto_flow": null,
            "grid_auto_rows": null,
            "grid_column": null,
            "grid_gap": null,
            "grid_row": null,
            "grid_template_areas": null,
            "grid_template_columns": null,
            "grid_template_rows": null,
            "height": null,
            "justify_content": null,
            "justify_items": null,
            "left": null,
            "margin": null,
            "max_height": null,
            "max_width": null,
            "min_height": null,
            "min_width": null,
            "object_fit": null,
            "object_position": null,
            "order": null,
            "overflow": null,
            "overflow_x": null,
            "overflow_y": null,
            "padding": null,
            "right": null,
            "top": null,
            "visibility": null,
            "width": "50%"
          }
        },
        "aef09d255d024878be6713ee3b7614e0": {
          "model_module": "@jupyter-widgets/controls",
          "model_module_version": "1.5.0",
          "model_name": "LabelModel",
          "state": {
            "_dom_classes": [],
            "_model_module": "@jupyter-widgets/controls",
            "_model_module_version": "1.5.0",
            "_model_name": "LabelModel",
            "_view_count": null,
            "_view_module": "@jupyter-widgets/controls",
            "_view_module_version": "1.5.0",
            "_view_name": "LabelView",
            "description": "",
            "description_tooltip": null,
            "layout": "IPY_MODEL_0d86ce0771b544a3bc0afe7bfeba55e5",
            "placeholder": "​",
            "style": "IPY_MODEL_a61e3461ae6b4a7aaf47e4fa625cd8e9",
            "value": "Your token has been saved in your configured git credential helpers (store)."
          }
        },
        "b8e39535ec3047f5a3f8d85751550deb": {
          "model_module": "@jupyter-widgets/base",
          "model_module_version": "1.2.0",
          "model_name": "LayoutModel",
          "state": {
            "_model_module": "@jupyter-widgets/base",
            "_model_module_version": "1.2.0",
            "_model_name": "LayoutModel",
            "_view_count": null,
            "_view_module": "@jupyter-widgets/base",
            "_view_module_version": "1.2.0",
            "_view_name": "LayoutView",
            "align_content": null,
            "align_items": null,
            "align_self": null,
            "border": null,
            "bottom": null,
            "display": null,
            "flex": null,
            "flex_flow": null,
            "grid_area": null,
            "grid_auto_columns": null,
            "grid_auto_flow": null,
            "grid_auto_rows": null,
            "grid_column": null,
            "grid_gap": null,
            "grid_row": null,
            "grid_template_areas": null,
            "grid_template_columns": null,
            "grid_template_rows": null,
            "height": null,
            "justify_content": null,
            "justify_items": null,
            "left": null,
            "margin": null,
            "max_height": null,
            "max_width": null,
            "min_height": null,
            "min_width": null,
            "object_fit": null,
            "object_position": null,
            "order": null,
            "overflow": null,
            "overflow_x": null,
            "overflow_y": null,
            "padding": null,
            "right": null,
            "top": null,
            "visibility": null,
            "width": null
          }
        },
        "c0080b870fd540b8b7098f13ebc0522e": {
          "model_module": "@jupyter-widgets/controls",
          "model_module_version": "1.5.0",
          "model_name": "HTMLModel",
          "state": {
            "_dom_classes": [],
            "_model_module": "@jupyter-widgets/controls",
            "_model_module_version": "1.5.0",
            "_model_name": "HTMLModel",
            "_view_count": null,
            "_view_module": "@jupyter-widgets/controls",
            "_view_module_version": "1.5.0",
            "_view_name": "HTMLView",
            "description": "",
            "description_tooltip": null,
            "layout": "IPY_MODEL_938acc089c5847999c62dc6f7c833798",
            "placeholder": "​",
            "style": "IPY_MODEL_9592e2f41b0a4611bdc84a2b00eb5eda",
            "value": " 11/11 [01:31&lt;00:00,  6.30s/it]"
          }
        },
        "c2110c1a2f664a6b9d5fc9e7f2e2f62c": {
          "model_module": "@jupyter-widgets/controls",
          "model_module_version": "1.5.0",
          "model_name": "ButtonStyleModel",
          "state": {
            "_model_module": "@jupyter-widgets/controls",
            "_model_module_version": "1.5.0",
            "_model_name": "ButtonStyleModel",
            "_view_count": null,
            "_view_module": "@jupyter-widgets/base",
            "_view_module_version": "1.2.0",
            "_view_name": "StyleView",
            "button_color": null,
            "font_weight": ""
          }
        },
        "c255f15372984274901df2b24d65175e": {
          "model_module": "@jupyter-widgets/controls",
          "model_module_version": "1.5.0",
          "model_name": "ProgressStyleModel",
          "state": {
            "_model_module": "@jupyter-widgets/controls",
            "_model_module_version": "1.5.0",
            "_model_name": "ProgressStyleModel",
            "_view_count": null,
            "_view_module": "@jupyter-widgets/base",
            "_view_module_version": "1.2.0",
            "_view_name": "StyleView",
            "bar_color": null,
            "description_width": ""
          }
        },
        "c41a39be8fc34ead88cdcb320a7b4393": {
          "model_module": "@jupyter-widgets/controls",
          "model_module_version": "1.5.0",
          "model_name": "FloatProgressModel",
          "state": {
            "_dom_classes": [],
            "_model_module": "@jupyter-widgets/controls",
            "_model_module_version": "1.5.0",
            "_model_name": "FloatProgressModel",
            "_view_count": null,
            "_view_module": "@jupyter-widgets/controls",
            "_view_module_version": "1.5.0",
            "_view_name": "ProgressView",
            "bar_style": "success",
            "description": "",
            "description_tooltip": null,
            "layout": "IPY_MODEL_315fca50c1664aa1b3668023da9bdf53",
            "max": 11,
            "min": 0,
            "orientation": "horizontal",
            "style": "IPY_MODEL_66909059465a49be9fd1ad72fc70ac25",
            "value": 11
          }
        },
        "c47336d263ee48e68a91796cc7c8bc14": {
          "model_module": "@jupyter-widgets/controls",
          "model_module_version": "1.5.0",
          "model_name": "ButtonModel",
          "state": {
            "_dom_classes": [],
            "_model_module": "@jupyter-widgets/controls",
            "_model_module_version": "1.5.0",
            "_model_name": "ButtonModel",
            "_view_count": null,
            "_view_module": "@jupyter-widgets/controls",
            "_view_module_version": "1.5.0",
            "_view_name": "ButtonView",
            "button_style": "",
            "description": "Login",
            "disabled": false,
            "icon": "",
            "layout": "IPY_MODEL_33a543cdf3814e21b0acee611bfdefc2",
            "style": "IPY_MODEL_c2110c1a2f664a6b9d5fc9e7f2e2f62c",
            "tooltip": ""
          }
        },
        "cb5b30d79317420a834f744a2b651cd6": {
          "model_module": "@jupyter-widgets/controls",
          "model_module_version": "1.5.0",
          "model_name": "DescriptionStyleModel",
          "state": {
            "_model_module": "@jupyter-widgets/controls",
            "_model_module_version": "1.5.0",
            "_model_name": "DescriptionStyleModel",
            "_view_count": null,
            "_view_module": "@jupyter-widgets/base",
            "_view_module_version": "1.2.0",
            "_view_name": "StyleView",
            "description_width": ""
          }
        },
        "ce1ac033e99f4384b75896f6cc558484": {
          "model_module": "@jupyter-widgets/base",
          "model_module_version": "1.2.0",
          "model_name": "LayoutModel",
          "state": {
            "_model_module": "@jupyter-widgets/base",
            "_model_module_version": "1.2.0",
            "_model_name": "LayoutModel",
            "_view_count": null,
            "_view_module": "@jupyter-widgets/base",
            "_view_module_version": "1.2.0",
            "_view_name": "LayoutView",
            "align_content": null,
            "align_items": null,
            "align_self": null,
            "border": null,
            "bottom": null,
            "display": null,
            "flex": null,
            "flex_flow": null,
            "grid_area": null,
            "grid_auto_columns": null,
            "grid_auto_flow": null,
            "grid_auto_rows": null,
            "grid_column": null,
            "grid_gap": null,
            "grid_row": null,
            "grid_template_areas": null,
            "grid_template_columns": null,
            "grid_template_rows": null,
            "height": null,
            "justify_content": null,
            "justify_items": null,
            "left": null,
            "margin": null,
            "max_height": null,
            "max_width": null,
            "min_height": null,
            "min_width": null,
            "object_fit": null,
            "object_position": null,
            "order": null,
            "overflow": null,
            "overflow_x": null,
            "overflow_y": null,
            "padding": null,
            "right": null,
            "top": null,
            "visibility": null,
            "width": null
          }
        },
        "d5450de925d64bf0a1de72c2898ea320": {
          "model_module": "@jupyter-widgets/controls",
          "model_module_version": "1.5.0",
          "model_name": "DescriptionStyleModel",
          "state": {
            "_model_module": "@jupyter-widgets/controls",
            "_model_module_version": "1.5.0",
            "_model_name": "DescriptionStyleModel",
            "_view_count": null,
            "_view_module": "@jupyter-widgets/base",
            "_view_module_version": "1.2.0",
            "_view_name": "StyleView",
            "description_width": ""
          }
        },
        "d881c7ecfb154cb3b8ba3d9280e3fcee": {
          "model_module": "@jupyter-widgets/base",
          "model_module_version": "1.2.0",
          "model_name": "LayoutModel",
          "state": {
            "_model_module": "@jupyter-widgets/base",
            "_model_module_version": "1.2.0",
            "_model_name": "LayoutModel",
            "_view_count": null,
            "_view_module": "@jupyter-widgets/base",
            "_view_module_version": "1.2.0",
            "_view_name": "LayoutView",
            "align_content": null,
            "align_items": null,
            "align_self": null,
            "border": null,
            "bottom": null,
            "display": null,
            "flex": null,
            "flex_flow": null,
            "grid_area": null,
            "grid_auto_columns": null,
            "grid_auto_flow": null,
            "grid_auto_rows": null,
            "grid_column": null,
            "grid_gap": null,
            "grid_row": null,
            "grid_template_areas": null,
            "grid_template_columns": null,
            "grid_template_rows": null,
            "height": null,
            "justify_content": null,
            "justify_items": null,
            "left": null,
            "margin": null,
            "max_height": null,
            "max_width": null,
            "min_height": null,
            "min_width": null,
            "object_fit": null,
            "object_position": null,
            "order": null,
            "overflow": null,
            "overflow_x": null,
            "overflow_y": null,
            "padding": null,
            "right": null,
            "top": null,
            "visibility": null,
            "width": null
          }
        },
        "dcb191684df24ddda88dca1ad9d5e64c": {
          "model_module": "@jupyter-widgets/controls",
          "model_module_version": "1.5.0",
          "model_name": "HTMLModel",
          "state": {
            "_dom_classes": [],
            "_model_module": "@jupyter-widgets/controls",
            "_model_module_version": "1.5.0",
            "_model_name": "HTMLModel",
            "_view_count": null,
            "_view_module": "@jupyter-widgets/controls",
            "_view_module_version": "1.5.0",
            "_view_name": "HTMLView",
            "description": "",
            "description_tooltip": null,
            "layout": "IPY_MODEL_a3bcd7ca12664895a717048cd6cea3c4",
            "placeholder": "​",
            "style": "IPY_MODEL_5874e1638b354a0ebeebe001304e9abf",
            "value": "pytorch_model.bin: 100%"
          }
        },
        "e626c034bac14aaa93ebc9443610786b": {
          "model_module": "@jupyter-widgets/controls",
          "model_module_version": "1.5.0",
          "model_name": "DescriptionStyleModel",
          "state": {
            "_model_module": "@jupyter-widgets/controls",
            "_model_module_version": "1.5.0",
            "_model_name": "DescriptionStyleModel",
            "_view_count": null,
            "_view_module": "@jupyter-widgets/base",
            "_view_module_version": "1.2.0",
            "_view_name": "StyleView",
            "description_width": ""
          }
        },
        "e88a0310cf064d1faac4cb31dc89cb0b": {
          "model_module": "@jupyter-widgets/controls",
          "model_module_version": "1.5.0",
          "model_name": "HTMLModel",
          "state": {
            "_dom_classes": [],
            "_model_module": "@jupyter-widgets/controls",
            "_model_module_version": "1.5.0",
            "_model_name": "HTMLModel",
            "_view_count": null,
            "_view_module": "@jupyter-widgets/controls",
            "_view_module_version": "1.5.0",
            "_view_name": "HTMLView",
            "description": "",
            "description_tooltip": null,
            "layout": "IPY_MODEL_8a4de70952af4d24b1b35f07043037ef",
            "placeholder": "​",
            "style": "IPY_MODEL_5991dd9d6e1e474aae63d5a70698a6ab",
            "value": "Loading checkpoint shards: 100%"
          }
        },
        "fac0a8d672a44a5ab2fee7a38bf0731c": {
          "model_module": "@jupyter-widgets/controls",
          "model_module_version": "1.5.0",
          "model_name": "HTMLModel",
          "state": {
            "_dom_classes": [],
            "_model_module": "@jupyter-widgets/controls",
            "_model_module_version": "1.5.0",
            "_model_name": "HTMLModel",
            "_view_count": null,
            "_view_module": "@jupyter-widgets/controls",
            "_view_module_version": "1.5.0",
            "_view_name": "HTMLView",
            "description": "",
            "description_tooltip": null,
            "layout": "IPY_MODEL_a1f2944305854ec8bb9d3bbb46327b00",
            "placeholder": "​",
            "style": "IPY_MODEL_334b291ee3f04878b826d124fc68f738",
            "value": " 11/11 [01:25&lt;00:00,  5.36s/it]"
          }
        },
        "fd3650f92d884e6e9b65a3e008ec3449": {
          "model_module": "@jupyter-widgets/controls",
          "model_module_version": "1.5.0",
          "model_name": "DescriptionStyleModel",
          "state": {
            "_model_module": "@jupyter-widgets/controls",
            "_model_module_version": "1.5.0",
            "_model_name": "DescriptionStyleModel",
            "_view_count": null,
            "_view_module": "@jupyter-widgets/base",
            "_view_module_version": "1.2.0",
            "_view_name": "StyleView",
            "description_width": ""
          }
        }
      }
    }
  },
  "nbformat": 4,
  "nbformat_minor": 0
}
